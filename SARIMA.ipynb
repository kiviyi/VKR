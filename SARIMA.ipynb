{
 "cells": [
  {
   "cell_type": "code",
   "execution_count": 1,
   "id": "6e227480",
   "metadata": {},
   "outputs": [],
   "source": [
    "import pandas as pd\n",
    "import numpy as np\n",
    "import matplotlib.pyplot as plt\n",
    "import optuna\n",
    "from statsmodels.tsa.statespace.sarimax import SARIMAX\n",
    "from sklearn.metrics import mean_squared_error, mean_absolute_error, r2_score\n",
    "from scipy.stats import pearsonr"
   ]
  },
  {
   "cell_type": "markdown",
   "id": "68b9ba83",
   "metadata": {},
   "source": [
    "Загрузка  и подготовка данных"
   ]
  },
  {
   "cell_type": "code",
   "execution_count": 2,
   "id": "8cfd2706",
   "metadata": {},
   "outputs": [],
   "source": [
    "df = pd.read_csv(\"daily_accidents.csv\", parse_dates=[\"CRASH DATE\"])\n",
    "df = df.sort_values(\"CRASH DATE\")\n",
    "df.set_index(\"CRASH DATE\", inplace=True)\n",
    "df.index.freq = 'D'\n",
    "y = df[\"ACCIDENT_COUNT\"]"
   ]
  },
  {
   "cell_type": "code",
   "execution_count": 3,
   "id": "31f6b9e2",
   "metadata": {},
   "outputs": [],
   "source": [
    "train_size = int(len(y) * 0.8)\n",
    "train, test = y.iloc[:train_size], y.iloc[train_size:]"
   ]
  },
  {
   "cell_type": "markdown",
   "id": "3a14034d",
   "metadata": {},
   "source": [
    "Функция подбора гиперпараметров"
   ]
  },
  {
   "cell_type": "code",
   "execution_count": null,
   "id": "890acd01",
   "metadata": {},
   "outputs": [],
   "source": [
    "def objective(trial):\n",
    "    p = trial.suggest_int(\"p\", 0, 3)\n",
    "    q = trial.suggest_int(\"q\", 0, 3)\n",
    "    d = 1  # фиксировано по ADF\n",
    "    P = trial.suggest_int(\"P\", 0, 2)\n",
    "    Q = trial.suggest_int(\"Q\", 0, 2)\n",
    "    D = trial.suggest_int(\"D\", 0, 1)\n",
    "    m = 7  # недельная сезонность\n",
    "\n",
    "    try:\n",
    "        model = SARIMAX(train,\n",
    "                        order=(p, d, q),\n",
    "                        seasonal_order=(P, D, Q, m),\n",
    "                        enforce_stationarity=False,\n",
    "                        enforce_invertibility=False)\n",
    "        model_fit = model.fit(disp=False)\n",
    "\n",
    "        # Проверка сходимости модели\n",
    "        if not model_fit.mle_retvals['converged']:\n",
    "            return float(\"inf\")\n",
    "\n",
    "        preds = model_fit.predict(start=len(train), end=len(y)-1)\n",
    "        return mean_squared_error(test, preds)\n",
    "\n",
    "    except:\n",
    "        return float(\"inf\")\n"
   ]
  },
  {
   "cell_type": "markdown",
   "id": "cd924e26",
   "metadata": {},
   "source": [
    "Подбор гиперпараметров"
   ]
  },
  {
   "cell_type": "code",
   "execution_count": 11,
   "id": "1ef899bc",
   "metadata": {},
   "outputs": [
    {
     "name": "stderr",
     "output_type": "stream",
     "text": [
      "[I 2025-05-06 02:29:49,375] A new study created in memory with name: no-name-5825b210-fd1c-4df7-bfd6-6066641a88e4\n",
      "[I 2025-05-06 02:29:56,928] Trial 0 finished with value: 1744.6752533528843 and parameters: {'p': 2, 'q': 1, 'P': 1, 'Q': 0, 'D': 1}. Best is trial 0 with value: 1744.6752533528843.\n",
      "[I 2025-05-06 02:30:03,340] Trial 1 finished with value: 1379.06151194527 and parameters: {'p': 1, 'q': 0, 'P': 0, 'Q': 2, 'D': 1}. Best is trial 1 with value: 1379.06151194527.\n",
      "[I 2025-05-06 02:30:06,436] Trial 2 finished with value: 1389.3483825791104 and parameters: {'p': 2, 'q': 0, 'P': 1, 'Q': 1, 'D': 0}. Best is trial 1 with value: 1379.06151194527.\n",
      "[I 2025-05-06 02:30:07,059] Trial 3 finished with value: 3588.1946245306995 and parameters: {'p': 0, 'q': 1, 'P': 0, 'Q': 1, 'D': 0}. Best is trial 1 with value: 1379.06151194527.\n",
      "c:\\Users\\asus rog\\anaconda3\\lib\\site-packages\\statsmodels\\base\\model.py:607: ConvergenceWarning: Maximum Likelihood optimization failed to converge. Check mle_retvals\n",
      "  warnings.warn(\"Maximum Likelihood optimization failed to \"\n",
      "[I 2025-05-06 02:30:23,325] Trial 4 finished with value: inf and parameters: {'p': 2, 'q': 0, 'P': 2, 'Q': 2, 'D': 1}. Best is trial 1 with value: 1379.06151194527.\n",
      "c:\\Users\\asus rog\\anaconda3\\lib\\site-packages\\statsmodels\\base\\model.py:607: ConvergenceWarning: Maximum Likelihood optimization failed to converge. Check mle_retvals\n",
      "  warnings.warn(\"Maximum Likelihood optimization failed to \"\n",
      "[I 2025-05-06 02:30:48,366] Trial 5 finished with value: inf and parameters: {'p': 3, 'q': 2, 'P': 2, 'Q': 2, 'D': 0}. Best is trial 1 with value: 1379.06151194527.\n",
      "c:\\Users\\asus rog\\anaconda3\\lib\\site-packages\\statsmodels\\base\\model.py:607: ConvergenceWarning: Maximum Likelihood optimization failed to converge. Check mle_retvals\n",
      "  warnings.warn(\"Maximum Likelihood optimization failed to \"\n",
      "[I 2025-05-06 02:31:18,251] Trial 6 finished with value: inf and parameters: {'p': 1, 'q': 3, 'P': 2, 'Q': 2, 'D': 1}. Best is trial 1 with value: 1379.06151194527.\n",
      "c:\\Users\\asus rog\\anaconda3\\lib\\site-packages\\statsmodels\\base\\model.py:607: ConvergenceWarning: Maximum Likelihood optimization failed to converge. Check mle_retvals\n",
      "  warnings.warn(\"Maximum Likelihood optimization failed to \"\n",
      "[I 2025-05-06 02:31:26,464] Trial 7 finished with value: inf and parameters: {'p': 2, 'q': 3, 'P': 0, 'Q': 2, 'D': 0}. Best is trial 1 with value: 1379.06151194527.\n",
      "[I 2025-05-06 02:31:39,400] Trial 8 finished with value: 2295.7737002792046 and parameters: {'p': 2, 'q': 1, 'P': 0, 'Q': 2, 'D': 1}. Best is trial 1 with value: 1379.06151194527.\n",
      "c:\\Users\\asus rog\\anaconda3\\lib\\site-packages\\statsmodels\\base\\model.py:607: ConvergenceWarning: Maximum Likelihood optimization failed to converge. Check mle_retvals\n",
      "  warnings.warn(\"Maximum Likelihood optimization failed to \"\n",
      "[I 2025-05-06 02:31:54,053] Trial 9 finished with value: inf and parameters: {'p': 2, 'q': 1, 'P': 2, 'Q': 1, 'D': 0}. Best is trial 1 with value: 1379.06151194527.\n",
      "[I 2025-05-06 02:31:54,202] Trial 10 finished with value: 522096.6827438318 and parameters: {'p': 0, 'q': 0, 'P': 0, 'Q': 0, 'D': 1}. Best is trial 1 with value: 1379.06151194527.\n",
      "[I 2025-05-06 02:31:56,123] Trial 11 finished with value: 1102.2867161892807 and parameters: {'p': 1, 'q': 0, 'P': 1, 'Q': 1, 'D': 0}. Best is trial 11 with value: 1102.2867161892807.\n",
      "[I 2025-05-06 02:31:58,815] Trial 12 finished with value: 1372.1270475938584 and parameters: {'p': 1, 'q': 0, 'P': 1, 'Q': 1, 'D': 1}. Best is trial 11 with value: 1102.2867161892807.\n",
      "c:\\Users\\asus rog\\anaconda3\\lib\\site-packages\\statsmodels\\base\\model.py:607: ConvergenceWarning: Maximum Likelihood optimization failed to converge. Check mle_retvals\n",
      "  warnings.warn(\"Maximum Likelihood optimization failed to \"\n",
      "[I 2025-05-06 02:32:04,113] Trial 13 finished with value: inf and parameters: {'p': 1, 'q': 2, 'P': 1, 'Q': 1, 'D': 0}. Best is trial 11 with value: 1102.2867161892807.\n",
      "[I 2025-05-06 02:32:04,237] Trial 14 finished with value: 1244.0391538495737 and parameters: {'p': 0, 'q': 0, 'P': 1, 'Q': 0, 'D': 0}. Best is trial 11 with value: 1102.2867161892807.\n",
      "[I 2025-05-06 02:32:04,362] Trial 15 finished with value: 1244.0391538495737 and parameters: {'p': 0, 'q': 0, 'P': 1, 'Q': 0, 'D': 0}. Best is trial 11 with value: 1102.2867161892807.\n",
      "[I 2025-05-06 02:32:05,208] Trial 16 finished with value: 3045.0215713681755 and parameters: {'p': 0, 'q': 2, 'P': 1, 'Q': 0, 'D': 0}. Best is trial 11 with value: 1102.2867161892807.\n",
      "[I 2025-05-06 02:32:05,849] Trial 17 finished with value: 4127.109401847279 and parameters: {'p': 0, 'q': 1, 'P': 1, 'Q': 0, 'D': 0}. Best is trial 11 with value: 1102.2867161892807.\n",
      "[I 2025-05-06 02:32:10,260] Trial 18 finished with value: 1108.9177841942878 and parameters: {'p': 1, 'q': 0, 'P': 2, 'Q': 1, 'D': 0}. Best is trial 11 with value: 1102.2867161892807.\n",
      "c:\\Users\\asus rog\\anaconda3\\lib\\site-packages\\statsmodels\\base\\model.py:607: ConvergenceWarning: Maximum Likelihood optimization failed to converge. Check mle_retvals\n",
      "  warnings.warn(\"Maximum Likelihood optimization failed to \"\n",
      "[I 2025-05-06 02:32:28,929] Trial 19 finished with value: inf and parameters: {'p': 3, 'q': 1, 'P': 2, 'Q': 1, 'D': 0}. Best is trial 11 with value: 1102.2867161892807.\n",
      "[I 2025-05-06 02:32:34,136] Trial 20 finished with value: 1108.9177841942878 and parameters: {'p': 1, 'q': 0, 'P': 2, 'Q': 1, 'D': 0}. Best is trial 11 with value: 1102.2867161892807.\n",
      "[I 2025-05-06 02:32:38,349] Trial 21 finished with value: 1108.9177841942878 and parameters: {'p': 1, 'q': 0, 'P': 2, 'Q': 1, 'D': 0}. Best is trial 11 with value: 1102.2867161892807.\n",
      "[I 2025-05-06 02:32:42,425] Trial 22 finished with value: 1108.9177841942878 and parameters: {'p': 1, 'q': 0, 'P': 2, 'Q': 1, 'D': 0}. Best is trial 11 with value: 1102.2867161892807.\n",
      "[I 2025-05-06 02:32:46,669] Trial 23 finished with value: 1108.9177841942878 and parameters: {'p': 1, 'q': 0, 'P': 2, 'Q': 1, 'D': 0}. Best is trial 11 with value: 1102.2867161892807.\n",
      "c:\\Users\\asus rog\\anaconda3\\lib\\site-packages\\statsmodels\\base\\model.py:607: ConvergenceWarning: Maximum Likelihood optimization failed to converge. Check mle_retvals\n",
      "  warnings.warn(\"Maximum Likelihood optimization failed to \"\n",
      "[I 2025-05-06 02:32:52,413] Trial 24 finished with value: inf and parameters: {'p': 1, 'q': 1, 'P': 2, 'Q': 1, 'D': 0}. Best is trial 11 with value: 1102.2867161892807.\n",
      "[I 2025-05-06 02:32:56,590] Trial 25 finished with value: 1108.9177841942878 and parameters: {'p': 1, 'q': 0, 'P': 2, 'Q': 1, 'D': 0}. Best is trial 11 with value: 1102.2867161892807.\n",
      "[I 2025-05-06 02:32:59,157] Trial 26 finished with value: 2716.9942729153504 and parameters: {'p': 1, 'q': 1, 'P': 1, 'Q': 1, 'D': 0}. Best is trial 11 with value: 1102.2867161892807.\n",
      "[I 2025-05-06 02:33:03,340] Trial 27 finished with value: 1108.9177841942878 and parameters: {'p': 1, 'q': 0, 'P': 2, 'Q': 1, 'D': 0}. Best is trial 11 with value: 1102.2867161892807.\n",
      "c:\\Users\\asus rog\\anaconda3\\lib\\site-packages\\statsmodels\\base\\model.py:607: ConvergenceWarning: Maximum Likelihood optimization failed to converge. Check mle_retvals\n",
      "  warnings.warn(\"Maximum Likelihood optimization failed to \"\n",
      "[I 2025-05-06 02:33:09,209] Trial 28 finished with value: inf and parameters: {'p': 2, 'q': 2, 'P': 1, 'Q': 1, 'D': 0}. Best is trial 11 with value: 1102.2867161892807.\n",
      "[I 2025-05-06 02:33:14,637] Trial 29 finished with value: 2943.135785434419 and parameters: {'p': 3, 'q': 1, 'P': 2, 'Q': 0, 'D': 0}. Best is trial 11 with value: 1102.2867161892807.\n",
      "[I 2025-05-06 02:33:16,627] Trial 30 finished with value: 4342.285529658179 and parameters: {'p': 0, 'q': 0, 'P': 1, 'Q': 1, 'D': 0}. Best is trial 11 with value: 1102.2867161892807.\n",
      "[I 2025-05-06 02:33:21,092] Trial 31 finished with value: 1108.9177841942878 and parameters: {'p': 1, 'q': 0, 'P': 2, 'Q': 1, 'D': 0}. Best is trial 11 with value: 1102.2867161892807.\n",
      "[I 2025-05-06 02:33:25,532] Trial 32 finished with value: 1108.9177841942878 and parameters: {'p': 1, 'q': 0, 'P': 2, 'Q': 1, 'D': 0}. Best is trial 11 with value: 1102.2867161892807.\n",
      "[I 2025-05-06 02:33:31,382] Trial 33 finished with value: 1108.9177841942878 and parameters: {'p': 1, 'q': 0, 'P': 2, 'Q': 1, 'D': 0}. Best is trial 11 with value: 1102.2867161892807.\n",
      "[I 2025-05-06 02:33:36,010] Trial 34 finished with value: 1108.9177841942878 and parameters: {'p': 1, 'q': 0, 'P': 2, 'Q': 1, 'D': 0}. Best is trial 11 with value: 1102.2867161892807.\n",
      "[I 2025-05-06 02:33:40,413] Trial 35 finished with value: 1108.9177841942878 and parameters: {'p': 1, 'q': 0, 'P': 2, 'Q': 1, 'D': 0}. Best is trial 11 with value: 1102.2867161892807.\n",
      "c:\\Users\\asus rog\\anaconda3\\lib\\site-packages\\statsmodels\\base\\model.py:607: ConvergenceWarning: Maximum Likelihood optimization failed to converge. Check mle_retvals\n",
      "  warnings.warn(\"Maximum Likelihood optimization failed to \"\n",
      "[I 2025-05-06 02:33:53,648] Trial 36 finished with value: inf and parameters: {'p': 2, 'q': 0, 'P': 2, 'Q': 2, 'D': 0}. Best is trial 11 with value: 1102.2867161892807.\n",
      "[I 2025-05-06 02:34:00,931] Trial 37 finished with value: 2699.1148757682845 and parameters: {'p': 1, 'q': 1, 'P': 1, 'Q': 1, 'D': 1}. Best is trial 11 with value: 1102.2867161892807.\n",
      "c:\\Users\\asus rog\\anaconda3\\lib\\site-packages\\statsmodels\\base\\model.py:607: ConvergenceWarning: Maximum Likelihood optimization failed to converge. Check mle_retvals\n",
      "  warnings.warn(\"Maximum Likelihood optimization failed to \"\n",
      "[I 2025-05-06 02:34:13,232] Trial 38 finished with value: inf and parameters: {'p': 2, 'q': 0, 'P': 2, 'Q': 2, 'D': 0}. Best is trial 11 with value: 1102.2867161892807.\n",
      "[I 2025-05-06 02:34:16,516] Trial 39 finished with value: 2972.6614455080035 and parameters: {'p': 0, 'q': 3, 'P': 0, 'Q': 2, 'D': 0}. Best is trial 11 with value: 1102.2867161892807.\n",
      "[I 2025-05-06 02:34:23,782] Trial 40 finished with value: 2699.1148757682845 and parameters: {'p': 1, 'q': 1, 'P': 1, 'Q': 1, 'D': 1}. Best is trial 11 with value: 1102.2867161892807.\n",
      "[I 2025-05-06 02:34:28,487] Trial 41 finished with value: 1108.9177841942878 and parameters: {'p': 1, 'q': 0, 'P': 2, 'Q': 1, 'D': 0}. Best is trial 11 with value: 1102.2867161892807.\n",
      "[I 2025-05-06 02:34:33,076] Trial 42 finished with value: 1108.9177841942878 and parameters: {'p': 1, 'q': 0, 'P': 2, 'Q': 1, 'D': 0}. Best is trial 11 with value: 1102.2867161892807.\n",
      "[I 2025-05-06 02:34:37,578] Trial 43 finished with value: 1108.9177841942878 and parameters: {'p': 1, 'q': 0, 'P': 2, 'Q': 1, 'D': 0}. Best is trial 11 with value: 1102.2867161892807.\n",
      "[I 2025-05-06 02:34:41,916] Trial 44 finished with value: 1108.9177841942878 and parameters: {'p': 1, 'q': 0, 'P': 2, 'Q': 1, 'D': 0}. Best is trial 11 with value: 1102.2867161892807.\n",
      "c:\\Users\\asus rog\\anaconda3\\lib\\site-packages\\statsmodels\\base\\model.py:607: ConvergenceWarning: Maximum Likelihood optimization failed to converge. Check mle_retvals\n",
      "  warnings.warn(\"Maximum Likelihood optimization failed to \"\n",
      "[I 2025-05-06 02:34:54,874] Trial 45 finished with value: inf and parameters: {'p': 2, 'q': 0, 'P': 2, 'Q': 1, 'D': 0}. Best is trial 11 with value: 1102.2867161892807.\n",
      "[I 2025-05-06 02:34:59,003] Trial 46 finished with value: 1108.9177841942878 and parameters: {'p': 1, 'q': 0, 'P': 2, 'Q': 1, 'D': 0}. Best is trial 11 with value: 1102.2867161892807.\n",
      "[I 2025-05-06 02:35:01,447] Trial 47 finished with value: 2716.9942729153504 and parameters: {'p': 1, 'q': 1, 'P': 1, 'Q': 1, 'D': 0}. Best is trial 11 with value: 1102.2867161892807.\n",
      "c:\\Users\\asus rog\\anaconda3\\lib\\site-packages\\statsmodels\\base\\model.py:607: ConvergenceWarning: Maximum Likelihood optimization failed to converge. Check mle_retvals\n",
      "  warnings.warn(\"Maximum Likelihood optimization failed to \"\n",
      "[I 2025-05-06 02:35:16,858] Trial 48 finished with value: inf and parameters: {'p': 2, 'q': 0, 'P': 2, 'Q': 2, 'D': 1}. Best is trial 11 with value: 1102.2867161892807.\n",
      "[I 2025-05-06 02:35:16,944] Trial 49 finished with value: 1304.0921757770632 and parameters: {'p': 0, 'q': 0, 'P': 0, 'Q': 0, 'D': 0}. Best is trial 11 with value: 1102.2867161892807.\n"
     ]
    },
    {
     "name": "stdout",
     "output_type": "stream",
     "text": [
      "Лучшие параметры: {'p': 1, 'q': 0, 'P': 1, 'Q': 1, 'D': 0}\n"
     ]
    }
   ],
   "source": [
    "study = optuna.create_study(direction=\"minimize\")\n",
    "study.optimize(objective, n_trials=50)\n",
    "print(\"Лучшие параметры:\", study.best_params)"
   ]
  },
  {
   "cell_type": "code",
   "execution_count": 12,
   "id": "1ae9861d",
   "metadata": {},
   "outputs": [],
   "source": [
    "best_params = study.best_params"
   ]
  },
  {
   "cell_type": "markdown",
   "id": "7aa064ee",
   "metadata": {},
   "source": [
    "Обучение"
   ]
  },
  {
   "cell_type": "code",
   "execution_count": 15,
   "id": "63b4e1cc",
   "metadata": {},
   "outputs": [],
   "source": [
    "d = 1  # вручную, т.к. не подбирался\n",
    "best_model = SARIMAX(y,\n",
    "                     order=(best_params[\"p\"], d, best_params[\"q\"]),\n",
    "                     seasonal_order=(best_params[\"P\"], best_params[\"D\"], best_params[\"Q\"], 7),  # m = 7\n",
    "                     enforce_stationarity=False,\n",
    "                     enforce_invertibility=False)\n",
    "model_fit = best_model.fit(disp=False)"
   ]
  },
  {
   "cell_type": "markdown",
   "id": "0bf88353",
   "metadata": {},
   "source": [
    "Предсказание"
   ]
  },
  {
   "cell_type": "code",
   "execution_count": 16,
   "id": "b9730611",
   "metadata": {},
   "outputs": [],
   "source": [
    "preds = model_fit.predict(start=len(train), end=len(y)-1)\n",
    "preds.index = test.index  # выравниваем индексы"
   ]
  },
  {
   "cell_type": "markdown",
   "id": "00dfc80d",
   "metadata": {},
   "source": [
    "Метрики"
   ]
  },
  {
   "cell_type": "code",
   "execution_count": 17,
   "id": "a8f1ecad",
   "metadata": {},
   "outputs": [
    {
     "name": "stdout",
     "output_type": "stream",
     "text": [
      "RMSE: 30.881626907119408, MAE: 24.401035546429853, R²: 0.2407246342734466, Correlation: 0.5800397424182442\n"
     ]
    }
   ],
   "source": [
    "rmse = np.sqrt(mean_squared_error(test, preds))\n",
    "mae = mean_absolute_error(test, preds)\n",
    "r2 = r2_score(test, preds)\n",
    "corr, _ = pearsonr(test.values, preds.values)\n",
    "print(f\"RMSE: {rmse}, MAE: {mae}, R²: {r2}, Correlation: {corr}\")"
   ]
  }
 ],
 "metadata": {
  "kernelspec": {
   "display_name": "base",
   "language": "python",
   "name": "python3"
  },
  "language_info": {
   "codemirror_mode": {
    "name": "ipython",
    "version": 3
   },
   "file_extension": ".py",
   "mimetype": "text/x-python",
   "name": "python",
   "nbconvert_exporter": "python",
   "pygments_lexer": "ipython3",
   "version": "3.9.18"
  }
 },
 "nbformat": 4,
 "nbformat_minor": 5
}
