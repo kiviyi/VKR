{
  "cells": [
    {
      "cell_type": "code",
      "execution_count": null,
      "id": "kGUbZ8xkUXGz",
      "metadata": {
        "colab": {
          "base_uri": "https://localhost:8080/"
        },
        "id": "kGUbZ8xkUXGz",
        "outputId": "4407c27f-8200-452a-80f3-aba2caaccc1e"
      },
      "outputs": [
        {
          "name": "stdout",
          "output_type": "stream",
          "text": [
            "Collecting optuna\n",
            "  Downloading optuna-4.3.0-py3-none-any.whl.metadata (17 kB)\n",
            "Collecting alembic>=1.5.0 (from optuna)\n",
            "  Downloading alembic-1.15.2-py3-none-any.whl.metadata (7.3 kB)\n",
            "Collecting colorlog (from optuna)\n",
            "  Downloading colorlog-6.9.0-py3-none-any.whl.metadata (10 kB)\n",
            "Requirement already satisfied: numpy in /usr/local/lib/python3.11/dist-packages (from optuna) (2.0.2)\n",
            "Requirement already satisfied: packaging>=20.0 in /usr/local/lib/python3.11/dist-packages (from optuna) (24.2)\n",
            "Requirement already satisfied: sqlalchemy>=1.4.2 in /usr/local/lib/python3.11/dist-packages (from optuna) (2.0.40)\n",
            "Requirement already satisfied: tqdm in /usr/local/lib/python3.11/dist-packages (from optuna) (4.67.1)\n",
            "Requirement already satisfied: PyYAML in /usr/local/lib/python3.11/dist-packages (from optuna) (6.0.2)\n",
            "Requirement already satisfied: Mako in /usr/lib/python3/dist-packages (from alembic>=1.5.0->optuna) (1.1.3)\n",
            "Requirement already satisfied: typing-extensions>=4.12 in /usr/local/lib/python3.11/dist-packages (from alembic>=1.5.0->optuna) (4.13.2)\n",
            "Requirement already satisfied: greenlet>=1 in /usr/local/lib/python3.11/dist-packages (from sqlalchemy>=1.4.2->optuna) (3.2.1)\n",
            "Downloading optuna-4.3.0-py3-none-any.whl (386 kB)\n",
            "\u001b[2K   \u001b[90m━━━━━━━━━━━━━━━━━━━━━━━━━━━━━━━━━━━━━━━━\u001b[0m \u001b[32m386.6/386.6 kB\u001b[0m \u001b[31m7.9 MB/s\u001b[0m eta \u001b[36m0:00:00\u001b[0m\n",
            "\u001b[?25hDownloading alembic-1.15.2-py3-none-any.whl (231 kB)\n",
            "\u001b[2K   \u001b[90m━━━━━━━━━━━━━━━━━━━━━━━━━━━━━━━━━━━━━━━━\u001b[0m \u001b[32m231.9/231.9 kB\u001b[0m \u001b[31m16.9 MB/s\u001b[0m eta \u001b[36m0:00:00\u001b[0m\n",
            "\u001b[?25hDownloading colorlog-6.9.0-py3-none-any.whl (11 kB)\n",
            "Installing collected packages: colorlog, alembic, optuna\n",
            "Successfully installed alembic-1.15.2 colorlog-6.9.0 optuna-4.3.0\n"
          ]
        }
      ],
      "source": [
        "!pip install optuna"
      ]
    },
    {
      "cell_type": "code",
      "execution_count": null,
      "id": "e5593e9a",
      "metadata": {
        "id": "e5593e9a"
      },
      "outputs": [],
      "source": [
        "import pandas as pd\n",
        "import numpy as np\n",
        "import torch\n",
        "import torch.nn as nn\n",
        "import torch.optim as optim\n",
        "from sklearn.metrics import mean_squared_error, mean_absolute_error, r2_score\n",
        "from sklearn.preprocessing import MinMaxScaler\n",
        "import matplotlib.pyplot as plt\n",
        "from sklearn.model_selection import train_test_split\n",
        "import time\n",
        "from torch.utils.data import DataLoader, TensorDataset\n",
        "import optuna"
      ]
    },
    {
      "cell_type": "markdown",
      "id": "037d5f46",
      "metadata": {
        "id": "037d5f46"
      },
      "source": [
        "Загрузка данных и создание датасета"
      ]
    },
    {
      "cell_type": "code",
      "execution_count": null,
      "id": "38ff29b5",
      "metadata": {
        "id": "38ff29b5"
      },
      "outputs": [],
      "source": [
        "df = pd.read_csv('daily_accidents_hol_dw_week.csv', parse_dates=['CRASH DATE'])\n",
        "df['CRASH DATE'] = pd.to_datetime(df['CRASH DATE'])\n",
        "df.set_index('CRASH DATE', inplace=True)\n",
        "\n",
        "features = ['CRASH_COUNT', 'is_weekend', 'month', 'is_holiday']\n",
        "df = df[features]"
      ]
    },
    {
      "cell_type": "code",
      "execution_count": null,
      "id": "e5e00e8a",
      "metadata": {
        "id": "e5e00e8a"
      },
      "outputs": [],
      "source": [
        "scaler = MinMaxScaler(feature_range=(-1, 1))\n",
        "df_scaled = scaler.fit_transform(df)"
      ]
    },
    {
      "cell_type": "code",
      "execution_count": null,
      "id": "af77d1de",
      "metadata": {
        "id": "af77d1de"
      },
      "outputs": [],
      "source": [
        "seq_length = 30\n",
        "X, y = [], []\n",
        "\n",
        "for i in range(len(df_scaled) - seq_length):\n",
        "    seq_x = df_scaled[i:i + seq_length]\n",
        "    target_y = df_scaled[i + seq_length][0]\n",
        "    X.append(seq_x)\n",
        "    y.append(target_y)"
      ]
    },
    {
      "cell_type": "code",
      "execution_count": null,
      "id": "b10df4d5",
      "metadata": {
        "id": "b10df4d5"
      },
      "outputs": [],
      "source": [
        "X = np.array(X)\n",
        "y = np.array(y).reshape(-1, 1)\n",
        "\n",
        "X_train, X_test, y_train, y_test = train_test_split(X, y, test_size=0.2, shuffle=False)\n",
        "\n",
        "X_train = torch.tensor(X_train, dtype=torch.float32)\n",
        "X_test = torch.tensor(X_test, dtype=torch.float32)\n",
        "y_train = torch.tensor(y_train, dtype=torch.float32)\n",
        "y_test = torch.tensor(y_test, dtype=torch.float32)\n",
        "train_dataset = TensorDataset(X_train, y_train)\n",
        "test_dataset = TensorDataset(X_test, y_test)\n",
        "\n",
        "train_loader = DataLoader(train_dataset, batch_size=512, shuffle=True)\n",
        "test_loader = DataLoader(test_dataset, batch_size=512)"
      ]
    },
    {
      "cell_type": "markdown",
      "id": "91a7dd87",
      "metadata": {
        "id": "91a7dd87"
      },
      "source": [
        "Модель"
      ]
    },
    {
      "cell_type": "code",
      "execution_count": null,
      "id": "97da4f8e",
      "metadata": {
        "id": "97da4f8e"
      },
      "outputs": [],
      "source": [
        "class PositionalEncoding(nn.Module):\n",
        "    def __init__(self, d_model, max_len=5000, dropout=0.1):\n",
        "        super().__init__()\n",
        "        self.dropout = nn.Dropout(p=dropout)\n",
        "\n",
        "        position = torch.arange(0, max_len).unsqueeze(1).float()\n",
        "        div_term = torch.exp(torch.arange(0, d_model, 2).float() * (-torch.log(torch.tensor(10000.0)) / d_model))\n",
        "\n",
        "        pe = torch.zeros(1, max_len, d_model)\n",
        "        pe[0, :, 0::2] = torch.sin(position * div_term)\n",
        "        pe[0, :, 1::2] = torch.cos(position * div_term)\n",
        "\n",
        "        self.register_buffer('pe', pe)\n",
        "\n",
        "    def forward(self, x):\n",
        "        x = x + self.pe[:, :x.size(1), :]\n",
        "        return self.dropout(x)\n",
        "\n",
        "\n",
        "class LSTransformer(nn.Module):\n",
        "    def __init__(self, input_size, hidden_size, num_layers, num_heads, output_size, dropout=0.1):\n",
        "        super().__init__()\n",
        "\n",
        "        self.lstm = nn.LSTM(input_size, hidden_size, num_layers=num_layers, batch_first=True)\n",
        "\n",
        "        # Важно: приведение input к hidden_size для трансформера\n",
        "        self.input_projection = nn.Linear(input_size, hidden_size)\n",
        "\n",
        "        self.positional_encoding = PositionalEncoding(d_model=hidden_size, dropout=dropout)\n",
        "\n",
        "        encoder_layer = nn.TransformerEncoderLayer(\n",
        "            d_model=hidden_size,\n",
        "            nhead=num_heads,\n",
        "            dim_feedforward=hidden_size * 2,\n",
        "            dropout=dropout,\n",
        "            batch_first=True\n",
        "        )\n",
        "\n",
        "        self.transformer_encoder = nn.TransformerEncoder(encoder_layer, num_layers=1)\n",
        "\n",
        "        self.fusion_fc = nn.Linear(2 * hidden_size, output_size)\n",
        "\n",
        "    def forward(self, x):\n",
        "        # LSTM → last timestep\n",
        "        lstm_out, _ = self.lstm(x)\n",
        "        lstm_last = lstm_out[:, -1, :]\n",
        "\n",
        "        # Transformer → input projected to hidden\n",
        "        projected = self.input_projection(x)  # shape: (batch, seq_len, hidden_size)\n",
        "        transformer_input = self.positional_encoding(projected)\n",
        "        transformer_out = self.transformer_encoder(transformer_input)\n",
        "        transformer_last = transformer_out[:, -1, :]\n",
        "\n",
        "        # Fusion\n",
        "        fused = torch.cat([lstm_last, transformer_last], dim=-1)\n",
        "        return self.fusion_fc(fused)\n"
      ]
    },
    {
      "cell_type": "markdown",
      "id": "d63eb8d7",
      "metadata": {
        "id": "d63eb8d7"
      },
      "source": [
        "Функция подбора гиперпараметров"
      ]
    },
    {
      "cell_type": "code",
      "execution_count": null,
      "id": "URy2MkqIUQuK",
      "metadata": {
        "id": "URy2MkqIUQuK"
      },
      "outputs": [],
      "source": [
        "def objective_lstransformer(trial):\n",
        "    num_heads = trial.suggest_categorical(\"num_heads\", [2, 4, 8])\n",
        "    hidden_size_options = [hs for hs in range(32, 257, 8) if hs % num_heads == 0]\n",
        "    hidden_size = trial.suggest_categorical(\"hidden_size\", hidden_size_options)\n",
        "\n",
        "    num_layers = trial.suggest_int(\"num_layers\", 1, 3)\n",
        "    learning_rate = trial.suggest_float(\"lr\", 1e-4, 1e-2, log=True)\n",
        "    dropout = trial.suggest_float(\"dropout\", 0.0, 0.5)\n",
        "\n",
        "    model = LSTransformer(\n",
        "        input_size=X_train.shape[2],\n",
        "        hidden_size=hidden_size,\n",
        "        num_layers=num_layers,\n",
        "        num_heads=num_heads,\n",
        "        output_size=1,\n",
        "        dropout=dropout\n",
        "    )\n",
        "\n",
        "    optimizer = torch.optim.Adam(model.parameters(), lr=learning_rate)\n",
        "    criterion = nn.MSELoss()\n",
        "\n",
        "    model.train()\n",
        "    for epoch in range(20):\n",
        "        for inputs, labels in train_loader:\n",
        "            inputs, labels = inputs, labels\n",
        "\n",
        "            optimizer.zero_grad()\n",
        "            outputs = model(inputs)\n",
        "            loss = criterion(outputs, labels)\n",
        "            loss.backward()\n",
        "            optimizer.step()\n",
        "\n",
        "    model.eval()\n",
        "    test_loss = 0.0\n",
        "    with torch.no_grad():\n",
        "        for inputs, labels in test_loader:\n",
        "            inputs, labels = inputs, labels\n",
        "            outputs = model(inputs)\n",
        "            loss = criterion(outputs, labels)\n",
        "            test_loss += loss.item()\n",
        "\n",
        "    return test_loss / len(test_loader)\n"
      ]
    },
    {
      "cell_type": "markdown",
      "id": "4a5be094",
      "metadata": {
        "id": "4a5be094"
      },
      "source": [
        "Подбор гиперпараметров"
      ]
    },
    {
      "cell_type": "code",
      "execution_count": 36,
      "id": "irximMX_USDH",
      "metadata": {
        "colab": {
          "base_uri": "https://localhost:8080/"
        },
        "id": "irximMX_USDH",
        "outputId": "6465cac7-53c4-4d61-87a5-c3c18651bac0"
      },
      "outputs": [
        {
          "name": "stderr",
          "output_type": "stream",
          "text": [
            "[I 2025-05-13 20:15:48,501] A new study created in memory with name: no-name-f654e5c8-df4a-44c7-98ce-17c7f44be119\n",
            "[I 2025-05-13 20:16:43,493] Trial 0 finished with value: 0.004017368657514453 and parameters: {'num_heads': 4, 'hidden_size': 104, 'num_layers': 1, 'lr': 0.004834204887587471, 'dropout': 0.448230151818827}. Best is trial 0 with value: 0.004017368657514453.\n",
            "[I 2025-05-13 20:17:16,384] Trial 1 finished with value: 0.003643224365077913 and parameters: {'num_heads': 2, 'hidden_size': 80, 'num_layers': 1, 'lr': 0.0023681708420401014, 'dropout': 0.30023144264093243}. Best is trial 1 with value: 0.003643224365077913.\n",
            "[I 2025-05-13 20:18:35,225] Trial 2 finished with value: 0.00369907240383327 and parameters: {'num_heads': 2, 'hidden_size': 112, 'num_layers': 2, 'lr': 0.00018120944054815066, 'dropout': 0.2302734272057982}. Best is trial 1 with value: 0.003643224365077913.\n",
            "[I 2025-05-13 20:25:37,538] Trial 3 finished with value: 0.004721765872091055 and parameters: {'num_heads': 4, 'hidden_size': 256, 'num_layers': 3, 'lr': 0.0003447343114017815, 'dropout': 0.0028508495778649667}. Best is trial 1 with value: 0.003643224365077913.\n",
            "[I 2025-05-13 20:26:06,911] Trial 4 finished with value: 0.0062427097000181675 and parameters: {'num_heads': 8, 'hidden_size': 40, 'num_layers': 1, 'lr': 0.0004083932946358834, 'dropout': 0.39522347061156815}. Best is trial 1 with value: 0.003643224365077913.\n",
            "[I 2025-05-13 20:28:09,819] Trial 5 finished with value: 0.0069103611167520285 and parameters: {'num_heads': 2, 'hidden_size': 120, 'num_layers': 3, 'lr': 0.0010579007587726739, 'dropout': 0.12265488603607827}. Best is trial 1 with value: 0.003643224365077913.\n",
            "[I 2025-05-13 20:29:50,386] Trial 6 finished with value: 0.003218453610315919 and parameters: {'num_heads': 4, 'hidden_size': 104, 'num_layers': 3, 'lr': 0.007860019328267204, 'dropout': 0.35406126455573217}. Best is trial 6 with value: 0.003218453610315919.\n",
            "[I 2025-05-13 20:32:27,194] Trial 7 finished with value: 0.004076756304129958 and parameters: {'num_heads': 2, 'hidden_size': 216, 'num_layers': 1, 'lr': 0.00018163585538418748, 'dropout': 0.23697000396382617}. Best is trial 6 with value: 0.003218453610315919.\n",
            "[I 2025-05-13 20:36:52,657] Trial 8 finished with value: 0.004044062923640013 and parameters: {'num_heads': 2, 'hidden_size': 200, 'num_layers': 3, 'lr': 0.0005149210269622672, 'dropout': 0.23970455628447213}. Best is trial 6 with value: 0.003218453610315919.\n",
            "[I 2025-05-13 20:39:32,656] Trial 9 finished with value: 0.00385377777274698 and parameters: {'num_heads': 2, 'hidden_size': 176, 'num_layers': 2, 'lr': 0.0009178662640230093, 'dropout': 0.25307812195986074}. Best is trial 6 with value: 0.003218453610315919.\n",
            "[I 2025-05-13 20:44:25,225] Trial 10 finished with value: 0.03702510520815849 and parameters: {'num_heads': 4, 'hidden_size': 208, 'num_layers': 3, 'lr': 0.008994598324260366, 'dropout': 0.3640600704299758}. Best is trial 6 with value: 0.003218453610315919.\n",
            "[I 2025-05-13 20:45:51,484] Trial 11 finished with value: 0.004089194815605879 and parameters: {'num_heads': 8, 'hidden_size': 104, 'num_layers': 2, 'lr': 0.003036061507124136, 'dropout': 0.3276479636132054}. Best is trial 6 with value: 0.003218453610315919.\n",
            "[I 2025-05-13 20:46:31,951] Trial 12 finished with value: 0.003245126805268228 and parameters: {'num_heads': 4, 'hidden_size': 80, 'num_layers': 1, 'lr': 0.002536050135649077, 'dropout': 0.4812168675069769}. Best is trial 6 with value: 0.003218453610315919.\n",
            "[I 2025-05-13 20:51:32,825] Trial 13 finished with value: 0.12257930636405945 and parameters: {'num_heads': 4, 'hidden_size': 248, 'num_layers': 2, 'lr': 0.008482278601305383, 'dropout': 0.47812091177089105}. Best is trial 6 with value: 0.003218453610315919.\n",
            "[I 2025-05-13 20:52:06,086] Trial 14 finished with value: 0.008270470425486565 and parameters: {'num_heads': 4, 'hidden_size': 32, 'num_layers': 2, 'lr': 0.0022343680511861482, 'dropout': 0.49392267977973753}. Best is trial 6 with value: 0.003218453610315919.\n",
            "[I 2025-05-13 20:52:44,256] Trial 15 finished with value: 0.005641126772388816 and parameters: {'num_heads': 4, 'hidden_size': 80, 'num_layers': 1, 'lr': 0.004270500130131984, 'dropout': 0.4218615005880908}. Best is trial 6 with value: 0.003218453610315919.\n",
            "[I 2025-05-13 20:56:37,897] Trial 16 finished with value: 0.004004091722890735 and parameters: {'num_heads': 4, 'hidden_size': 184, 'num_layers': 3, 'lr': 0.001335397038239209, 'dropout': 0.3638900698224856}. Best is trial 6 with value: 0.003218453610315919.\n",
            "[I 2025-05-13 20:57:34,986] Trial 17 finished with value: 0.0050253362860530615 and parameters: {'num_heads': 4, 'hidden_size': 88, 'num_layers': 2, 'lr': 0.004922211721265107, 'dropout': 0.14946161597295696}. Best is trial 6 with value: 0.003218453610315919.\n",
            "[I 2025-05-13 21:00:53,800] Trial 18 finished with value: 0.016078189481049776 and parameters: {'num_heads': 8, 'hidden_size': 240, 'num_layers': 1, 'lr': 0.0016192244976138395, 'dropout': 0.4266285766980105}. Best is trial 6 with value: 0.003218453610315919.\n",
            "[I 2025-05-13 21:05:13,887] Trial 19 finished with value: 0.0036299481289461255 and parameters: {'num_heads': 4, 'hidden_size': 192, 'num_layers': 3, 'lr': 0.006524349904866034, 'dropout': 0.31588092222647507}. Best is trial 6 with value: 0.003218453610315919.\n",
            "[I 2025-05-13 21:05:46,153] Trial 20 finished with value: 0.003594638081267476 and parameters: {'num_heads': 4, 'hidden_size': 56, 'num_layers': 2, 'lr': 0.003373664212525459, 'dropout': 0.37741245872268764}. Best is trial 6 with value: 0.003218453610315919.\n",
            "[I 2025-05-13 21:07:51,409] Trial 21 finished with value: 0.0040466871578246355 and parameters: {'num_heads': 4, 'hidden_size': 136, 'num_layers': 2, 'lr': 0.0029034959207582317, 'dropout': 0.39008603228176497}. Best is trial 6 with value: 0.003218453610315919.\n",
            "[I 2025-05-13 21:08:19,082] Trial 22 finished with value: 0.0033452868228778243 and parameters: {'num_heads': 4, 'hidden_size': 56, 'num_layers': 1, 'lr': 0.0036501331469822296, 'dropout': 0.46056688459899453}. Best is trial 6 with value: 0.003218453610315919.\n",
            "[I 2025-05-13 21:10:02,380] Trial 23 finished with value: 0.004055055440403521 and parameters: {'num_heads': 4, 'hidden_size': 160, 'num_layers': 1, 'lr': 0.006327987948896451, 'dropout': 0.455261893864495}. Best is trial 6 with value: 0.003218453610315919.\n",
            "[I 2025-05-13 21:11:16,604] Trial 24 finished with value: 0.006200758973136544 and parameters: {'num_heads': 4, 'hidden_size': 128, 'num_layers': 1, 'lr': 0.0017158935131012393, 'dropout': 0.4950015204388766}. Best is trial 6 with value: 0.003218453610315919.\n",
            "[I 2025-05-13 21:11:52,178] Trial 25 finished with value: 0.0059319359716027975 and parameters: {'num_heads': 8, 'hidden_size': 56, 'num_layers': 1, 'lr': 0.006887990920350606, 'dropout': 0.4275570174510035}. Best is trial 6 with value: 0.003218453610315919.\n",
            "[I 2025-05-13 21:14:45,854] Trial 26 finished with value: 0.01596929971128702 and parameters: {'num_heads': 4, 'hidden_size': 232, 'num_layers': 1, 'lr': 0.00010327343363624415, 'dropout': 0.45979670450745497}. Best is trial 6 with value: 0.003218453610315919.\n",
            "[I 2025-05-13 21:15:16,442] Trial 27 finished with value: 0.004766247468069196 and parameters: {'num_heads': 4, 'hidden_size': 64, 'num_layers': 1, 'lr': 0.0039423358724442505, 'dropout': 0.34350452062472187}. Best is trial 6 with value: 0.003218453610315919.\n",
            "[I 2025-05-13 21:19:25,123] Trial 28 finished with value: 0.005006381310522556 and parameters: {'num_heads': 4, 'hidden_size': 224, 'num_layers': 2, 'lr': 0.0007556719352495103, 'dropout': 0.2936160852721414}. Best is trial 6 with value: 0.003218453610315919.\n",
            "[I 2025-05-13 21:19:46,374] Trial 29 finished with value: 0.003378063556738198 and parameters: {'num_heads': 4, 'hidden_size': 48, 'num_layers': 1, 'lr': 0.005297902443960475, 'dropout': 0.42498923483704854}. Best is trial 6 with value: 0.003218453610315919.\n"
          ]
        },
        {
          "name": "stdout",
          "output_type": "stream",
          "text": [
            "Best parameters: {'num_heads': 4, 'hidden_size': 104, 'num_layers': 3, 'lr': 0.007860019328267204, 'dropout': 0.35406126455573217}\n"
          ]
        }
      ],
      "source": [
        "study = optuna.create_study(direction=\"minimize\")\n",
        "study.optimize(objective_lstransformer, n_trials=30)\n",
        "\n",
        "print(\"Best parameters:\", study.best_params)"
      ]
    },
    {
      "cell_type": "markdown",
      "id": "179bafcd",
      "metadata": {
        "id": "179bafcd"
      },
      "source": [
        "Параметры модели и инициализация"
      ]
    },
    {
      "cell_type": "code",
      "execution_count": 37,
      "id": "85fffb8f",
      "metadata": {
        "id": "85fffb8f"
      },
      "outputs": [],
      "source": [
        "input_size = X_train.shape[2]\n",
        "hidden_size = 104\n",
        "num_layers = 3\n",
        "num_heads = 4\n",
        "output_size = 1\n",
        "learning_rate = 0.007860019328267204\n",
        "epochs = 400\n",
        "batch_size = 256\n",
        "dropout = 0.35406126455573217"
      ]
    },
    {
      "cell_type": "code",
      "execution_count": 90,
      "id": "cc5b2906",
      "metadata": {
        "id": "cc5b2906"
      },
      "outputs": [],
      "source": [
        "model = LSTransformer(input_size, hidden_size, num_layers, num_heads, output_size, dropout=dropout)"
      ]
    },
    {
      "cell_type": "code",
      "execution_count": null,
      "id": "4180ced6",
      "metadata": {
        "colab": {
          "base_uri": "https://localhost:8080/"
        },
        "id": "4180ced6",
        "outputId": "bf9fc0a9-3e94-4e9d-9919-ffde041370ec"
      },
      "outputs": [
        {
          "name": "stdout",
          "output_type": "stream",
          "text": [
            "torch.Size([3707, 30, 4])\n"
          ]
        }
      ],
      "source": [
        "print(X_train.shape)\n"
      ]
    },
    {
      "cell_type": "code",
      "execution_count": 91,
      "id": "6a4f667b",
      "metadata": {
        "id": "6a4f667b"
      },
      "outputs": [],
      "source": [
        "criterion = nn.MSELoss()"
      ]
    },
    {
      "cell_type": "code",
      "execution_count": 92,
      "id": "dc3ae887",
      "metadata": {
        "id": "dc3ae887"
      },
      "outputs": [],
      "source": [
        "optimizer = optim.Adam(model.parameters(), lr=learning_rate)"
      ]
    },
    {
      "cell_type": "markdown",
      "id": "00fc994b",
      "metadata": {
        "id": "00fc994b"
      },
      "source": [
        "Обучение"
      ]
    },
    {
      "cell_type": "code",
      "execution_count": 156,
      "id": "8e3dfe9e",
      "metadata": {
        "colab": {
          "base_uri": "https://localhost:8080/"
        },
        "id": "8e3dfe9e",
        "outputId": "fc73acf0-42ef-475c-a009-5ddb3759d853"
      },
      "outputs": [
        {
          "name": "stdout",
          "output_type": "stream",
          "text": [
            "Epoch 10/400, Train Loss: 0.0152, Val Loss: 0.0034\n",
            "Early stopping at epoch 11\n",
            "Training completed in 53.27 seconds\n"
          ]
        }
      ],
      "source": [
        "patience = 5\n",
        "best_val_loss = float('inf')\n",
        "early_stopping_counter = 0\n",
        "\n",
        "train_loss = []\n",
        "start_time = time.time()\n",
        "\n",
        "best_model_state = None  # чтобы сохранить лучшую модель\n",
        "\n",
        "for epoch in range(epochs):\n",
        "    model.train()\n",
        "    running_loss = 0.0\n",
        "\n",
        "    for i in range(0, X_train.shape[0], batch_size):\n",
        "        X_batch = X_train[i:i + batch_size]\n",
        "        y_batch = y_train[i:i + batch_size]\n",
        "\n",
        "        optimizer.zero_grad()\n",
        "        output = model(X_batch)\n",
        "        loss = criterion(output, y_batch)\n",
        "        loss.backward()\n",
        "        optimizer.step()\n",
        "\n",
        "        running_loss += loss.item()\n",
        "\n",
        "    avg_loss = running_loss / (X_train.shape[0] // batch_size)\n",
        "    train_loss.append(avg_loss)\n",
        "\n",
        "    # Валидация\n",
        "    model.eval()\n",
        "    val_loss = 0.0\n",
        "    with torch.no_grad():\n",
        "        for X_val, y_val in test_loader:\n",
        "            val_output = model(X_val)\n",
        "            val_loss += criterion(val_output, y_val).item()\n",
        "    val_loss /= len(test_loader)\n",
        "\n",
        "    if (epoch + 1) % 10 == 0:\n",
        "        print(f'Epoch {epoch+1}/{epochs}, Train Loss: {avg_loss:.4f}, Val Loss: {val_loss:.4f}')\n",
        "\n",
        "    # Early stopping\n",
        "    if val_loss < best_val_loss:\n",
        "        best_val_loss = val_loss\n",
        "        early_stopping_counter = 0\n",
        "        best_model_state = model.state_dict()\n",
        "    else:\n",
        "        early_stopping_counter += 1\n",
        "        if early_stopping_counter >= patience:\n",
        "            print(f\"Early stopping at epoch {epoch+1}\")\n",
        "            break\n",
        "\n",
        "training_time = time.time() - start_time\n",
        "print(f\"Training completed in {training_time:.2f} seconds\")\n",
        "\n",
        "# Восстановить лучшую модель\n",
        "if best_model_state is not None:\n",
        "    model.load_state_dict(best_model_state)\n"
      ]
    },
    {
      "cell_type": "markdown",
      "id": "c6bb8a3b",
      "metadata": {
        "id": "c6bb8a3b"
      },
      "source": [
        "Предсказание и метрики"
      ]
    },
    {
      "cell_type": "code",
      "execution_count": 157,
      "id": "b97d908f",
      "metadata": {
        "id": "b97d908f"
      },
      "outputs": [],
      "source": [
        "model.eval()\n",
        "with torch.no_grad():\n",
        "    y_pred_train = model(X_train).detach().numpy()\n",
        "    y_pred_test = model(X_test).detach().numpy()"
      ]
    },
    {
      "cell_type": "code",
      "execution_count": 158,
      "id": "d8f67efe",
      "metadata": {
        "id": "d8f67efe"
      },
      "outputs": [],
      "source": [
        "\n",
        "# Восстановление оригинальных масштабов\n",
        "crash_count_index = features.index('CRASH_COUNT')\n",
        "y_pred_train_real = scaler.inverse_transform(\n",
        "    np.hstack([y_pred_train, np.zeros((len(y_pred_train), len(features) - 1))])\n",
        ")[:, crash_count_index]\n",
        "y_pred_test_real = scaler.inverse_transform(\n",
        "    np.hstack([y_pred_test, np.zeros((len(y_pred_test), len(features) - 1))])\n",
        ")[:, crash_count_index]\n",
        "y_train_real = scaler.inverse_transform(\n",
        "    np.hstack([y_train.numpy(), np.zeros((len(y_train), len(features) - 1))])\n",
        ")[:, crash_count_index]\n",
        "y_test_real = scaler.inverse_transform(\n",
        "    np.hstack([y_test.numpy(), np.zeros((len(y_test), len(features) - 1))])\n",
        ")[:, crash_count_index]"
      ]
    },
    {
      "cell_type": "code",
      "execution_count": 159,
      "id": "09c34901",
      "metadata": {
        "colab": {
          "base_uri": "https://localhost:8080/"
        },
        "id": "09c34901",
        "outputId": "7cdb1f16-4386-4f9f-dfc0-28dc3c37fdf5"
      },
      "outputs": [
        {
          "name": "stdout",
          "output_type": "stream",
          "text": [
            "Train RMSE: 61.2133, MAE: 43.6694, R²: 0.8560, Correlation: 0.9268\n",
            "Test  RMSE: 31.7263, MAE: 24.8171, R²: 0.1929, Correlation: 0.5471\n"
          ]
        }
      ],
      "source": [
        "# Метрики качества\n",
        "def print_metrics(y_true, y_pred, prefix=\"\"):\n",
        "    rmse = np.sqrt(mean_squared_error(y_true, y_pred))\n",
        "    mae = mean_absolute_error(y_true, y_pred)\n",
        "    r2 = r2_score(y_true, y_pred)\n",
        "    corr = np.corrcoef(y_true.flatten(), y_pred.flatten())[0, 1]\n",
        "    print(f'{prefix}RMSE: {rmse:.4f}, MAE: {mae:.4f}, R²: {r2:.4f}, Correlation: {corr:.4f}')\n",
        "\n",
        "print_metrics(y_train_real, y_pred_train_real, \"Train \")\n",
        "print_metrics(y_test_real, y_pred_test_real, \"Test  \")"
      ]
    }
  ],
  "metadata": {
    "colab": {
      "provenance": []
    },
    "kernelspec": {
      "display_name": "Python 3",
      "name": "python3"
    },
    "language_info": {
      "codemirror_mode": {
        "name": "ipython",
        "version": 3
      },
      "file_extension": ".py",
      "mimetype": "text/x-python",
      "name": "python",
      "nbconvert_exporter": "python",
      "pygments_lexer": "ipython3",
      "version": "3.9.18"
    }
  },
  "nbformat": 4,
  "nbformat_minor": 5
}
