{
  "cells": [
    {
      "cell_type": "code",
      "execution_count": 1,
      "id": "i7KF4fWfyvzQ",
      "metadata": {
        "colab": {
          "base_uri": "https://localhost:8080/"
        },
        "id": "i7KF4fWfyvzQ",
        "outputId": "03bc2cac-5aed-41ce-e3ba-8c1b30621635"
      },
      "outputs": [
        {
          "name": "stdout",
          "output_type": "stream",
          "text": [
            "Collecting optuna\n",
            "  Downloading optuna-4.3.0-py3-none-any.whl.metadata (17 kB)\n",
            "Collecting alembic>=1.5.0 (from optuna)\n",
            "  Downloading alembic-1.15.2-py3-none-any.whl.metadata (7.3 kB)\n",
            "Collecting colorlog (from optuna)\n",
            "  Downloading colorlog-6.9.0-py3-none-any.whl.metadata (10 kB)\n",
            "Requirement already satisfied: numpy in /usr/local/lib/python3.11/dist-packages (from optuna) (2.0.2)\n",
            "Requirement already satisfied: packaging>=20.0 in /usr/local/lib/python3.11/dist-packages (from optuna) (24.2)\n",
            "Requirement already satisfied: sqlalchemy>=1.4.2 in /usr/local/lib/python3.11/dist-packages (from optuna) (2.0.40)\n",
            "Requirement already satisfied: tqdm in /usr/local/lib/python3.11/dist-packages (from optuna) (4.67.1)\n",
            "Requirement already satisfied: PyYAML in /usr/local/lib/python3.11/dist-packages (from optuna) (6.0.2)\n",
            "Requirement already satisfied: Mako in /usr/lib/python3/dist-packages (from alembic>=1.5.0->optuna) (1.1.3)\n",
            "Requirement already satisfied: typing-extensions>=4.12 in /usr/local/lib/python3.11/dist-packages (from alembic>=1.5.0->optuna) (4.13.2)\n",
            "Requirement already satisfied: greenlet>=1 in /usr/local/lib/python3.11/dist-packages (from sqlalchemy>=1.4.2->optuna) (3.2.1)\n",
            "Downloading optuna-4.3.0-py3-none-any.whl (386 kB)\n",
            "\u001b[2K   \u001b[90m━━━━━━━━━━━━━━━━━━━━━━━━━━━━━━━━━━━━━━━━\u001b[0m \u001b[32m386.6/386.6 kB\u001b[0m \u001b[31m8.4 MB/s\u001b[0m eta \u001b[36m0:00:00\u001b[0m\n",
            "\u001b[?25hDownloading alembic-1.15.2-py3-none-any.whl (231 kB)\n",
            "\u001b[2K   \u001b[90m━━━━━━━━━━━━━━━━━━━━━━━━━━━━━━━━━━━━━━━━\u001b[0m \u001b[32m231.9/231.9 kB\u001b[0m \u001b[31m15.6 MB/s\u001b[0m eta \u001b[36m0:00:00\u001b[0m\n",
            "\u001b[?25hDownloading colorlog-6.9.0-py3-none-any.whl (11 kB)\n",
            "Installing collected packages: colorlog, alembic, optuna\n",
            "Successfully installed alembic-1.15.2 colorlog-6.9.0 optuna-4.3.0\n"
          ]
        }
      ],
      "source": [
        "!pip install optuna"
      ]
    },
    {
      "cell_type": "code",
      "execution_count": null,
      "id": "e5593e9a",
      "metadata": {
        "id": "e5593e9a"
      },
      "outputs": [],
      "source": [
        "import pandas as pd\n",
        "import numpy as np\n",
        "import torch\n",
        "import torch.nn as nn\n",
        "import torch.optim as optim\n",
        "from sklearn.metrics import mean_squared_error, mean_absolute_error, r2_score\n",
        "from sklearn.preprocessing import MinMaxScaler\n",
        "import matplotlib.pyplot as plt\n",
        "from sklearn.model_selection import train_test_split\n",
        "import time\n",
        "from torch.utils.data import DataLoader, TensorDataset\n",
        "import optuna"
      ]
    },
    {
      "cell_type": "markdown",
      "id": "77f60723",
      "metadata": {},
      "source": [
        "Загрузка данных и создание датасета"
      ]
    },
    {
      "cell_type": "code",
      "execution_count": null,
      "id": "38ff29b5",
      "metadata": {
        "id": "38ff29b5"
      },
      "outputs": [],
      "source": [
        "df = pd.read_csv('daily_accidents.csv', parse_dates=['CRASH DATE'])\n",
        "df['CRASH DATE'] = pd.to_datetime(df['CRASH DATE'])\n",
        "df.set_index('CRASH DATE', inplace=True)\n",
        "\n",
        "df = df[['ACCIDENT_COUNT']]"
      ]
    },
    {
      "cell_type": "code",
      "execution_count": null,
      "id": "e5e00e8a",
      "metadata": {
        "id": "e5e00e8a"
      },
      "outputs": [],
      "source": [
        "scaler = MinMaxScaler(feature_range=(-1, 1))\n",
        "df_scaled = scaler.fit_transform(df)"
      ]
    },
    {
      "cell_type": "code",
      "execution_count": null,
      "id": "af77d1de",
      "metadata": {
        "id": "af77d1de"
      },
      "outputs": [],
      "source": [
        "X = []\n",
        "y = []\n",
        "\n",
        "seq_length = 30\n",
        "\n",
        "for i in range(len(df_scaled) - seq_length):\n",
        "    X.append(df_scaled[i:i + seq_length])\n",
        "    y.append(df_scaled[i + seq_length])"
      ]
    },
    {
      "cell_type": "code",
      "execution_count": null,
      "id": "b10df4d5",
      "metadata": {
        "id": "b10df4d5"
      },
      "outputs": [],
      "source": [
        "X = np.array(X)\n",
        "y = np.array(y)\n",
        "\n",
        "X_train, X_test, y_train, y_test = train_test_split(X, y, test_size=0.2, shuffle=False)\n",
        "\n",
        "X_train = torch.tensor(X_train, dtype=torch.float32)\n",
        "X_test = torch.tensor(X_test, dtype=torch.float32)\n",
        "y_train = torch.tensor(y_train, dtype=torch.float32)\n",
        "y_test = torch.tensor(y_test, dtype=torch.float32)\n",
        "train_dataset = TensorDataset(X_train, y_train)\n",
        "test_dataset = TensorDataset(X_test, y_test)\n",
        "\n",
        "train_loader = DataLoader(train_dataset, batch_size=512, shuffle=True)\n",
        "test_loader = DataLoader(test_dataset, batch_size=512)"
      ]
    },
    {
      "cell_type": "markdown",
      "id": "307d9097",
      "metadata": {},
      "source": [
        "Модель"
      ]
    },
    {
      "cell_type": "code",
      "execution_count": null,
      "id": "97da4f8e",
      "metadata": {
        "id": "97da4f8e"
      },
      "outputs": [],
      "source": [
        "class LSTransformer(nn.Module):\n",
        "    def __init__(self, input_size, hidden_size, num_layers, num_heads, output_size):\n",
        "        super(LSTransformer, self).__init__()\n",
        "\n",
        "        self.lstm = nn.LSTM(input_size, hidden_size, num_layers, batch_first=True)\n",
        "\n",
        "        self.transformer_encoder_layer = nn.TransformerEncoderLayer(d_model=hidden_size, nhead=num_heads, batch_first=True)\n",
        "        self.transformer_encoder = nn.TransformerEncoder(self.transformer_encoder_layer, num_layers=num_layers)\n",
        "\n",
        "        self.fc = nn.Linear(hidden_size, output_size)\n",
        "\n",
        "    def forward(self, x):\n",
        "        lstm_out, _ = self.lstm(x)\n",
        "        transformer_out = self.transformer_encoder(lstm_out)\n",
        "\n",
        "        output = self.fc(transformer_out[:, -1, :])\n",
        "        return output"
      ]
    },
    {
      "cell_type": "markdown",
      "id": "e20db207",
      "metadata": {},
      "source": [
        "Функция подбора гиперпараметров"
      ]
    },
    {
      "cell_type": "code",
      "execution_count": null,
      "id": "QWKps-6_zFbE",
      "metadata": {
        "id": "QWKps-6_zFbE"
      },
      "outputs": [],
      "source": [
        "def objective_lstransformer(trial):\n",
        "    num_heads = trial.suggest_categorical(\"num_heads\", [2, 4, 8])\n",
        "\n",
        "    hidden_size_options = [hs for hs in range(32, 257, 8) if hs % num_heads == 0]\n",
        "    hidden_size = trial.suggest_categorical(\"hidden_size\", hidden_size_options)\n",
        "\n",
        "    num_layers = trial.suggest_int(\"num_layers\", 1, 3)\n",
        "    learning_rate = trial.suggest_float(\"lr\", 1e-4, 1e-2, log=True)\n",
        "\n",
        "    model = LSTransformer(\n",
        "        input_size=X_train.shape[2],\n",
        "        hidden_size=hidden_size,\n",
        "        num_layers=num_layers,\n",
        "        num_heads=num_heads,\n",
        "        output_size=1\n",
        "    )\n",
        "\n",
        "    optimizer = torch.optim.Adam(model.parameters(), lr=learning_rate)\n",
        "    criterion = nn.MSELoss()\n",
        "\n",
        "    model.train()\n",
        "    for epoch in range(20):\n",
        "        for inputs, labels in train_loader:\n",
        "            optimizer.zero_grad()\n",
        "            outputs = model(inputs)\n",
        "            loss = criterion(outputs, labels)\n",
        "            loss.backward()\n",
        "            optimizer.step()\n",
        "\n",
        "    model.eval()\n",
        "    test_loss = 0.0\n",
        "    with torch.no_grad():\n",
        "        for inputs, labels in test_loader:\n",
        "            outputs = model(inputs)\n",
        "            loss = criterion(outputs, labels)\n",
        "            test_loss += loss.item()\n",
        "\n",
        "    return test_loss / len(test_loader)\n"
      ]
    },
    {
      "cell_type": "markdown",
      "id": "9fdf2b36",
      "metadata": {},
      "source": [
        "Подбор гиперпараметров"
      ]
    },
    {
      "cell_type": "code",
      "execution_count": 13,
      "id": "QF5S0vUSzUgm",
      "metadata": {
        "colab": {
          "base_uri": "https://localhost:8080/"
        },
        "id": "QF5S0vUSzUgm",
        "outputId": "1c1452c5-1b1c-4a35-f9be-55f0c2729c0e"
      },
      "outputs": [
        {
          "name": "stderr",
          "output_type": "stream",
          "text": [
            "[I 2025-05-05 14:35:40,248] A new study created in memory with name: no-name-48b9ed06-caff-4c39-be6e-ec9b88fa7bb6\n",
            "[I 2025-05-05 14:49:39,449] Trial 0 finished with value: 0.005050899228081107 and parameters: {'num_heads': 2, 'hidden_size': 88, 'num_layers': 3, 'lr': 0.0003707330501322261}. Best is trial 0 with value: 0.005050899228081107.\n",
            "[I 2025-05-05 15:21:31,481] Trial 1 finished with value: 0.2530614659190178 and parameters: {'num_heads': 8, 'hidden_size': 248, 'num_layers': 3, 'lr': 0.0006380949703953669}. Best is trial 0 with value: 0.005050899228081107.\n",
            "[I 2025-05-05 15:40:16,503] Trial 2 finished with value: 0.24274666607379913 and parameters: {'num_heads': 8, 'hidden_size': 232, 'num_layers': 2, 'lr': 0.0022387685111331574}. Best is trial 0 with value: 0.005050899228081107.\n",
            "[I 2025-05-05 15:48:15,270] Trial 3 finished with value: 0.0163142466917634 and parameters: {'num_heads': 8, 'hidden_size': 192, 'num_layers': 1, 'lr': 0.005237673075658886}. Best is trial 0 with value: 0.005050899228081107.\n",
            "[I 2025-05-05 15:57:22,205] Trial 4 finished with value: 0.0061425447929650545 and parameters: {'num_heads': 8, 'hidden_size': 88, 'num_layers': 2, 'lr': 0.0008040826669893514}. Best is trial 0 with value: 0.005050899228081107.\n",
            "[I 2025-05-05 16:05:34,639] Trial 5 finished with value: 0.003942463314160705 and parameters: {'num_heads': 8, 'hidden_size': 72, 'num_layers': 2, 'lr': 0.0007682808521376921}. Best is trial 5 with value: 0.003942463314160705.\n",
            "[I 2025-05-05 16:25:00,016] Trial 6 finished with value: 0.23386020213365555 and parameters: {'num_heads': 2, 'hidden_size': 152, 'num_layers': 3, 'lr': 0.001526303496042159}. Best is trial 5 with value: 0.003942463314160705.\n",
            "[I 2025-05-05 16:47:07,937] Trial 7 finished with value: 0.24852584302425385 and parameters: {'num_heads': 4, 'hidden_size': 176, 'num_layers': 3, 'lr': 0.0018637126761365706}. Best is trial 5 with value: 0.003942463314160705.\n",
            "[I 2025-05-05 16:56:18,700] Trial 8 finished with value: 0.0034300622064620256 and parameters: {'num_heads': 8, 'hidden_size': 80, 'num_layers': 2, 'lr': 0.0008785101083637597}. Best is trial 8 with value: 0.0034300622064620256.\n",
            "[I 2025-05-05 17:06:14,614] Trial 9 finished with value: 0.006400835467502475 and parameters: {'num_heads': 4, 'hidden_size': 96, 'num_layers': 2, 'lr': 0.00045975280589821027}. Best is trial 8 with value: 0.0034300622064620256.\n",
            "[I 2025-05-05 17:10:35,856] Trial 10 finished with value: 0.0046962471678853035 and parameters: {'num_heads': 2, 'hidden_size': 80, 'num_layers': 1, 'lr': 0.00010248407817210697}. Best is trial 8 with value: 0.0034300622064620256.\n",
            "[I 2025-05-05 17:19:03,011] Trial 11 finished with value: 0.0033679036423563957 and parameters: {'num_heads': 8, 'hidden_size': 72, 'num_layers': 2, 'lr': 0.00022634373072149256}. Best is trial 11 with value: 0.0033679036423563957.\n",
            "[I 2025-05-05 17:33:28,884] Trial 12 finished with value: 0.003282316727563739 and parameters: {'num_heads': 8, 'hidden_size': 168, 'num_layers': 2, 'lr': 0.00017502531015403257}. Best is trial 12 with value: 0.003282316727563739.\n",
            "[I 2025-05-05 17:40:37,407] Trial 13 finished with value: 0.0032290908275172114 and parameters: {'num_heads': 8, 'hidden_size': 168, 'num_layers': 1, 'lr': 0.00015047779042051026}. Best is trial 13 with value: 0.0032290908275172114.\n",
            "[I 2025-05-05 17:47:38,021] Trial 14 finished with value: 0.0033055241219699383 and parameters: {'num_heads': 8, 'hidden_size': 168, 'num_layers': 1, 'lr': 0.00011119838596643916}. Best is trial 13 with value: 0.0032290908275172114.\n",
            "[I 2025-05-05 17:54:28,183] Trial 15 finished with value: 0.0031729103066027164 and parameters: {'num_heads': 4, 'hidden_size': 168, 'num_layers': 1, 'lr': 0.00020864254903143865}. Best is trial 15 with value: 0.0031729103066027164.\n",
            "[I 2025-05-05 18:00:21,862] Trial 16 finished with value: 0.003287322586402297 and parameters: {'num_heads': 4, 'hidden_size': 136, 'num_layers': 1, 'lr': 0.00023922687039002326}. Best is trial 15 with value: 0.0031729103066027164.\n",
            "[I 2025-05-05 18:03:39,809] Trial 17 finished with value: 0.003636165871284902 and parameters: {'num_heads': 4, 'hidden_size': 48, 'num_layers': 1, 'lr': 0.009752523773799796}. Best is trial 15 with value: 0.0031729103066027164.\n",
            "[I 2025-05-05 18:10:31,317] Trial 18 finished with value: 0.003233336261473596 and parameters: {'num_heads': 4, 'hidden_size': 168, 'num_layers': 1, 'lr': 0.00033328222361070136}. Best is trial 15 with value: 0.0031729103066027164.\n",
            "[I 2025-05-05 18:18:10,920] Trial 19 finished with value: 0.003380083478987217 and parameters: {'num_heads': 4, 'hidden_size': 184, 'num_layers': 1, 'lr': 0.00015324861100706938}. Best is trial 15 with value: 0.0031729103066027164.\n",
            "[I 2025-05-05 18:24:50,562] Trial 20 finished with value: 0.0032721967436373234 and parameters: {'num_heads': 4, 'hidden_size': 160, 'num_layers': 1, 'lr': 0.00029382667414228276}. Best is trial 15 with value: 0.0031729103066027164.\n",
            "[I 2025-05-05 18:31:44,977] Trial 21 finished with value: 0.003272506291978061 and parameters: {'num_heads': 4, 'hidden_size': 168, 'num_layers': 1, 'lr': 0.00042467446924373517}. Best is trial 15 with value: 0.0031729103066027164.\n",
            "[I 2025-05-05 18:35:29,771] Trial 22 finished with value: 0.0032718151342123747 and parameters: {'num_heads': 4, 'hidden_size': 64, 'num_layers': 1, 'lr': 0.00015969269782513816}. Best is trial 15 with value: 0.0031729103066027164.\n",
            "[I 2025-05-05 18:40:52,483] Trial 23 finished with value: 0.003355513676069677 and parameters: {'num_heads': 4, 'hidden_size': 120, 'num_layers': 1, 'lr': 0.0002941738809424381}. Best is trial 15 with value: 0.0031729103066027164.\n",
            "[I 2025-05-05 18:49:19,688] Trial 24 finished with value: 0.003177913255058229 and parameters: {'num_heads': 4, 'hidden_size': 216, 'num_layers': 1, 'lr': 0.0005342853318787946}. Best is trial 15 with value: 0.0031729103066027164.\n",
            "[I 2025-05-05 18:57:53,301] Trial 25 finished with value: 0.003430050564929843 and parameters: {'num_heads': 2, 'hidden_size': 216, 'num_layers': 1, 'lr': 0.0005256065662820994}. Best is trial 15 with value: 0.0031729103066027164.\n",
            "[I 2025-05-05 19:00:56,641] Trial 26 finished with value: 0.0033506450708955526 and parameters: {'num_heads': 4, 'hidden_size': 32, 'num_layers': 1, 'lr': 0.00020890042388152356}. Best is trial 15 with value: 0.0031729103066027164.\n",
            "[I 2025-05-05 19:10:24,622] Trial 27 finished with value: 0.0038561122491955757 and parameters: {'num_heads': 4, 'hidden_size': 240, 'num_layers': 1, 'lr': 0.0013970485743819204}. Best is trial 15 with value: 0.0031729103066027164.\n",
            "[I 2025-05-05 19:26:58,355] Trial 28 finished with value: 0.003257425152696669 and parameters: {'num_heads': 2, 'hidden_size': 200, 'num_layers': 2, 'lr': 0.0001484498333285264}. Best is trial 15 with value: 0.0031729103066027164.\n",
            "[I 2025-05-05 19:32:18,183] Trial 29 finished with value: 0.0035108960000798106 and parameters: {'num_heads': 4, 'hidden_size': 112, 'num_layers': 1, 'lr': 0.0004154749973533073}. Best is trial 15 with value: 0.0031729103066027164.\n"
          ]
        },
        {
          "name": "stdout",
          "output_type": "stream",
          "text": [
            "Best parameters: {'num_heads': 4, 'hidden_size': 168, 'num_layers': 1, 'lr': 0.00020864254903143865}\n"
          ]
        }
      ],
      "source": [
        "study = optuna.create_study(direction=\"minimize\")\n",
        "study.optimize(objective_lstransformer, n_trials=30)\n",
        "\n",
        "print(\"Best parameters:\", study.best_params)"
      ]
    },
    {
      "cell_type": "markdown",
      "id": "85e0dc3d",
      "metadata": {},
      "source": [
        "Параметры модели и инициализация"
      ]
    },
    {
      "cell_type": "code",
      "execution_count": null,
      "id": "85fffb8f",
      "metadata": {
        "id": "85fffb8f"
      },
      "outputs": [],
      "source": [
        "input_size = 1\n",
        "hidden_size = 168\n",
        "num_layers = 1\n",
        "num_heads = 4\n",
        "output_size = 1\n",
        "learning_rate = 0.00020864254903143865\n",
        "epochs = 100\n",
        "batch_size = 256"
      ]
    },
    {
      "cell_type": "code",
      "execution_count": 22,
      "id": "cc5b2906",
      "metadata": {
        "id": "cc5b2906"
      },
      "outputs": [],
      "source": [
        "model = LSTransformer(input_size, hidden_size, num_layers, num_heads, output_size)"
      ]
    },
    {
      "cell_type": "code",
      "execution_count": 24,
      "id": "6a4f667b",
      "metadata": {
        "id": "6a4f667b"
      },
      "outputs": [],
      "source": [
        "criterion = nn.MSELoss()"
      ]
    },
    {
      "cell_type": "code",
      "execution_count": null,
      "id": "dc3ae887",
      "metadata": {
        "id": "dc3ae887"
      },
      "outputs": [],
      "source": [
        "optimizer = optim.Adam(model.parameters(), lr=learning_rate)"
      ]
    },
    {
      "cell_type": "markdown",
      "id": "e5165520",
      "metadata": {},
      "source": [
        "Обучение"
      ]
    },
    {
      "cell_type": "code",
      "execution_count": null,
      "id": "8e3dfe9e",
      "metadata": {
        "colab": {
          "base_uri": "https://localhost:8080/"
        },
        "id": "8e3dfe9e",
        "outputId": "ddc67958-b0bf-4fca-9913-a438f57916fb"
      },
      "outputs": [
        {
          "name": "stdout",
          "output_type": "stream",
          "text": [
            "Epoch 10/100, Loss: 0.0407\n",
            "Epoch 20/100, Loss: 0.0278\n",
            "Epoch 30/100, Loss: 0.0262\n",
            "Epoch 40/100, Loss: 0.0322\n",
            "Epoch 50/100, Loss: 0.0331\n",
            "Epoch 60/100, Loss: 0.0367\n",
            "Epoch 70/100, Loss: 0.0268\n",
            "Epoch 80/100, Loss: 0.0273\n",
            "Epoch 90/100, Loss: 0.0270\n",
            "Epoch 100/100, Loss: 0.0277\n",
            "Training completed in 1983.72 seconds\n"
          ]
        }
      ],
      "source": [
        "start_time = time.time()\n",
        "train_loss = []\n",
        "\n",
        "for epoch in range(epochs):\n",
        "    model.train()\n",
        "    running_loss = 0.0\n",
        "    batch_count = 0\n",
        "\n",
        "    for i in range(0, X_train.shape[0], batch_size):\n",
        "        X_batch = X_train[i:i + batch_size]\n",
        "        y_batch = y_train[i:i + batch_size]\n",
        "\n",
        "\n",
        "        optimizer.zero_grad()\n",
        "\n",
        "        output = model(X_batch)\n",
        "\n",
        "        if y_batch.ndim == 1:\n",
        "            y_batch = y_batch.unsqueeze(1)\n",
        "\n",
        "        loss = criterion(output, y_batch)\n",
        "        loss.backward()\n",
        "        optimizer.step()\n",
        "\n",
        "        running_loss += loss.item()\n",
        "        batch_count += 1\n",
        "\n",
        "    avg_loss = running_loss / batch_count\n",
        "    train_loss.append(avg_loss)\n",
        "\n",
        "    if (epoch + 1) % 10 == 0:\n",
        "        print(f'Epoch {epoch+1}/{epochs}, Loss: {avg_loss:.4f}')\n",
        "\n",
        "training_time = time.time() - start_time\n",
        "print(f\"Training completed in {training_time:.2f} seconds\")"
      ]
    },
    {
      "cell_type": "markdown",
      "id": "a92da3e3",
      "metadata": {},
      "source": [
        "Предсказание и метрики"
      ]
    },
    {
      "cell_type": "code",
      "execution_count": null,
      "id": "b97d908f",
      "metadata": {
        "id": "b97d908f"
      },
      "outputs": [],
      "source": [
        "model.eval()\n",
        "with torch.no_grad():\n",
        "    y_pred_train = model(X_train).detach().numpy()\n",
        "    y_pred_test = model(X_test).detach().numpy()"
      ]
    },
    {
      "cell_type": "code",
      "execution_count": null,
      "id": "d8f67efe",
      "metadata": {
        "id": "d8f67efe"
      },
      "outputs": [],
      "source": [
        "y_pred_train = scaler.inverse_transform(y_pred_train)\n",
        "y_pred_test = scaler.inverse_transform(y_pred_test)\n",
        "y_train = scaler.inverse_transform(y_train.numpy())\n",
        "y_test = scaler.inverse_transform(y_test.numpy())"
      ]
    },
    {
      "cell_type": "code",
      "execution_count": null,
      "id": "09c34901",
      "metadata": {
        "colab": {
          "base_uri": "https://localhost:8080/"
        },
        "id": "09c34901",
        "outputId": "92bc88a6-a88c-4f6d-f3e5-209484cf5ec9"
      },
      "outputs": [
        {
          "name": "stdout",
          "output_type": "stream",
          "text": [
            "Train RMSE: 95.2911, MAE: 73.6515, R²: 0.6511, Correlation: 0.8657\n",
            "Test RMSE: 30.5338, MAE: 24.0883, R²: 0.2525, Correlation: 0.5309\n"
          ]
        }
      ],
      "source": [
        "rmse_train = np.sqrt(mean_squared_error(y_train, y_pred_train))\n",
        "mae_train = mean_absolute_error(y_train, y_pred_train)\n",
        "r2_train = r2_score(y_train, y_pred_train)\n",
        "\n",
        "rmse_test = np.sqrt(mean_squared_error(y_test, y_pred_test))\n",
        "mae_test = mean_absolute_error(y_test, y_pred_test)\n",
        "r2_test = r2_score(y_test, y_pred_test)\n",
        "\n",
        "correlation_train = np.corrcoef(y_train.flatten(), y_pred_train.flatten())[0, 1]\n",
        "correlation_test = np.corrcoef(y_test.flatten(), y_pred_test.flatten())[0, 1]\n",
        "\n",
        "print(f'Train RMSE: {rmse_train:.4f}, MAE: {mae_train:.4f}, R²: {r2_train:.4f}, Correlation: {correlation_train:.4f}')\n",
        "print(f'Test RMSE: {rmse_test:.4f}, MAE: {mae_test:.4f}, R²: {r2_test:.4f}, Correlation: {correlation_test:.4f}')"
      ]
    }
  ],
  "metadata": {
    "colab": {
      "provenance": []
    },
    "kernelspec": {
      "display_name": "base",
      "language": "python",
      "name": "python3"
    },
    "language_info": {
      "codemirror_mode": {
        "name": "ipython",
        "version": 3
      },
      "file_extension": ".py",
      "mimetype": "text/x-python",
      "name": "python",
      "nbconvert_exporter": "python",
      "pygments_lexer": "ipython3",
      "version": "3.9.18"
    }
  },
  "nbformat": 4,
  "nbformat_minor": 5
}
