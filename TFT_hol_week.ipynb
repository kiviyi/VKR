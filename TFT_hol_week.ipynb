{
  "cells": [
    {
      "cell_type": "code",
      "execution_count": null,
      "id": "66d05036",
      "metadata": {
        "id": "66d05036"
      },
      "outputs": [],
      "source": [
        "import pandas as pd\n",
        "import numpy as np\n",
        "import matplotlib.pyplot as plt\n",
        "from sklearn.preprocessing import MinMaxScaler\n",
        "from sklearn.metrics import mean_absolute_error, mean_squared_error, r2_score\n",
        "import torch\n",
        "import torch.nn as nn\n",
        "import torch.optim as optim\n",
        "from torch.utils.data import DataLoader, TensorDataset\n",
        "from torch.nn import functional as F\n",
        "import time\n",
        "import optuna\n",
        "import copy"
      ]
    },
    {
      "cell_type": "markdown",
      "id": "9b0973c9",
      "metadata": {},
      "source": [
        "Модель"
      ]
    },
    {
      "cell_type": "code",
      "execution_count": null,
      "id": "79d19175",
      "metadata": {
        "id": "79d19175"
      },
      "outputs": [],
      "source": [
        "class TemporalFusionTransformer(nn.Module):\n",
        "    def __init__(self, input_size, hidden_size, output_size, num_layers, dropout_rate):\n",
        "        super(TemporalFusionTransformer, self).__init__()\n",
        "        self.rnn = nn.LSTM(input_size, hidden_size, num_layers, batch_first=True)\n",
        "        self.attn = nn.MultiheadAttention(hidden_size, num_heads=4, batch_first=True)\n",
        "        self.fc1 = nn.Linear(hidden_size, 64)\n",
        "        self.fc2 = nn.Linear(64, output_size)\n",
        "        self.dropout = nn.Dropout(dropout_rate)\n",
        "\n",
        "    def forward(self, x):\n",
        "        rnn_out, _ = self.rnn(x)\n",
        "        attn_out, _ = self.attn(rnn_out, rnn_out, rnn_out)\n",
        "        out = self.fc1(attn_out[:, -1, :])\n",
        "        out = F.relu(out)\n",
        "        out = self.dropout(out)\n",
        "        out = self.fc2(out)\n",
        "        return out"
      ]
    },
    {
      "cell_type": "markdown",
      "id": "c6e1d2fd",
      "metadata": {
        "id": "c6e1d2fd"
      },
      "source": [
        "Загрузка данных и создание датасета"
      ]
    },
    {
      "cell_type": "code",
      "execution_count": null,
      "id": "88638112",
      "metadata": {
        "id": "88638112"
      },
      "outputs": [],
      "source": [
        "df = pd.read_csv('daily_accidents_hol_dw_week.csv', parse_dates=['CRASH DATE'])\n",
        "df.set_index('CRASH DATE', inplace=True)\n",
        "\n",
        "df = df[['CRASH_COUNT', 'is_weekend', 'month', 'is_holiday']]\n",
        "df_daily = df.resample('D').sum()\n",
        "\n",
        "scaler = MinMaxScaler(feature_range=(0, 1))\n",
        "data_scaled = scaler.fit_transform(df_daily)\n",
        "\n",
        "df_scaled = pd.DataFrame(data_scaled, index=df_daily.index, columns=df_daily.columns)\n",
        "\n",
        "def create_sequences(data, seq_length):\n",
        "    sequences = []\n",
        "    labels = []\n",
        "    for i in range(len(data) - seq_length):\n",
        "        # input: [seq_length, 4]\n",
        "        seq = data[i:i + seq_length]\n",
        "        label = data[i + seq_length][0]\n",
        "        sequences.append(seq)\n",
        "        labels.append(label)\n",
        "    return np.array(sequences), np.array(labels)\n",
        "\n",
        "seq_length = 30\n",
        "train_size = int(len(df_scaled) * 0.8)\n",
        "\n",
        "train_data = data_scaled[:train_size]\n",
        "test_data = data_scaled[train_size:]\n",
        "\n",
        "train_seq, train_labels = create_sequences(train_data, seq_length)\n",
        "test_seq, test_labels = create_sequences(test_data, seq_length)\n",
        "\n",
        "train_seq = torch.tensor(train_seq, dtype=torch.float32)\n",
        "train_labels = torch.tensor(train_labels, dtype=torch.float32).unsqueeze(1)\n",
        "\n",
        "test_seq = torch.tensor(test_seq, dtype=torch.float32)\n",
        "test_labels = torch.tensor(test_labels, dtype=torch.float32).unsqueeze(1)\n",
        "\n",
        "train_dataset = TensorDataset(train_seq, train_labels)\n",
        "test_dataset = TensorDataset(test_seq, test_labels)\n",
        "\n",
        "train_loader = DataLoader(train_dataset, batch_size=64, shuffle=True)\n",
        "test_loader = DataLoader(test_dataset, batch_size=64, shuffle=False)\n"
      ]
    },
    {
      "cell_type": "markdown",
      "id": "558c65b0",
      "metadata": {},
      "source": [
        "Функция подбора гиперпараметров"
      ]
    },
    {
      "cell_type": "code",
      "execution_count": null,
      "id": "d857915c",
      "metadata": {
        "id": "d857915c"
      },
      "outputs": [],
      "source": [
        "def objective(trial):\n",
        "    hidden_size = trial.suggest_categorical(\"hidden_size\", [x for x in range(32, 257, 8) if x % 4 == 0])\n",
        "    num_layers = trial.suggest_int(\"num_layers\", 1, 4)\n",
        "    dropout_rate = trial.suggest_float(\"dropout_rate\", 0.1, 0.5)\n",
        "    learning_rate = trial.suggest_float(\"lr\", 1e-4, 1e-2, log=True)\n",
        "\n",
        "    model = TemporalFusionTransformer(\n",
        "        input_size=4,\n",
        "        hidden_size=hidden_size,\n",
        "        output_size=1,\n",
        "        num_layers=num_layers,\n",
        "        dropout_rate=dropout_rate\n",
        "    )\n",
        "\n",
        "    optimizer = optim.Adam(model.parameters(), lr=learning_rate)\n",
        "    criterion = nn.MSELoss()\n",
        "\n",
        "    model.train()\n",
        "    for epoch in range(20):  # можно увеличить\n",
        "        for inputs, labels in train_loader:\n",
        "            inputs, labels = inputs, labels\n",
        "            optimizer.zero_grad()\n",
        "            outputs = model(inputs)\n",
        "            loss = criterion(outputs, labels)\n",
        "            loss.backward()\n",
        "            optimizer.step()\n",
        "\n",
        "    # Оценка на валидации\n",
        "    model.eval()\n",
        "    val_loss = 0.0\n",
        "    with torch.no_grad():\n",
        "        for inputs, labels in test_loader:\n",
        "            inputs, labels = inputs, labels\n",
        "            outputs = model(inputs)\n",
        "            loss = criterion(outputs, labels)\n",
        "            val_loss += loss.item()\n",
        "    return val_loss / len(test_loader)\n",
        "\n"
      ]
    },
    {
      "cell_type": "markdown",
      "id": "f8caa514",
      "metadata": {},
      "source": [
        "Подбор гиперпараметров"
      ]
    },
    {
      "cell_type": "code",
      "execution_count": null,
      "id": "eba17113",
      "metadata": {
        "colab": {
          "background_save": true,
          "base_uri": "https://localhost:8080/"
        },
        "id": "eba17113",
        "outputId": "a908c7f6-f494-40c4-c573-146410359d0c"
      },
      "outputs": [
        {
          "name": "stderr",
          "output_type": "stream",
          "text": [
            "[I 2025-05-04 11:26:38,095] A new study created in memory with name: no-name-6898db8d-dee0-4559-9b80-049968d0b9ea\n",
            "[I 2025-05-04 11:31:04,339] Trial 0 finished with value: 0.0009579231807341178 and parameters: {'hidden_size': 184, 'num_layers': 2, 'dropout_rate': 0.2019379559757229, 'lr': 0.00018007232131067282}. Best is trial 0 with value: 0.0009579231807341178.\n",
            "[I 2025-05-04 11:34:48,603] Trial 1 finished with value: 0.00095137149716417 and parameters: {'hidden_size': 256, 'num_layers': 1, 'dropout_rate': 0.29055960151156107, 'lr': 0.00015621281223311914}. Best is trial 1 with value: 0.00095137149716417.\n",
            "[I 2025-05-04 11:36:47,831] Trial 2 finished with value: 0.0009363084915094078 and parameters: {'hidden_size': 96, 'num_layers': 3, 'dropout_rate': 0.3367547976497126, 'lr': 0.0027445526749991763}. Best is trial 2 with value: 0.0009363084915094078.\n",
            "[I 2025-05-04 11:37:35,267] Trial 3 finished with value: 0.0014039397821761668 and parameters: {'hidden_size': 88, 'num_layers': 1, 'dropout_rate': 0.29452477007259326, 'lr': 0.0008453172353076765}. Best is trial 2 with value: 0.0009363084915094078.\n",
            "[I 2025-05-04 11:44:05,239] Trial 4 finished with value: 0.0009217160637490452 and parameters: {'hidden_size': 248, 'num_layers': 2, 'dropout_rate': 0.10473015551728185, 'lr': 0.0019222194536282068}. Best is trial 4 with value: 0.0009217160637490452.\n",
            "[I 2025-05-04 11:45:14,131] Trial 5 finished with value: 0.002364804494815568 and parameters: {'hidden_size': 64, 'num_layers': 3, 'dropout_rate': 0.1745078718035153, 'lr': 0.0018662848796120706}. Best is trial 4 with value: 0.0009217160637490452.\n",
            "[I 2025-05-04 11:46:45,411] Trial 6 finished with value: 0.0009446481514411668 and parameters: {'hidden_size': 72, 'num_layers': 3, 'dropout_rate': 0.43108827975154385, 'lr': 0.0010586830655921855}. Best is trial 4 with value: 0.0009217160637490452.\n",
            "[I 2025-05-04 11:53:17,204] Trial 7 finished with value: 0.0016520823274428645 and parameters: {'hidden_size': 248, 'num_layers': 2, 'dropout_rate': 0.2107785404721906, 'lr': 0.00033399466289706363}. Best is trial 4 with value: 0.0009217160637490452.\n",
            "[I 2025-05-04 11:55:42,737] Trial 8 finished with value: 0.0017043816857039928 and parameters: {'hidden_size': 112, 'num_layers': 3, 'dropout_rate': 0.28564508620905404, 'lr': 0.0028966716195197215}. Best is trial 4 with value: 0.0009217160637490452.\n",
            "[I 2025-05-04 11:56:50,184] Trial 9 finished with value: 0.0012242792407050728 and parameters: {'hidden_size': 80, 'num_layers': 2, 'dropout_rate': 0.4883647984351066, 'lr': 0.00042312112200596646}. Best is trial 4 with value: 0.0009217160637490452.\n",
            "[I 2025-05-04 12:06:05,179] Trial 10 finished with value: 0.0007780047288785378 and parameters: {'hidden_size': 208, 'num_layers': 4, 'dropout_rate': 0.10150150182415893, 'lr': 0.008158201102179167}. Best is trial 10 with value: 0.0007780047288785378.\n",
            "[I 2025-05-04 12:15:22,047] Trial 11 finished with value: 0.001216058359326174 and parameters: {'hidden_size': 208, 'num_layers': 4, 'dropout_rate': 0.10455218463048958, 'lr': 0.005188973531170703}. Best is trial 10 with value: 0.0007780047288785378.\n",
            "[I 2025-05-04 12:20:30,443] Trial 12 finished with value: 0.0014892265006589392 and parameters: {'hidden_size': 144, 'num_layers': 4, 'dropout_rate': 0.10021401388074146, 'lr': 0.007706361244008539}. Best is trial 10 with value: 0.0007780047288785378.\n",
            "[I 2025-05-04 12:26:36,053] Trial 13 finished with value: 0.0009934731565105419 and parameters: {'hidden_size': 160, 'num_layers': 4, 'dropout_rate': 0.1472099177582621, 'lr': 0.007995942640070851}. Best is trial 10 with value: 0.0007780047288785378.\n",
            "[I 2025-05-04 12:33:17,681] Trial 14 finished with value: 0.0008595070413624247 and parameters: {'hidden_size': 248, 'num_layers': 2, 'dropout_rate': 0.22999684756135017, 'lr': 0.004134715637820483}. Best is trial 10 with value: 0.0007780047288785378.\n",
            "[I 2025-05-04 12:34:27,112] Trial 15 finished with value: 0.0017836465577905378 and parameters: {'hidden_size': 120, 'num_layers': 1, 'dropout_rate': 0.24756085614285134, 'lr': 0.004354237753195913}. Best is trial 10 with value: 0.0007780047288785378.\n",
            "[I 2025-05-04 12:38:46,685] Trial 16 finished with value: 0.0013248231184358398 and parameters: {'hidden_size': 128, 'num_layers': 4, 'dropout_rate': 0.4134907347172168, 'lr': 0.009761726919822616}. Best is trial 10 with value: 0.0007780047288785378.\n",
            "[I 2025-05-04 12:40:58,279] Trial 17 finished with value: 0.0022968179856737454 and parameters: {'hidden_size': 104, 'num_layers': 3, 'dropout_rate': 0.34794479677290496, 'lr': 0.005155735489237549}. Best is trial 10 with value: 0.0007780047288785378.\n",
            "[I 2025-05-04 12:45:47,082] Trial 18 finished with value: 0.0042194946513821685 and parameters: {'hidden_size': 208, 'num_layers': 2, 'dropout_rate': 0.23954354360057073, 'lr': 0.001079688147299901}. Best is trial 10 with value: 0.0007780047288785378.\n",
            "[I 2025-05-04 12:46:17,093] Trial 19 finished with value: 0.0007859093486331404 and parameters: {'hidden_size': 56, 'num_layers': 1, 'dropout_rate': 0.15139338896776483, 'lr': 0.003580702309403581}. Best is trial 10 with value: 0.0007780047288785378.\n",
            "[I 2025-05-04 12:46:47,166] Trial 20 finished with value: 0.0017389459535479546 and parameters: {'hidden_size': 56, 'num_layers': 1, 'dropout_rate': 0.1537155826611346, 'lr': 0.0018152188407250954}. Best is trial 10 with value: 0.0007780047288785378.\n",
            "[I 2025-05-04 12:48:38,727] Trial 21 finished with value: 0.0008665283035952598 and parameters: {'hidden_size': 168, 'num_layers': 1, 'dropout_rate': 0.17167783799965658, 'lr': 0.0037420376672807226}. Best is trial 10 with value: 0.0007780047288785378.\n",
            "[I 2025-05-04 12:49:10,860] Trial 22 finished with value: 0.0008653211019312342 and parameters: {'hidden_size': 40, 'num_layers': 2, 'dropout_rate': 0.13762926140941414, 'lr': 0.006384667755382342}. Best is trial 10 with value: 0.0007780047288785378.\n",
            "[I 2025-05-04 12:51:35,192] Trial 23 finished with value: 0.0007457658182829618 and parameters: {'hidden_size': 200, 'num_layers': 1, 'dropout_rate': 0.2080915535702409, 'lr': 0.0028327642777341757}. Best is trial 23 with value: 0.0007457658182829618.\n",
            "[I 2025-05-04 12:54:00,682] Trial 24 finished with value: 0.0021403167862445115 and parameters: {'hidden_size': 200, 'num_layers': 1, 'dropout_rate': 0.18885054826282804, 'lr': 0.003091502801436031}. Best is trial 23 with value: 0.0007457658182829618.\n",
            "[I 2025-05-04 12:54:30,367] Trial 25 finished with value: 0.002403775470641752 and parameters: {'hidden_size': 56, 'num_layers': 1, 'dropout_rate': 0.11922255643042332, 'lr': 0.0021862297246136265}. Best is trial 23 with value: 0.0007457658182829618.\n",
            "[I 2025-05-04 12:56:44,404] Trial 26 finished with value: 0.0007978393696248531 and parameters: {'hidden_size': 192, 'num_layers': 1, 'dropout_rate': 0.144423722015637, 'lr': 0.0013602790045765686}. Best is trial 23 with value: 0.0007457658182829618.\n",
            "[I 2025-05-04 13:03:44,662] Trial 27 finished with value: 0.0022144809442882735 and parameters: {'hidden_size': 176, 'num_layers': 4, 'dropout_rate': 0.2571295411875798, 'lr': 0.0006850585247024208}. Best is trial 23 with value: 0.0007457658182829618.\n",
            "[I 2025-05-04 13:04:03,772] Trial 28 finished with value: 0.001127261338600268 and parameters: {'hidden_size': 32, 'num_layers': 1, 'dropout_rate': 0.17086329271772838, 'lr': 0.006153637147247674}. Best is trial 23 with value: 0.0007457658182829618.\n",
            "[I 2025-05-04 13:04:41,940] Trial 29 finished with value: 0.0013735546497628092 and parameters: {'hidden_size': 48, 'num_layers': 2, 'dropout_rate': 0.20926918238004708, 'lr': 0.00010076704686221714}. Best is trial 23 with value: 0.0007457658182829618.\n"
          ]
        },
        {
          "name": "stdout",
          "output_type": "stream",
          "text": [
            "Best parameters: {'hidden_size': 200, 'num_layers': 1, 'dropout_rate': 0.2080915535702409, 'lr': 0.0028327642777341757}\n"
          ]
        }
      ],
      "source": [
        "study = optuna.create_study(direction=\"minimize\")\n",
        "study.optimize(objective, n_trials=30)\n",
        "print(\"Best parameters:\", study.best_params)"
      ]
    },
    {
      "cell_type": "markdown",
      "id": "c4e1b03c",
      "metadata": {
        "id": "c4e1b03c"
      },
      "source": [
        "Инициализация модели и функция обучения"
      ]
    },
    {
      "cell_type": "code",
      "execution_count": null,
      "id": "dcf928aa",
      "metadata": {
        "id": "dcf928aa"
      },
      "outputs": [],
      "source": [
        "\n",
        "model = TemporalFusionTransformer(input_size=4, hidden_size=200, num_layers=1, dropout_rate=0.2080915535702409, output_size=1)\n",
        "optimizer = optim.Adam(model.parameters(), lr=0.0028327642777341757)\n",
        "criterion = nn.MSELoss()\n",
        "\n",
        "def train_model(model, train_loader, optimizer, criterion, epochs=100):\n",
        "    model.train()\n",
        "    for epoch in range(epochs):\n",
        "        running_loss = 0.0\n",
        "        for inputs, labels in train_loader:\n",
        "            optimizer.zero_grad()\n",
        "            outputs = model(inputs)\n",
        "            loss = criterion(outputs, labels)\n",
        "            loss.backward()\n",
        "            optimizer.step()\n",
        "            running_loss += loss.item()\n",
        "\n",
        "        if (epoch + 1) % 10 == 0:\n",
        "            print(f\"Epoch [{epoch+1}/{epochs}], Loss: {loss.item():.4f}\")"
      ]
    },
    {
      "cell_type": "markdown",
      "id": "5ce738d6",
      "metadata": {
        "id": "5ce738d6"
      },
      "source": [
        "Обучение"
      ]
    },
    {
      "cell_type": "code",
      "execution_count": 6,
      "id": "a9694ee9",
      "metadata": {
        "colab": {
          "base_uri": "https://localhost:8080/"
        },
        "id": "a9694ee9",
        "outputId": "3af0958a-cfa9-4cdf-c3a4-fb477189b111"
      },
      "outputs": [
        {
          "name": "stdout",
          "output_type": "stream",
          "text": [
            "Epoch [10/100], Loss: 0.0073\n",
            "Epoch [20/100], Loss: 0.0029\n",
            "Epoch [30/100], Loss: 0.0063\n",
            "Epoch [40/100], Loss: 0.0038\n",
            "Epoch [50/100], Loss: 0.0040\n",
            "Epoch [60/100], Loss: 0.0021\n",
            "Epoch [70/100], Loss: 0.0033\n",
            "Epoch [80/100], Loss: 0.0079\n",
            "Epoch [90/100], Loss: 0.0032\n",
            "Epoch [100/100], Loss: 0.0027\n"
          ]
        }
      ],
      "source": [
        "start_time = time.time()\n",
        "train_model(model, train_loader, optimizer, criterion, epochs=100)\n",
        "end_time = time.time()"
      ]
    },
    {
      "cell_type": "markdown",
      "id": "26b583c7",
      "metadata": {},
      "source": [
        "Предсказание и метрики"
      ]
    },
    {
      "cell_type": "code",
      "execution_count": null,
      "id": "ed180374",
      "metadata": {
        "colab": {
          "base_uri": "https://localhost:8080/"
        },
        "id": "ed180374",
        "outputId": "3b8ca15b-e953-476c-f471-9ea9e57f9552"
      },
      "outputs": [
        {
          "name": "stdout",
          "output_type": "stream",
          "text": [
            "Transformer RMSE: 29.933020379448173, MAE: 23.394549634348877, R²: 0.2654410910007079, Correlation: 0.5993734666430955\n"
          ]
        }
      ],
      "source": [
        "def evaluate_model(model, test_loader):\n",
        "    model.eval()\n",
        "    predictions = []\n",
        "    true_values = []\n",
        "\n",
        "    with torch.no_grad():\n",
        "        for inputs, labels in test_loader:\n",
        "            outputs = model(inputs)\n",
        "            predictions.append(outputs.numpy())\n",
        "            true_values.append(labels.numpy())\n",
        "\n",
        "    predictions = np.concatenate(predictions, axis=0)\n",
        "    true_values = np.concatenate(true_values, axis=0)\n",
        "\n",
        "    return predictions, true_values\n",
        "\n",
        "predictions, true_values = evaluate_model(model, test_loader)\n",
        "n_samples = predictions.shape[0]\n",
        "preds_extended = np.zeros((n_samples, 4))\n",
        "preds_extended[:, 0] = predictions[:, 0]\n",
        "predictions = scaler.inverse_transform(preds_extended)[:, 0]\n",
        "true_extended = np.zeros((true_values.shape[0], 4))\n",
        "true_extended[:, 0] = true_values[:, 0]\n",
        "true_values = scaler.inverse_transform(true_extended)[:, 0]\n",
        "\n",
        "rmse = np.sqrt(mean_squared_error(true_values, predictions))\n",
        "mae = mean_absolute_error(true_values, predictions)\n",
        "r2 = r2_score(true_values, predictions)\n",
        "\n",
        "correlation = np.corrcoef(true_values.flatten(), predictions.flatten())[0, 1]\n",
        "\n",
        "print(f\"Transformer RMSE: {rmse}, MAE: {mae}, R²: {r2}, Correlation: {correlation}\")"
      ]
    },
    {
      "cell_type": "markdown",
      "id": "2fbe95fc",
      "metadata": {
        "id": "2fbe95fc"
      },
      "source": [
        "Время обучения"
      ]
    },
    {
      "cell_type": "code",
      "execution_count": 15,
      "id": "fe3afe14",
      "metadata": {
        "colab": {
          "base_uri": "https://localhost:8080/"
        },
        "id": "fe3afe14",
        "outputId": "2e1d99bd-623f-48f8-9cd8-8a4818352cd5"
      },
      "outputs": [
        {
          "name": "stdout",
          "output_type": "stream",
          "text": [
            "Время обучения: 1849.3701479434967 секунд\n"
          ]
        }
      ],
      "source": [
        "print(f\"Время обучения: {end_time - start_time} секунд\")"
      ]
    }
  ],
  "metadata": {
    "colab": {
      "provenance": []
    },
    "kernelspec": {
      "display_name": "Python 3",
      "name": "python3"
    },
    "language_info": {
      "codemirror_mode": {
        "name": "ipython",
        "version": 3
      },
      "file_extension": ".py",
      "mimetype": "text/x-python",
      "name": "python",
      "nbconvert_exporter": "python",
      "pygments_lexer": "ipython3",
      "version": "3.9.18"
    }
  },
  "nbformat": 4,
  "nbformat_minor": 5
}
