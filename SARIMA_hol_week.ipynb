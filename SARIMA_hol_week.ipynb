{
 "cells": [
  {
   "cell_type": "code",
   "execution_count": 1,
   "id": "e7d7604d",
   "metadata": {},
   "outputs": [],
   "source": [
    "import pandas as pd\n",
    "import numpy as np\n",
    "import matplotlib.pyplot as plt\n",
    "import optuna\n",
    "from statsmodels.tsa.statespace.sarimax import SARIMAX\n",
    "from sklearn.metrics import mean_squared_error, mean_absolute_error, r2_score\n",
    "from scipy.stats import pearsonr\n",
    "import warnings\n",
    "warnings.filterwarnings(\"ignore\")"
   ]
  },
  {
   "cell_type": "markdown",
   "id": "c3117850",
   "metadata": {},
   "source": [
    "Загрузка и подготовка данных"
   ]
  },
  {
   "cell_type": "code",
   "execution_count": null,
   "id": "b60a9b51",
   "metadata": {},
   "outputs": [],
   "source": [
    "df = pd.read_csv(\"daily_accidents_hol_dw_week.csv\", parse_dates=[\"CRASH DATE\"])\n",
    "df.sort_values(\"CRASH DATE\", inplace=True)\n",
    "df.set_index(\"CRASH DATE\", inplace=True)\n",
    "df.index.freq = \"D\"\n",
    "\n",
    "target = df[\"CRASH_COUNT\"]\n",
    "exog_vars = [\"is_weekend\", \"month\", \"is_holiday\"]\n",
    "exog = df[exog_vars]\n",
    "\n",
    "train_size = int(len(df) * 0.8)\n",
    "y_train, y_test = target[:train_size], target[train_size:]\n",
    "exog_train, exog_test = exog[:train_size], exog[train_size:]"
   ]
  },
  {
   "cell_type": "markdown",
   "id": "12397c63",
   "metadata": {},
   "source": [
    "Функция подбора гиперпараметров"
   ]
  },
  {
   "cell_type": "code",
   "execution_count": null,
   "id": "1989a135",
   "metadata": {},
   "outputs": [],
   "source": [
    "def objective(trial):\n",
    "    p = trial.suggest_int(\"p\", 0, 3)\n",
    "    q = trial.suggest_int(\"q\", 0, 3)\n",
    "    d = 1  \n",
    "    P = trial.suggest_int(\"P\", 0, 2)\n",
    "    Q = trial.suggest_int(\"Q\", 0, 2)\n",
    "    D = trial.suggest_int(\"D\", 0, 1)\n",
    "    m = 7 \n",
    "\n",
    "    try:\n",
    "        model = SARIMAX(y_train,\n",
    "                        exog=exog_train,\n",
    "                        order=(p, d, q),\n",
    "                        seasonal_order=(P, D, Q, m),\n",
    "                        enforce_stationarity=False,\n",
    "                        enforce_invertibility=False)\n",
    "        model_fit = model.fit(disp=False)\n",
    "\n",
    "        if not model_fit.mle_retvals['converged']:\n",
    "            return float(\"inf\")\n",
    "\n",
    "        preds = model_fit.predict(start=len(y_train), end=len(target)-1, exog=exog_test)\n",
    "        return mean_squared_error(y_test, preds)\n",
    "\n",
    "    except:\n",
    "        return float(\"inf\")"
   ]
  },
  {
   "cell_type": "markdown",
   "id": "cab0b624",
   "metadata": {},
   "source": [
    "Подбор гиперпараметров"
   ]
  },
  {
   "cell_type": "code",
   "execution_count": 6,
   "id": "8c9b48cf",
   "metadata": {},
   "outputs": [
    {
     "name": "stderr",
     "output_type": "stream",
     "text": [
      "[I 2025-05-06 13:59:23,647] A new study created in memory with name: no-name-d0ea56ee-620f-4f1b-9417-27079ca5d86e\n",
      "[I 2025-05-06 13:59:53,956] Trial 0 finished with value: inf and parameters: {'p': 2, 'q': 1, 'P': 1, 'Q': 2, 'D': 0}. Best is trial 0 with value: inf.\n",
      "[I 2025-05-06 14:00:05,647] Trial 1 finished with value: inf and parameters: {'p': 3, 'q': 0, 'P': 1, 'Q': 2, 'D': 0}. Best is trial 0 with value: inf.\n",
      "[I 2025-05-06 14:00:12,260] Trial 2 finished with value: 3036.033330457284 and parameters: {'p': 3, 'q': 3, 'P': 0, 'Q': 0, 'D': 0}. Best is trial 2 with value: 3036.033330457284.\n",
      "[I 2025-05-06 14:00:27,178] Trial 3 finished with value: inf and parameters: {'p': 0, 'q': 3, 'P': 2, 'Q': 1, 'D': 0}. Best is trial 2 with value: 3036.033330457284.\n",
      "[I 2025-05-06 14:00:59,597] Trial 4 finished with value: 1279.9920991899896 and parameters: {'p': 2, 'q': 1, 'P': 2, 'Q': 0, 'D': 1}. Best is trial 4 with value: 1279.9920991899896.\n",
      "[I 2025-05-06 14:01:15,981] Trial 5 finished with value: 1390.475867623013 and parameters: {'p': 0, 'q': 3, 'P': 0, 'Q': 1, 'D': 1}. Best is trial 4 with value: 1279.9920991899896.\n",
      "[I 2025-05-06 14:01:20,433] Trial 6 finished with value: 3706.984395265642 and parameters: {'p': 1, 'q': 2, 'P': 1, 'Q': 0, 'D': 0}. Best is trial 4 with value: 1279.9920991899896.\n",
      "[I 2025-05-06 14:01:32,941] Trial 7 finished with value: inf and parameters: {'p': 0, 'q': 3, 'P': 2, 'Q': 1, 'D': 0}. Best is trial 4 with value: 1279.9920991899896.\n",
      "[I 2025-05-06 14:01:41,062] Trial 8 finished with value: inf and parameters: {'p': 2, 'q': 1, 'P': 1, 'Q': 1, 'D': 0}. Best is trial 4 with value: 1279.9920991899896.\n",
      "[I 2025-05-06 14:02:16,928] Trial 9 finished with value: inf and parameters: {'p': 1, 'q': 3, 'P': 2, 'Q': 2, 'D': 0}. Best is trial 4 with value: 1279.9920991899896.\n",
      "[I 2025-05-06 14:02:28,850] Trial 10 finished with value: 2601.686658018756 and parameters: {'p': 2, 'q': 0, 'P': 2, 'Q': 0, 'D': 1}. Best is trial 4 with value: 1279.9920991899896.\n",
      "[I 2025-05-06 14:02:32,047] Trial 11 finished with value: 2812.688719714895 and parameters: {'p': 1, 'q': 2, 'P': 0, 'Q': 0, 'D': 1}. Best is trial 4 with value: 1279.9920991899896.\n",
      "[I 2025-05-06 14:02:43,190] Trial 12 finished with value: 2880.0950802287703 and parameters: {'p': 0, 'q': 1, 'P': 0, 'Q': 1, 'D': 1}. Best is trial 4 with value: 1279.9920991899896.\n",
      "[I 2025-05-06 14:02:47,131] Trial 13 finished with value: 2805.242674418035 and parameters: {'p': 2, 'q': 2, 'P': 0, 'Q': 0, 'D': 1}. Best is trial 4 with value: 1279.9920991899896.\n",
      "[I 2025-05-06 14:03:04,595] Trial 14 finished with value: 1311.4246021738697 and parameters: {'p': 1, 'q': 1, 'P': 1, 'Q': 1, 'D': 1}. Best is trial 4 with value: 1279.9920991899896.\n",
      "[I 2025-05-06 14:03:11,670] Trial 15 finished with value: 1737.260748308103 and parameters: {'p': 1, 'q': 1, 'P': 1, 'Q': 0, 'D': 1}. Best is trial 4 with value: 1279.9920991899896.\n",
      "[I 2025-05-06 14:03:47,084] Trial 16 finished with value: inf and parameters: {'p': 3, 'q': 0, 'P': 2, 'Q': 2, 'D': 1}. Best is trial 4 with value: 1279.9920991899896.\n",
      "[I 2025-05-06 14:04:08,233] Trial 17 finished with value: inf and parameters: {'p': 2, 'q': 1, 'P': 1, 'Q': 1, 'D': 1}. Best is trial 4 with value: 1279.9920991899896.\n",
      "[I 2025-05-06 14:04:16,859] Trial 18 finished with value: inf and parameters: {'p': 1, 'q': 2, 'P': 1, 'Q': 0, 'D': 1}. Best is trial 4 with value: 1279.9920991899896.\n",
      "[I 2025-05-06 14:04:42,434] Trial 19 finished with value: inf and parameters: {'p': 2, 'q': 0, 'P': 2, 'Q': 1, 'D': 1}. Best is trial 4 with value: 1279.9920991899896.\n",
      "[I 2025-05-06 14:05:01,187] Trial 20 finished with value: 1311.4246021738697 and parameters: {'p': 1, 'q': 1, 'P': 1, 'Q': 1, 'D': 1}. Best is trial 4 with value: 1279.9920991899896.\n",
      "[I 2025-05-06 14:05:21,239] Trial 21 finished with value: 1311.4246021738697 and parameters: {'p': 1, 'q': 1, 'P': 1, 'Q': 1, 'D': 1}. Best is trial 4 with value: 1279.9920991899896.\n",
      "[I 2025-05-06 14:05:41,363] Trial 22 finished with value: 1311.4246021738697 and parameters: {'p': 1, 'q': 1, 'P': 1, 'Q': 1, 'D': 1}. Best is trial 4 with value: 1279.9920991899896.\n",
      "[I 2025-05-06 14:06:18,482] Trial 23 finished with value: inf and parameters: {'p': 1, 'q': 1, 'P': 2, 'Q': 2, 'D': 1}. Best is trial 4 with value: 1279.9920991899896.\n",
      "[I 2025-05-06 14:06:52,047] Trial 24 finished with value: inf and parameters: {'p': 2, 'q': 2, 'P': 1, 'Q': 1, 'D': 1}. Best is trial 4 with value: 1279.9920991899896.\n",
      "[I 2025-05-06 14:06:55,971] Trial 25 finished with value: 234533.06912536966 and parameters: {'p': 1, 'q': 0, 'P': 1, 'Q': 0, 'D': 1}. Best is trial 4 with value: 1279.9920991899896.\n",
      "[I 2025-05-06 14:07:22,810] Trial 26 finished with value: inf and parameters: {'p': 0, 'q': 1, 'P': 2, 'Q': 1, 'D': 1}. Best is trial 4 with value: 1279.9920991899896.\n",
      "[I 2025-05-06 14:08:02,332] Trial 27 finished with value: inf and parameters: {'p': 2, 'q': 2, 'P': 1, 'Q': 2, 'D': 1}. Best is trial 4 with value: 1279.9920991899896.\n",
      "[I 2025-05-06 14:08:36,018] Trial 28 finished with value: inf and parameters: {'p': 3, 'q': 1, 'P': 2, 'Q': 0, 'D': 1}. Best is trial 4 with value: 1279.9920991899896.\n",
      "[I 2025-05-06 14:08:56,455] Trial 29 finished with value: 4938.395318224222 and parameters: {'p': 1, 'q': 0, 'P': 0, 'Q': 2, 'D': 1}. Best is trial 4 with value: 1279.9920991899896.\n",
      "[I 2025-05-06 14:09:16,841] Trial 30 finished with value: inf and parameters: {'p': 2, 'q': 1, 'P': 1, 'Q': 1, 'D': 1}. Best is trial 4 with value: 1279.9920991899896.\n",
      "[I 2025-05-06 14:09:34,458] Trial 31 finished with value: 1311.4246021738697 and parameters: {'p': 1, 'q': 1, 'P': 1, 'Q': 1, 'D': 1}. Best is trial 4 with value: 1279.9920991899896.\n",
      "[I 2025-05-06 14:09:51,953] Trial 32 finished with value: 1311.4246021738697 and parameters: {'p': 1, 'q': 1, 'P': 1, 'Q': 1, 'D': 1}. Best is trial 4 with value: 1279.9920991899896.\n",
      "[I 2025-05-06 14:10:09,631] Trial 33 finished with value: 1311.4246021738697 and parameters: {'p': 1, 'q': 1, 'P': 1, 'Q': 1, 'D': 1}. Best is trial 4 with value: 1279.9920991899896.\n",
      "[I 2025-05-06 14:10:14,518] Trial 34 finished with value: 17250.912052491938 and parameters: {'p': 0, 'q': 0, 'P': 1, 'Q': 1, 'D': 1}. Best is trial 4 with value: 1279.9920991899896.\n",
      "[I 2025-05-06 14:10:34,713] Trial 35 finished with value: inf and parameters: {'p': 2, 'q': 1, 'P': 1, 'Q': 1, 'D': 1}. Best is trial 4 with value: 1279.9920991899896.\n",
      "[I 2025-05-06 14:11:03,569] Trial 36 finished with value: inf and parameters: {'p': 3, 'q': 1, 'P': 0, 'Q': 2, 'D': 1}. Best is trial 4 with value: 1279.9920991899896.\n",
      "[I 2025-05-06 14:11:08,028] Trial 37 finished with value: 3706.984395265642 and parameters: {'p': 1, 'q': 2, 'P': 1, 'Q': 0, 'D': 0}. Best is trial 4 with value: 1279.9920991899896.\n",
      "[I 2025-05-06 14:11:22,234] Trial 38 finished with value: 2778.9495093410314 and parameters: {'p': 0, 'q': 1, 'P': 1, 'Q': 1, 'D': 1}. Best is trial 4 with value: 1279.9920991899896.\n",
      "[I 2025-05-06 14:11:25,840] Trial 39 finished with value: 5891.606049019735 and parameters: {'p': 1, 'q': 0, 'P': 2, 'Q': 0, 'D': 0}. Best is trial 4 with value: 1279.9920991899896.\n",
      "[I 2025-05-06 14:11:43,242] Trial 40 finished with value: 1806.270326860636 and parameters: {'p': 0, 'q': 2, 'P': 1, 'Q': 1, 'D': 1}. Best is trial 4 with value: 1279.9920991899896.\n",
      "[I 2025-05-06 14:12:00,732] Trial 41 finished with value: 1311.4246021738697 and parameters: {'p': 1, 'q': 1, 'P': 1, 'Q': 1, 'D': 1}. Best is trial 4 with value: 1279.9920991899896.\n",
      "[I 2025-05-06 14:12:20,506] Trial 42 finished with value: 1311.4246021738697 and parameters: {'p': 1, 'q': 1, 'P': 1, 'Q': 1, 'D': 1}. Best is trial 4 with value: 1279.9920991899896.\n",
      "[I 2025-05-06 14:12:41,092] Trial 43 finished with value: 1311.4246021738697 and parameters: {'p': 1, 'q': 1, 'P': 1, 'Q': 1, 'D': 1}. Best is trial 4 with value: 1279.9920991899896.\n",
      "[I 2025-05-06 14:13:02,616] Trial 44 finished with value: 1311.4246021738697 and parameters: {'p': 1, 'q': 1, 'P': 1, 'Q': 1, 'D': 1}. Best is trial 4 with value: 1279.9920991899896.\n",
      "[I 2025-05-06 14:13:20,761] Trial 45 finished with value: 1311.4246021738697 and parameters: {'p': 1, 'q': 1, 'P': 1, 'Q': 1, 'D': 1}. Best is trial 4 with value: 1279.9920991899896.\n",
      "[I 2025-05-06 14:13:48,108] Trial 46 finished with value: inf and parameters: {'p': 2, 'q': 1, 'P': 1, 'Q': 2, 'D': 0}. Best is trial 4 with value: 1279.9920991899896.\n",
      "[I 2025-05-06 14:14:23,285] Trial 47 finished with value: inf and parameters: {'p': 1, 'q': 2, 'P': 0, 'Q': 1, 'D': 1}. Best is trial 4 with value: 1279.9920991899896.\n",
      "[I 2025-05-06 14:14:24,242] Trial 48 finished with value: 1370398.8816538004 and parameters: {'p': 0, 'q': 0, 'P': 1, 'Q': 0, 'D': 1}. Best is trial 4 with value: 1279.9920991899896.\n",
      "[I 2025-05-06 14:14:51,256] Trial 49 finished with value: inf and parameters: {'p': 2, 'q': 1, 'P': 2, 'Q': 1, 'D': 1}. Best is trial 4 with value: 1279.9920991899896.\n"
     ]
    }
   ],
   "source": [
    "study = optuna.create_study(direction=\"minimize\")\n",
    "study.optimize(objective, n_trials=50)"
   ]
  },
  {
   "cell_type": "markdown",
   "id": "6525bfda",
   "metadata": {},
   "source": [
    "Обучение"
   ]
  },
  {
   "cell_type": "code",
   "execution_count": 7,
   "id": "347ed61a",
   "metadata": {},
   "outputs": [],
   "source": [
    "best_params = study.best_params\n",
    "d = 1\n",
    "m = 7\n",
    "\n",
    "final_model = SARIMAX(target,\n",
    "                      exog=exog,\n",
    "                      order=(best_params[\"p\"], d, best_params[\"q\"]),\n",
    "                      seasonal_order=(best_params[\"P\"], best_params[\"D\"], best_params[\"Q\"], m),\n",
    "                      enforce_stationarity=False,\n",
    "                      enforce_invertibility=False)\n",
    "model_fit = final_model.fit(disp=False)"
   ]
  },
  {
   "cell_type": "markdown",
   "id": "0273d82b",
   "metadata": {},
   "source": [
    "Предсказание"
   ]
  },
  {
   "cell_type": "code",
   "execution_count": 8,
   "id": "5d891c90",
   "metadata": {},
   "outputs": [],
   "source": [
    "forecast = model_fit.predict(start=len(y_train), end=len(target)-1, exog=exog_test)"
   ]
  },
  {
   "cell_type": "markdown",
   "id": "891b808a",
   "metadata": {},
   "source": [
    "Метрики"
   ]
  },
  {
   "cell_type": "code",
   "execution_count": 9,
   "id": "9f0e3933",
   "metadata": {},
   "outputs": [],
   "source": [
    "rmse = np.sqrt(mean_squared_error(y_test, forecast))\n",
    "mae = mean_absolute_error(y_test, forecast)\n",
    "r2 = r2_score(y_test, forecast)\n",
    "corr, _ = pearsonr(y_test.values, forecast.values)"
   ]
  },
  {
   "cell_type": "code",
   "execution_count": null,
   "id": "c29afc86",
   "metadata": {},
   "outputs": [
    {
     "name": "stdout",
     "output_type": "stream",
     "text": [
      "LSTM RMSE: 31.23807833100531, MAE: 24.67303706067422, R²: 0.22309559252346722, Correlation: 0.5452030794547537\n"
     ]
    }
   ],
   "source": [
    "print(f\"LSTM RMSE: {rmse}, MAE: {mae}, R²: {r2}, Correlation: {corr}\")"
   ]
  }
 ],
 "metadata": {
  "kernelspec": {
   "display_name": "base",
   "language": "python",
   "name": "python3"
  },
  "language_info": {
   "codemirror_mode": {
    "name": "ipython",
    "version": 3
   },
   "file_extension": ".py",
   "mimetype": "text/x-python",
   "name": "python",
   "nbconvert_exporter": "python",
   "pygments_lexer": "ipython3",
   "version": "3.9.18"
  }
 },
 "nbformat": 4,
 "nbformat_minor": 5
}
