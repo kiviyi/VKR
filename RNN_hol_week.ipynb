{
  "cells": [
    {
      "cell_type": "code",
      "execution_count": null,
      "id": "JACmbuN2wxsV",
      "metadata": {
        "colab": {
          "base_uri": "https://localhost:8080/"
        },
        "id": "JACmbuN2wxsV",
        "outputId": "1c793da1-838b-4923-af4f-2ec33e6fd354"
      },
      "outputs": [
        {
          "name": "stdout",
          "output_type": "stream",
          "text": [
            "Collecting optuna\n",
            "  Downloading optuna-4.3.0-py3-none-any.whl.metadata (17 kB)\n",
            "Collecting alembic>=1.5.0 (from optuna)\n",
            "  Downloading alembic-1.15.2-py3-none-any.whl.metadata (7.3 kB)\n",
            "Collecting colorlog (from optuna)\n",
            "  Downloading colorlog-6.9.0-py3-none-any.whl.metadata (10 kB)\n",
            "Requirement already satisfied: numpy in /usr/local/lib/python3.11/dist-packages (from optuna) (2.0.2)\n",
            "Requirement already satisfied: packaging>=20.0 in /usr/local/lib/python3.11/dist-packages (from optuna) (24.2)\n",
            "Requirement already satisfied: sqlalchemy>=1.4.2 in /usr/local/lib/python3.11/dist-packages (from optuna) (2.0.40)\n",
            "Requirement already satisfied: tqdm in /usr/local/lib/python3.11/dist-packages (from optuna) (4.67.1)\n",
            "Requirement already satisfied: PyYAML in /usr/local/lib/python3.11/dist-packages (from optuna) (6.0.2)\n",
            "Requirement already satisfied: Mako in /usr/lib/python3/dist-packages (from alembic>=1.5.0->optuna) (1.1.3)\n",
            "Requirement already satisfied: typing-extensions>=4.12 in /usr/local/lib/python3.11/dist-packages (from alembic>=1.5.0->optuna) (4.13.2)\n",
            "Requirement already satisfied: greenlet>=1 in /usr/local/lib/python3.11/dist-packages (from sqlalchemy>=1.4.2->optuna) (3.2.1)\n",
            "Downloading optuna-4.3.0-py3-none-any.whl (386 kB)\n",
            "\u001b[2K   \u001b[90m━━━━━━━━━━━━━━━━━━━━━━━━━━━━━━━━━━━━━━━━\u001b[0m \u001b[32m386.6/386.6 kB\u001b[0m \u001b[31m9.8 MB/s\u001b[0m eta \u001b[36m0:00:00\u001b[0m\n",
            "\u001b[?25hDownloading alembic-1.15.2-py3-none-any.whl (231 kB)\n",
            "\u001b[2K   \u001b[90m━━━━━━━━━━━━━━━━━━━━━━━━━━━━━━━━━━━━━━━━\u001b[0m \u001b[32m231.9/231.9 kB\u001b[0m \u001b[31m12.6 MB/s\u001b[0m eta \u001b[36m0:00:00\u001b[0m\n",
            "\u001b[?25hDownloading colorlog-6.9.0-py3-none-any.whl (11 kB)\n",
            "Installing collected packages: colorlog, alembic, optuna\n",
            "Successfully installed alembic-1.15.2 colorlog-6.9.0 optuna-4.3.0\n"
          ]
        }
      ],
      "source": [
        "!pip install optuna"
      ]
    },
    {
      "cell_type": "code",
      "execution_count": null,
      "id": "845d7490",
      "metadata": {
        "id": "845d7490"
      },
      "outputs": [],
      "source": [
        "import pandas as pd\n",
        "import numpy as np\n",
        "import torch\n",
        "import torch.nn as nn\n",
        "from sklearn.preprocessing import MinMaxScaler\n",
        "from sklearn.metrics import mean_squared_error, mean_absolute_error, r2_score\n",
        "import matplotlib.pyplot as plt\n",
        "import seaborn as sns\n",
        "from sklearn.model_selection import train_test_split\n",
        "import time\n",
        "import scipy.stats\n",
        "from torch.utils.data import TensorDataset, DataLoader\n",
        "import optuna\n",
        "from torch import optim\n",
        "import copy\n",
        "import torch.nn.functional as F"
      ]
    },
    {
      "cell_type": "markdown",
      "id": "949f6270",
      "metadata": {
        "id": "949f6270"
      },
      "source": [
        "Загрузка данных"
      ]
    },
    {
      "cell_type": "code",
      "execution_count": 2,
      "id": "3271e811",
      "metadata": {
        "id": "3271e811"
      },
      "outputs": [],
      "source": [
        "df = pd.read_csv('daily_accidents_hol_dw_week.csv', parse_dates=['CRASH DATE'])\n",
        "df['CRASH DATE'] = pd.to_datetime(df['CRASH DATE'])\n",
        "df.set_index('CRASH DATE', inplace=True)\n",
        "features = ['CRASH_COUNT', 'is_weekend', 'month', 'is_holiday']\n",
        "df_features = df[features]"
      ]
    },
    {
      "cell_type": "markdown",
      "id": "7b682624",
      "metadata": {
        "id": "7b682624"
      },
      "source": [
        "Масштабирование данных"
      ]
    },
    {
      "cell_type": "code",
      "execution_count": null,
      "id": "7aa3cf1d",
      "metadata": {
        "id": "7aa3cf1d"
      },
      "outputs": [],
      "source": [
        "scaler_X = MinMaxScaler()\n",
        "scaled_features = scaler_X.fit_transform(df_features)\n",
        "\n",
        "scaler_y = MinMaxScaler()\n",
        "scaled_target = scaler_y.fit_transform(df[['CRASH_COUNT']])"
      ]
    },
    {
      "cell_type": "markdown",
      "id": "44cf3713",
      "metadata": {
        "id": "44cf3713"
      },
      "source": [
        "Создание датасета"
      ]
    },
    {
      "cell_type": "code",
      "execution_count": 4,
      "id": "909693c9",
      "metadata": {
        "id": "909693c9"
      },
      "outputs": [],
      "source": [
        "def create_multivariate_dataset(X_data, y_data, time_step=1):\n",
        "    X, y = [], []\n",
        "    for i in range(len(X_data) - time_step):\n",
        "        X.append(X_data[i:i+time_step])\n",
        "        y.append(y_data[i+time_step])\n",
        "    return np.array(X), np.array(y)\n",
        "\n",
        "time_step = 60\n",
        "X, y = create_multivariate_dataset(scaled_features, scaled_target, time_step)\n"
      ]
    },
    {
      "cell_type": "markdown",
      "id": "12f0ecd1",
      "metadata": {
        "id": "12f0ecd1"
      },
      "source": [
        "Создание  обучающей и тестовой выборки"
      ]
    },
    {
      "cell_type": "code",
      "execution_count": null,
      "id": "d6f44d3a",
      "metadata": {
        "id": "d6f44d3a"
      },
      "outputs": [],
      "source": [
        "X_train, X_test, y_train, y_test = train_test_split(X, y, test_size=0.2, shuffle=False)\n",
        "\n",
        "X_train = torch.tensor(X_train, dtype=torch.float32)\n",
        "X_test = torch.tensor(X_test, dtype=torch.float32)\n",
        "y_train = torch.tensor(y_train, dtype=torch.float32)\n",
        "y_test = torch.tensor(y_test, dtype=torch.float32)\n",
        "\n",
        "if y_train.ndim == 1:\n",
        "    y_train = y_train.unsqueeze(-1)\n",
        "    y_test = y_test.unsqueeze(-1)\n",
        "\n",
        "train_dataset = TensorDataset(X_train, y_train)\n",
        "test_dataset = TensorDataset(X_test, y_test)\n",
        "train_loader = DataLoader(train_dataset, batch_size=32, shuffle=False)\n",
        "test_loader = DataLoader(test_dataset, batch_size=32, shuffle=False)"
      ]
    },
    {
      "cell_type": "markdown",
      "id": "a5263b82",
      "metadata": {
        "id": "a5263b82"
      },
      "source": [
        "Определение моделей"
      ]
    },
    {
      "cell_type": "code",
      "execution_count": 6,
      "id": "61b03992",
      "metadata": {
        "id": "61b03992"
      },
      "outputs": [],
      "source": [
        "class LSTMModel(nn.Module):\n",
        "    def __init__(self, input_size, hidden_layer_size, output_size, num_layers, dropout, bidirectional):\n",
        "        super(LSTMModel, self).__init__()\n",
        "        self.bidirectional = bidirectional\n",
        "        self.lstm = nn.LSTM(\n",
        "            input_size,\n",
        "            hidden_layer_size,\n",
        "            num_layers=num_layers,\n",
        "            batch_first=True,\n",
        "            dropout=dropout if num_layers > 1 else 0.0,\n",
        "            bidirectional=bidirectional\n",
        "        )\n",
        "        self.fc = nn.Linear(hidden_layer_size * (2 if bidirectional else 1), output_size)\n",
        "\n",
        "    def forward(self, x):\n",
        "        out, _ = self.lstm(x)\n",
        "        out = self.fc(out[:, -1, :])\n",
        "        return out\n",
        "\n",
        "\n",
        "class GRUModel(nn.Module):\n",
        "    def __init__(self, input_size, hidden_layer_size, output_size, num_layers, dropout, bidirectional):\n",
        "        super(GRUModel, self).__init__()\n",
        "        self.bidirectional = bidirectional\n",
        "        self.gru = nn.GRU(\n",
        "            input_size,\n",
        "            hidden_layer_size,\n",
        "            num_layers=num_layers,\n",
        "            batch_first=True,\n",
        "            dropout=dropout if num_layers > 1 else 0.0,\n",
        "            bidirectional=bidirectional\n",
        "        )\n",
        "        self.fc = nn.Linear(hidden_layer_size * (2 if bidirectional else 1), output_size)\n",
        "\n",
        "    def forward(self, x):\n",
        "        out, _ = self.gru(x)\n",
        "        out = self.fc(out[:, -1, :])\n",
        "        return out\n"
      ]
    },
    {
      "cell_type": "markdown",
      "id": "ac0552ba",
      "metadata": {
        "id": "ac0552ba"
      },
      "source": [
        "Функция подбора гиперпараметров LSTM"
      ]
    },
    {
      "cell_type": "code",
      "execution_count": null,
      "id": "a622ac4f",
      "metadata": {
        "id": "a622ac4f"
      },
      "outputs": [],
      "source": [
        "def objective_lstm(trial):\n",
        "    hidden_size = trial.suggest_int(\"hidden_layer_size\", 32, 256)\n",
        "    num_layers = trial.suggest_int(\"num_layers\", 1, 3)\n",
        "    learning_rate = trial.suggest_float(\"lr\", 1e-4, 1e-2, log=True)\n",
        "    dropout = trial.suggest_float(\"dropout\", 0.0, 0.5)\n",
        "    bidirectional = trial.suggest_categorical(\"bidirectional\", [True, False])\n",
        "\n",
        "    model = LSTMModel(\n",
        "        input_size=4,\n",
        "        hidden_layer_size=hidden_size,\n",
        "        output_size=1,\n",
        "        num_layers=num_layers,\n",
        "        dropout=dropout,\n",
        "        bidirectional=bidirectional\n",
        "    )\n",
        "\n",
        "    optimizer = torch.optim.Adam(model.parameters(), lr=learning_rate)\n",
        "    criterion = nn.MSELoss()\n",
        "\n",
        "    model.train()\n",
        "    for epoch in range(20):\n",
        "        for inputs, labels in train_loader:\n",
        "            inputs, labels = inputs, labels\n",
        "            optimizer.zero_grad()\n",
        "            outputs = model(inputs)\n",
        "            loss = criterion(outputs, labels)\n",
        "            loss.backward()\n",
        "            optimizer.step()\n",
        "\n",
        "    model.eval()\n",
        "    test_loss = 0.0\n",
        "    with torch.no_grad():\n",
        "        for inputs, labels in test_loader:\n",
        "            inputs, labels = inputs, labels\n",
        "            outputs = model(inputs)\n",
        "            loss = criterion(outputs, labels)\n",
        "            test_loss += loss.item()\n",
        "\n",
        "    return test_loss / len(test_loader)\n"
      ]
    },
    {
      "cell_type": "markdown",
      "id": "4a9c7c46",
      "metadata": {},
      "source": [
        "Подбор гиперпараметров LSTM"
      ]
    },
    {
      "cell_type": "code",
      "execution_count": null,
      "id": "78baccd8",
      "metadata": {
        "colab": {
          "base_uri": "https://localhost:8080/"
        },
        "id": "78baccd8",
        "outputId": "34cec9b2-6a94-4a1e-c656-854dfc659540"
      },
      "outputs": [
        {
          "name": "stderr",
          "output_type": "stream",
          "text": [
            "[I 2025-05-05 14:10:01,496] A new study created in memory with name: no-name-235e72c9-45ff-4d07-868e-f7c8338764d7\n",
            "[I 2025-05-05 14:25:06,065] Trial 0 finished with value: 0.013810363533938753 and parameters: {'hidden_layer_size': 251, 'num_layers': 3, 'lr': 0.0001490076294330111, 'dropout': 0.20175387711037523, 'bidirectional': False}. Best is trial 0 with value: 0.013810363533938753.\n",
            "[I 2025-05-05 14:32:00,100] Trial 1 finished with value: 0.0008318287878425728 and parameters: {'hidden_layer_size': 84, 'num_layers': 3, 'lr': 0.00028879178674107885, 'dropout': 0.11339128170192025, 'bidirectional': True}. Best is trial 1 with value: 0.0008318287878425728.\n",
            "[I 2025-05-05 14:56:41,497] Trial 2 finished with value: 0.02896846721655336 and parameters: {'hidden_layer_size': 189, 'num_layers': 3, 'lr': 0.0012727052023361902, 'dropout': 0.2580927562182407, 'bidirectional': True}. Best is trial 1 with value: 0.0008318287878425728.\n",
            "[I 2025-05-05 14:59:31,632] Trial 3 finished with value: 0.0014290346157865535 and parameters: {'hidden_layer_size': 130, 'num_layers': 1, 'lr': 0.003325279220193372, 'dropout': 0.048922064701577894, 'bidirectional': True}. Best is trial 1 with value: 0.0008318287878425728.\n",
            "[I 2025-05-05 15:01:49,512] Trial 4 finished with value: 0.002303500730014438 and parameters: {'hidden_layer_size': 175, 'num_layers': 1, 'lr': 0.003922249846405389, 'dropout': 0.19702835981896855, 'bidirectional': False}. Best is trial 1 with value: 0.0008318287878425728.\n",
            "[I 2025-05-05 15:05:45,495] Trial 5 finished with value: 0.00112263380011929 and parameters: {'hidden_layer_size': 158, 'num_layers': 1, 'lr': 0.001976396919949915, 'dropout': 0.036747358508096795, 'bidirectional': True}. Best is trial 1 with value: 0.0008318287878425728.\n",
            "[I 2025-05-05 15:43:35,750] Trial 6 finished with value: 0.013819467533251336 and parameters: {'hidden_layer_size': 181, 'num_layers': 3, 'lr': 0.0028717672762125033, 'dropout': 0.3868114866501371, 'bidirectional': False}. Best is trial 1 with value: 0.0008318287878425728.\n",
            "[I 2025-05-05 15:55:48,689] Trial 7 finished with value: 0.0007474496217990486 and parameters: {'hidden_layer_size': 167, 'num_layers': 2, 'lr': 0.0005295329548379808, 'dropout': 0.18601878751913226, 'bidirectional': True}. Best is trial 7 with value: 0.0007474496217990486.\n",
            "[I 2025-05-05 15:58:51,755] Trial 8 finished with value: 0.0008242130219326194 and parameters: {'hidden_layer_size': 219, 'num_layers': 1, 'lr': 0.0013692231905585524, 'dropout': 0.19077518058597454, 'bidirectional': False}. Best is trial 7 with value: 0.0007474496217990486.\n",
            "[I 2025-05-05 16:03:08,584] Trial 9 finished with value: 0.0007688451361649766 and parameters: {'hidden_layer_size': 171, 'num_layers': 1, 'lr': 0.0008971205889455805, 'dropout': 0.01951257063809425, 'bidirectional': True}. Best is trial 7 with value: 0.0007474496217990486.\n",
            "[I 2025-05-05 16:06:21,593] Trial 10 finished with value: 0.0012118133981230445 and parameters: {'hidden_layer_size': 67, 'num_layers': 2, 'lr': 0.0004734244611555445, 'dropout': 0.43182575962871983, 'bidirectional': True}. Best is trial 7 with value: 0.0007474496217990486.\n",
            "[I 2025-05-05 16:14:09,259] Trial 11 finished with value: 0.0008089510194058048 and parameters: {'hidden_layer_size': 126, 'num_layers': 2, 'lr': 0.0005562309667394714, 'dropout': 0.3199353845738722, 'bidirectional': True}. Best is trial 7 with value: 0.0007474496217990486.\n",
            "[I 2025-05-05 16:20:46,257] Trial 12 finished with value: 0.0009562653802527949 and parameters: {'hidden_layer_size': 111, 'num_layers': 2, 'lr': 0.000753428877679352, 'dropout': 0.11700603064268328, 'bidirectional': True}. Best is trial 7 with value: 0.0007474496217990486.\n",
            "[I 2025-05-05 16:21:59,177] Trial 13 finished with value: 0.0008751918915016897 and parameters: {'hidden_layer_size': 32, 'num_layers': 2, 'lr': 0.0002569458086637516, 'dropout': 0.005222367911626535, 'bidirectional': True}. Best is trial 7 with value: 0.0007474496217990486.\n",
            "[I 2025-05-05 16:27:57,397] Trial 14 finished with value: 0.044181512427869545 and parameters: {'hidden_layer_size': 217, 'num_layers': 1, 'lr': 0.008690607817771503, 'dropout': 0.30037127924343127, 'bidirectional': True}. Best is trial 7 with value: 0.0007474496217990486.\n",
            "[I 2025-05-05 16:38:25,852] Trial 15 finished with value: 0.0009650539602795295 and parameters: {'hidden_layer_size': 151, 'num_layers': 2, 'lr': 0.00010424015514791832, 'dropout': 0.10285493886872271, 'bidirectional': True}. Best is trial 7 with value: 0.0007474496217990486.\n",
            "[I 2025-05-05 16:44:17,439] Trial 16 finished with value: 0.0008721959311515093 and parameters: {'hidden_layer_size': 212, 'num_layers': 1, 'lr': 0.00033620798923363895, 'dropout': 0.4767767672826166, 'bidirectional': True}. Best is trial 7 with value: 0.0007474496217990486.\n",
            "[I 2025-05-05 17:08:25,776] Trial 17 finished with value: 0.0011427813843856085 and parameters: {'hidden_layer_size': 254, 'num_layers': 2, 'lr': 0.0008037424423494191, 'dropout': 0.15147670276014064, 'bidirectional': True}. Best is trial 7 with value: 0.0007474496217990486.\n",
            "[I 2025-05-05 17:09:36,774] Trial 18 finished with value: 0.0009335618694955162 and parameters: {'hidden_layer_size': 103, 'num_layers': 1, 'lr': 0.0002047643495420477, 'dropout': 0.056577621808427625, 'bidirectional': False}. Best is trial 7 with value: 0.0007474496217990486.\n",
            "[I 2025-05-05 17:20:52,154] Trial 19 finished with value: 0.0009645521460133123 and parameters: {'hidden_layer_size': 158, 'num_layers': 2, 'lr': 0.00044439617546771865, 'dropout': 0.3374897772895068, 'bidirectional': True}. Best is trial 7 with value: 0.0007474496217990486.\n",
            "[I 2025-05-05 17:36:50,016] Trial 20 finished with value: 0.0024190316346056505 and parameters: {'hidden_layer_size': 201, 'num_layers': 2, 'lr': 0.0017643705323799274, 'dropout': 0.26656384637661723, 'bidirectional': True}. Best is trial 7 with value: 0.0007474496217990486.\n",
            "[I 2025-05-05 17:44:54,504] Trial 21 finished with value: 0.0007960774899653062 and parameters: {'hidden_layer_size': 131, 'num_layers': 2, 'lr': 0.0006218245540762513, 'dropout': 0.3441598403061947, 'bidirectional': True}. Best is trial 7 with value: 0.0007474496217990486.\n",
            "[I 2025-05-05 17:53:04,683] Trial 22 finished with value: 0.0009209487872230338 and parameters: {'hidden_layer_size': 136, 'num_layers': 2, 'lr': 0.0008851887001687792, 'dropout': 0.4043601382841274, 'bidirectional': True}. Best is trial 7 with value: 0.0007474496217990486.\n",
            "[I 2025-05-05 18:12:04,838] Trial 23 finished with value: 0.0011223361763203967 and parameters: {'hidden_layer_size': 164, 'num_layers': 3, 'lr': 0.0006167971449754307, 'dropout': 0.4986756125585779, 'bidirectional': True}. Best is trial 7 with value: 0.0007474496217990486.\n",
            "[I 2025-05-05 18:14:16,677] Trial 24 finished with value: 0.0007716122972538117 and parameters: {'hidden_layer_size': 101, 'num_layers': 1, 'lr': 0.0011542557954944085, 'dropout': 0.35628222396701065, 'bidirectional': True}. Best is trial 7 with value: 0.0007474496217990486.\n",
            "[I 2025-05-05 18:15:57,474] Trial 25 finished with value: 0.0007611864370871978 and parameters: {'hidden_layer_size': 83, 'num_layers': 1, 'lr': 0.0010992593724225945, 'dropout': 0.3801204554171368, 'bidirectional': True}. Best is trial 7 with value: 0.0007474496217990486.\n",
            "[I 2025-05-05 18:16:31,216] Trial 26 finished with value: 0.0008498828743728969 and parameters: {'hidden_layer_size': 57, 'num_layers': 1, 'lr': 0.002117003537021117, 'dropout': 0.2274121892975964, 'bidirectional': False}. Best is trial 7 with value: 0.0007474496217990486.\n",
            "[I 2025-05-05 18:22:01,235] Trial 27 finished with value: 0.002863417423715622 and parameters: {'hidden_layer_size': 199, 'num_layers': 1, 'lr': 0.006168901633189364, 'dropout': 0.2908998930141825, 'bidirectional': True}. Best is trial 7 with value: 0.0007474496217990486.\n",
            "[I 2025-05-05 18:28:40,778] Trial 28 finished with value: 0.000780959836416075 and parameters: {'hidden_layer_size': 233, 'num_layers': 1, 'lr': 0.0004224831932621553, 'dropout': 0.16294554561092625, 'bidirectional': True}. Best is trial 7 with value: 0.0007474496217990486.\n",
            "[I 2025-05-05 18:29:39,299] Trial 29 finished with value: 0.00098177972490546 and parameters: {'hidden_layer_size': 86, 'num_layers': 1, 'lr': 0.0001772774214968994, 'dropout': 0.45098165333754947, 'bidirectional': False}. Best is trial 7 with value: 0.0007474496217990486.\n"
          ]
        },
        {
          "name": "stdout",
          "output_type": "stream",
          "text": [
            "Best parameters: {'hidden_layer_size': 167, 'num_layers': 2, 'lr': 0.0005295329548379808, 'dropout': 0.18601878751913226, 'bidirectional': True}\n"
          ]
        }
      ],
      "source": [
        "study = optuna.create_study(direction=\"minimize\")\n",
        "study.optimize(objective_lstm, n_trials=30)\n",
        "\n",
        "print(\"Best parameters:\", study.best_params)"
      ]
    },
    {
      "cell_type": "markdown",
      "id": "bb140714",
      "metadata": {},
      "source": [
        "Функция подбора гиперпараметорв GRU"
      ]
    },
    {
      "cell_type": "code",
      "execution_count": null,
      "id": "e2087885",
      "metadata": {
        "id": "e2087885"
      },
      "outputs": [],
      "source": [
        "def objective_gru(trial):\n",
        "    hidden_size = trial.suggest_int(\"hidden_layer_size\", 32, 256)\n",
        "    num_layers = trial.suggest_int(\"num_layers\", 1, 3)\n",
        "    learning_rate = trial.suggest_float(\"lr\", 1e-4, 1e-2, log=True)\n",
        "    dropout = trial.suggest_float(\"dropout\", 0.0, 0.5)\n",
        "    bidirectional = trial.suggest_categorical(\"bidirectional\", [True, False])\n",
        "\n",
        "    model = GRUModel(\n",
        "        input_size=4,\n",
        "        hidden_layer_size=hidden_size,\n",
        "        output_size=1,\n",
        "        num_layers=num_layers,\n",
        "        dropout=dropout,\n",
        "        bidirectional=bidirectional\n",
        "    )\n",
        "\n",
        "    optimizer = torch.optim.Adam(model.parameters(), lr=learning_rate)\n",
        "    criterion = nn.MSELoss()\n",
        "\n",
        "    model.train()\n",
        "    for epoch in range(20):\n",
        "        for inputs, labels in train_loader:\n",
        "            inputs, labels = inputs, labels\n",
        "            optimizer.zero_grad()\n",
        "            outputs = model(inputs)\n",
        "            loss = criterion(outputs, labels)\n",
        "            loss.backward()\n",
        "            optimizer.step()\n",
        "\n",
        "    model.eval()\n",
        "    test_loss = 0.0\n",
        "    with torch.no_grad():\n",
        "        for inputs, labels in test_loader:\n",
        "            inputs, labels = inputs, labels\n",
        "            outputs = model(inputs)\n",
        "            loss = criterion(outputs, labels)\n",
        "            test_loss += loss.item()\n",
        "\n",
        "    return test_loss / len(test_loader)\n"
      ]
    },
    {
      "cell_type": "markdown",
      "id": "94e58e37",
      "metadata": {},
      "source": [
        "Подбор гиперпараметров GRU"
      ]
    },
    {
      "cell_type": "code",
      "execution_count": null,
      "id": "4967d06b",
      "metadata": {
        "colab": {
          "base_uri": "https://localhost:8080/"
        },
        "id": "4967d06b",
        "outputId": "3e51841d-1ed2-41fb-df7a-5ebbc5923c54"
      },
      "outputs": [
        {
          "name": "stderr",
          "output_type": "stream",
          "text": [
            "[I 2025-05-05 20:48:28,165] A new study created in memory with name: no-name-2531cb84-c815-4ae5-9fb7-affacecb3f90\n",
            "[I 2025-05-05 21:11:59,517] Trial 0 finished with value: 0.00251309417493256 and parameters: {'hidden_layer_size': 247, 'num_layers': 2, 'lr': 0.0038066450082737415, 'dropout': 0.06639099762016759, 'bidirectional': True}. Best is trial 0 with value: 0.00251309417493256.\n",
            "[I 2025-05-05 21:13:30,305] Trial 1 finished with value: 0.0017606234258233473 and parameters: {'hidden_layer_size': 85, 'num_layers': 1, 'lr': 0.0038245008617689216, 'dropout': 0.3443041596069208, 'bidirectional': False}. Best is trial 1 with value: 0.0017606234258233473.\n",
            "[I 2025-05-05 21:15:48,267] Trial 2 finished with value: 0.0007123792311176658 and parameters: {'hidden_layer_size': 150, 'num_layers': 1, 'lr': 0.00392972128380435, 'dropout': 0.3853362859935563, 'bidirectional': False}. Best is trial 2 with value: 0.0007123792311176658.\n",
            "[I 2025-05-05 21:24:53,466] Trial 3 finished with value: 0.002497450074237161 and parameters: {'hidden_layer_size': 66, 'num_layers': 3, 'lr': 0.007254019217232021, 'dropout': 0.01573617607568706, 'bidirectional': True}. Best is trial 2 with value: 0.0007123792311176658.\n",
            "[I 2025-05-05 21:32:23,041] Trial 4 finished with value: 0.0008020757181682335 and parameters: {'hidden_layer_size': 44, 'num_layers': 3, 'lr': 0.0002864736569286614, 'dropout': 0.4948591978109324, 'bidirectional': True}. Best is trial 2 with value: 0.0007123792311176658.\n",
            "[I 2025-05-05 21:35:55,377] Trial 5 finished with value: 0.0009777714871672977 and parameters: {'hidden_layer_size': 44, 'num_layers': 3, 'lr': 0.0003281808846816794, 'dropout': 0.4699311298215743, 'bidirectional': False}. Best is trial 2 with value: 0.0007123792311176658.\n",
            "[I 2025-05-05 21:37:47,372] Trial 6 finished with value: 0.0007750612115567742 and parameters: {'hidden_layer_size': 114, 'num_layers': 1, 'lr': 0.00036287562950375373, 'dropout': 0.43983983007437344, 'bidirectional': False}. Best is trial 2 with value: 0.0007123792311176658.\n",
            "[I 2025-05-05 21:38:54,456] Trial 7 finished with value: 0.0010310320308078722 and parameters: {'hidden_layer_size': 38, 'num_layers': 1, 'lr': 0.00019337205599272506, 'dropout': 0.24049697403677694, 'bidirectional': False}. Best is trial 2 with value: 0.0007123792311176658.\n",
            "[I 2025-05-05 21:41:34,514] Trial 8 finished with value: 0.0007382338989028258 and parameters: {'hidden_layer_size': 171, 'num_layers': 1, 'lr': 0.0006218644843088373, 'dropout': 0.4182144383799578, 'bidirectional': False}. Best is trial 2 with value: 0.0007123792311176658.\n",
            "[I 2025-05-05 22:04:36,652] Trial 9 finished with value: 0.000774479150001345 and parameters: {'hidden_layer_size': 252, 'num_layers': 2, 'lr': 0.00023556435580553693, 'dropout': 0.47950845552147675, 'bidirectional': True}. Best is trial 2 with value: 0.0007123792311176658.\n",
            "[I 2025-05-05 22:10:56,036] Trial 10 finished with value: 0.0009640791124246758 and parameters: {'hidden_layer_size': 175, 'num_layers': 2, 'lr': 0.0015617151299177194, 'dropout': 0.2215479268980792, 'bidirectional': False}. Best is trial 2 with value: 0.0007123792311176658.\n",
            "[I 2025-05-05 22:13:54,140] Trial 11 finished with value: 0.0008823838915900681 and parameters: {'hidden_layer_size': 185, 'num_layers': 1, 'lr': 0.0009274334674509217, 'dropout': 0.34342189484375096, 'bidirectional': False}. Best is trial 2 with value: 0.0007123792311176658.\n",
            "[I 2025-05-05 22:16:15,126] Trial 12 finished with value: 0.0009005652009991223 and parameters: {'hidden_layer_size': 156, 'num_layers': 1, 'lr': 0.000980898836523069, 'dropout': 0.36298473128743247, 'bidirectional': False}. Best is trial 2 with value: 0.0007123792311176658.\n",
            "[I 2025-05-05 22:19:23,342] Trial 13 finished with value: 0.0014190608735902813 and parameters: {'hidden_layer_size': 201, 'num_layers': 1, 'lr': 0.0018945713120348095, 'dropout': 0.3952813364016765, 'bidirectional': False}. Best is trial 2 with value: 0.0007123792311176658.\n",
            "[I 2025-05-05 22:24:01,436] Trial 14 finished with value: 0.0014690213007772148 and parameters: {'hidden_layer_size': 124, 'num_layers': 2, 'lr': 0.009515048078022859, 'dropout': 0.2917994176779509, 'bidirectional': False}. Best is trial 2 with value: 0.0007123792311176658.\n",
            "[I 2025-05-05 22:31:53,476] Trial 15 finished with value: 0.000904845509373037 and parameters: {'hidden_layer_size': 210, 'num_layers': 2, 'lr': 0.0006222679383953408, 'dropout': 0.1898303145690686, 'bidirectional': False}. Best is trial 2 with value: 0.0007123792311176658.\n",
            "[I 2025-05-05 22:34:00,257] Trial 16 finished with value: 0.0009523747039252314 and parameters: {'hidden_layer_size': 140, 'num_layers': 1, 'lr': 0.00012739818509662515, 'dropout': 0.1481980836471382, 'bidirectional': False}. Best is trial 2 with value: 0.0007123792311176658.\n",
            "[I 2025-05-05 22:35:41,780] Trial 17 finished with value: 0.0012836808354818616 and parameters: {'hidden_layer_size': 106, 'num_layers': 1, 'lr': 0.002669535154872862, 'dropout': 0.2988965022466315, 'bidirectional': False}. Best is trial 2 with value: 0.0007123792311176658.\n",
            "[I 2025-05-05 22:40:17,022] Trial 18 finished with value: 0.0007810958024869062 and parameters: {'hidden_layer_size': 154, 'num_layers': 1, 'lr': 0.000601626083124243, 'dropout': 0.41178677777889094, 'bidirectional': True}. Best is trial 2 with value: 0.0007123792311176658.\n",
            "[I 2025-05-05 22:48:06,575] Trial 19 finished with value: 0.05747114481597111 and parameters: {'hidden_layer_size': 218, 'num_layers': 2, 'lr': 0.005315063362692951, 'dropout': 0.2931952158597091, 'bidirectional': False}. Best is trial 2 with value: 0.0007123792311176658.\n",
            "[I 2025-05-05 22:54:08,762] Trial 20 finished with value: 0.002175392378282187 and parameters: {'hidden_layer_size': 174, 'num_layers': 2, 'lr': 0.0014250288427526277, 'dropout': 0.4072834075554835, 'bidirectional': False}. Best is trial 2 with value: 0.0007123792311176658.\n",
            "[I 2025-05-05 23:17:33,995] Trial 21 finished with value: 0.0010516946846298102 and parameters: {'hidden_layer_size': 253, 'num_layers': 2, 'lr': 0.00012228184639851772, 'dropout': 0.4536538696182255, 'bidirectional': True}. Best is trial 2 with value: 0.0007123792311176658.\n",
            "[I 2025-05-05 23:49:37,210] Trial 22 finished with value: 0.0018963820887087234 and parameters: {'hidden_layer_size': 232, 'num_layers': 3, 'lr': 0.0004074938121455265, 'dropout': 0.4930202841282912, 'bidirectional': True}. Best is trial 2 with value: 0.0007123792311176658.\n",
            "[I 2025-05-05 23:53:50,444] Trial 23 finished with value: 0.0007659298546435632 and parameters: {'hidden_layer_size': 138, 'num_layers': 1, 'lr': 0.0005810444427830752, 'dropout': 0.43206028714961675, 'bidirectional': True}. Best is trial 2 with value: 0.0007123792311176658.\n",
            "[I 2025-05-05 23:57:59,114] Trial 24 finished with value: 0.0007457701079868551 and parameters: {'hidden_layer_size': 134, 'num_layers': 1, 'lr': 0.0006109205789389051, 'dropout': 0.37678425818850336, 'bidirectional': True}. Best is trial 2 with value: 0.0007123792311176658.\n",
            "[I 2025-05-06 00:01:04,083] Trial 25 finished with value: 0.0008413739169241283 and parameters: {'hidden_layer_size': 87, 'num_layers': 1, 'lr': 0.0009331464244933426, 'dropout': 0.37218293378385287, 'bidirectional': True}. Best is trial 2 with value: 0.0007123792311176658.\n",
            "[I 2025-05-06 00:05:57,430] Trial 26 finished with value: 0.0014510058380406477 and parameters: {'hidden_layer_size': 162, 'num_layers': 1, 'lr': 0.002278471570423125, 'dropout': 0.3155969375878884, 'bidirectional': True}. Best is trial 2 with value: 0.0007123792311176658.\n",
            "[I 2025-05-06 00:07:58,178] Trial 27 finished with value: 0.0007825267846407048 and parameters: {'hidden_layer_size': 131, 'num_layers': 1, 'lr': 0.0004925999454798352, 'dropout': 0.38547826477623937, 'bidirectional': False}. Best is trial 2 with value: 0.0007123792311176658.\n",
            "[I 2025-05-06 00:14:05,844] Trial 28 finished with value: 0.0008534253093189206 and parameters: {'hidden_layer_size': 193, 'num_layers': 1, 'lr': 0.0007847024973640478, 'dropout': 0.3263239321338068, 'bidirectional': True}. Best is trial 2 with value: 0.0007123792311176658.\n",
            "[I 2025-05-06 00:17:15,213] Trial 29 finished with value: 0.0019540358214350097 and parameters: {'hidden_layer_size': 93, 'num_layers': 1, 'lr': 0.003120398114426412, 'dropout': 0.2669682256358439, 'bidirectional': True}. Best is trial 2 with value: 0.0007123792311176658.\n"
          ]
        },
        {
          "name": "stdout",
          "output_type": "stream",
          "text": [
            "Best parameters: {'hidden_layer_size': 150, 'num_layers': 1, 'lr': 0.00392972128380435, 'dropout': 0.3853362859935563, 'bidirectional': False}\n"
          ]
        }
      ],
      "source": [
        "study = optuna.create_study(direction=\"minimize\")\n",
        "study.optimize(objective_gru, n_trials=30)\n",
        "\n",
        "print(\"Best parameters:\", study.best_params)"
      ]
    },
    {
      "cell_type": "markdown",
      "id": "44d124c6",
      "metadata": {
        "id": "44d124c6"
      },
      "source": [
        "Инициализация моделей"
      ]
    },
    {
      "cell_type": "code",
      "execution_count": null,
      "id": "c444515f",
      "metadata": {
        "id": "c444515f"
      },
      "outputs": [],
      "source": [
        "input_size = 4\n",
        "output_size = 1\n",
        "\n",
        "lstm_model = LSTMModel(input_size, output_size=output_size, hidden_layer_size=167, num_layers=2, dropout=0.18601878751913226, bidirectional=False)\n",
        "gru_model = GRUModel(input_size, output_size=output_size, hidden_layer_size=150, num_layers=1, dropout=0.3853362859935563, bidirectional=False)\n",
        "\n",
        "criterion = nn.MSELoss()\n",
        "lstm_optimizer = torch.optim.Adam(lstm_model.parameters(), lr=0.0005295329548379808)\n",
        "gru_optimizer = torch.optim.Adam(gru_model.parameters(), lr=0.00392972128380435)"
      ]
    },
    {
      "cell_type": "markdown",
      "id": "e80cb8f0",
      "metadata": {
        "id": "e80cb8f0"
      },
      "source": [
        "Функция обучения"
      ]
    },
    {
      "cell_type": "code",
      "execution_count": 62,
      "id": "f2a0c7e6",
      "metadata": {
        "id": "f2a0c7e6"
      },
      "outputs": [],
      "source": [
        "def train_model(model, optimizer, X_train, y_train, epochs=200):\n",
        "    model.train()\n",
        "    for epoch in range(epochs):\n",
        "        output = model(X_train)\n",
        "        loss = criterion(output, y_train.view(-1, 1))\n",
        "        optimizer.zero_grad()\n",
        "        loss.backward()\n",
        "        optimizer.step()"
      ]
    },
    {
      "cell_type": "markdown",
      "id": "a5b3fed5",
      "metadata": {
        "id": "a5b3fed5"
      },
      "source": [
        "Обучение LSTM"
      ]
    },
    {
      "cell_type": "code",
      "execution_count": 63,
      "id": "73176c7f",
      "metadata": {
        "id": "73176c7f"
      },
      "outputs": [],
      "source": [
        "start_time = time.time()\n",
        "train_model(lstm_model, lstm_optimizer, X_train, y_train, epochs=200)\n",
        "lstm_time = time.time() - start_time"
      ]
    },
    {
      "cell_type": "markdown",
      "id": "46efe8db",
      "metadata": {
        "id": "46efe8db"
      },
      "source": [
        "Обучение GRU"
      ]
    },
    {
      "cell_type": "code",
      "execution_count": 13,
      "id": "880dc2de",
      "metadata": {
        "id": "880dc2de"
      },
      "outputs": [],
      "source": [
        "start_time = time.time()\n",
        "train_model(gru_model, gru_optimizer, X_train, y_train)\n",
        "gru_time = time.time() - start_time"
      ]
    },
    {
      "cell_type": "markdown",
      "id": "331a4794",
      "metadata": {
        "id": "331a4794"
      },
      "source": [
        "Прогнозирование и возвращение оригинального масштаба"
      ]
    },
    {
      "cell_type": "code",
      "execution_count": null,
      "id": "b21de61b",
      "metadata": {
        "id": "b21de61b"
      },
      "outputs": [],
      "source": [
        "def predict(model, X_test):\n",
        "    model.eval()\n",
        "    with torch.no_grad():\n",
        "        predicted = model(X_test)\n",
        "    return predicted\n",
        "\n",
        "lstm_predicted = predict(lstm_model, X_test)\n",
        "gru_predicted = predict(gru_model, X_test)\n",
        "\n",
        "lstm_predicted = scaler_y.inverse_transform(lstm_predicted.numpy())\n",
        "gru_predicted = scaler_y.inverse_transform(gru_predicted.numpy())\n",
        "y_test_rescaled = scaler_y.inverse_transform(y_test.numpy())"
      ]
    },
    {
      "cell_type": "markdown",
      "id": "88450636",
      "metadata": {
        "id": "88450636"
      },
      "source": [
        "Функция вычисление корреляции"
      ]
    },
    {
      "cell_type": "code",
      "execution_count": null,
      "id": "33d0c560",
      "metadata": {
        "id": "33d0c560"
      },
      "outputs": [],
      "source": [
        "def check_nan(y_true, y_pred):\n",
        "    if np.any(np.isnan(y_true)) or np.any(np.isnan(y_pred)):\n",
        "        print(\"Есть NaN в данных!\")\n",
        "        return True\n",
        "    return False\n",
        "\n",
        "def calculate_correlation(y_true, y_pred):\n",
        "    if check_nan(y_true, y_pred):\n",
        "        return np.nan\n",
        "    y_true = y_true.flatten()\n",
        "    y_pred = y_pred.flatten()\n",
        "    corr, _ = scipy.stats.pearsonr(y_true, y_pred)\n",
        "    return corr"
      ]
    },
    {
      "cell_type": "markdown",
      "id": "e001df86",
      "metadata": {
        "id": "e001df86"
      },
      "source": [
        "Оценка по метрикам"
      ]
    },
    {
      "cell_type": "code",
      "execution_count": 65,
      "id": "76c42c85",
      "metadata": {
        "colab": {
          "base_uri": "https://localhost:8080/"
        },
        "id": "76c42c85",
        "outputId": "2a4b3b2f-dda4-4701-97c6-e4f73f55391d"
      },
      "outputs": [
        {
          "name": "stdout",
          "output_type": "stream",
          "text": [
            "LSTM RMSE: 31.89522087627069, MAE: 24.80636978149414, R²: 0.1845739483833313, Correlation: 0.48860105872154236\n",
            "GRU RMSE: 28.015986647135954, MAE: 21.695613861083984, R²: 0.37086302042007446, Correlation: 0.6250824332237244\n"
          ]
        }
      ],
      "source": [
        "def evaluate_model(y_true, y_pred):\n",
        "    rmse = np.sqrt(mean_squared_error(y_true, y_pred))\n",
        "    mae = mean_absolute_error(y_true, y_pred)\n",
        "    r2 = r2_score(y_true, y_pred)\n",
        "    correlation = calculate_correlation(y_true, y_pred)\n",
        "    return rmse, mae, r2, correlation\n",
        "\n",
        "lstm_rmse, lstm_mae, lstm_r2, lstm_corr = evaluate_model(y_test_rescaled, lstm_predicted)\n",
        "gru_rmse, gru_mae, gru_r2, gru_corr = evaluate_model(y_test_rescaled, gru_predicted)\n",
        "\n",
        "print(f\"LSTM RMSE: {lstm_rmse}, MAE: {lstm_mae}, R²: {lstm_r2}, Correlation: {lstm_corr}\")\n",
        "print(f\"GRU RMSE: {gru_rmse}, MAE: {gru_mae}, R²: {gru_r2}, Correlation: {gru_corr}\")"
      ]
    },
    {
      "cell_type": "markdown",
      "id": "45bf9600",
      "metadata": {
        "id": "45bf9600"
      },
      "source": [
        "Время на обучение моделей"
      ]
    },
    {
      "cell_type": "code",
      "execution_count": 70,
      "id": "d1815dd9",
      "metadata": {
        "colab": {
          "base_uri": "https://localhost:8080/"
        },
        "id": "d1815dd9",
        "outputId": "64aa9aa1-fa87-4c34-b3fc-472469326cbb"
      },
      "outputs": [
        {
          "name": "stdout",
          "output_type": "stream",
          "text": [
            "Время обучения LSTM: 3651.713054895401 секунд\n"
          ]
        }
      ],
      "source": [
        "print(f\"Время обучения LSTM: {lstm_time} секунд\")"
      ]
    },
    {
      "cell_type": "code",
      "execution_count": 71,
      "id": "7d569703",
      "metadata": {
        "colab": {
          "base_uri": "https://localhost:8080/"
        },
        "id": "7d569703",
        "outputId": "e0dcc983-c92d-4258-8d1c-cc9bdd8d4de4"
      },
      "outputs": [
        {
          "name": "stdout",
          "output_type": "stream",
          "text": [
            "Время обучения GRU: 2592.8408772945404 секунд\n"
          ]
        }
      ],
      "source": [
        "print(f\"Время обучения GRU: {gru_time} секунд\")"
      ]
    }
  ],
  "metadata": {
    "colab": {
      "provenance": []
    },
    "kernelspec": {
      "display_name": "Python 3",
      "name": "python3"
    },
    "language_info": {
      "codemirror_mode": {
        "name": "ipython",
        "version": 3
      },
      "file_extension": ".py",
      "mimetype": "text/x-python",
      "name": "python",
      "nbconvert_exporter": "python",
      "pygments_lexer": "ipython3",
      "version": "3.9.18"
    }
  },
  "nbformat": 4,
  "nbformat_minor": 5
}
