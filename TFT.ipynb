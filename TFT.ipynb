{
  "cells": [
    {
      "cell_type": "code",
      "execution_count": null,
      "id": "tj3beI6e6y_C",
      "metadata": {
        "colab": {
          "base_uri": "https://localhost:8080/"
        },
        "id": "tj3beI6e6y_C",
        "outputId": "bd036355-8654-4255-b0e0-8adda83eb022"
      },
      "outputs": [
        {
          "name": "stdout",
          "output_type": "stream",
          "text": [
            "Collecting optuna\n",
            "  Downloading optuna-4.3.0-py3-none-any.whl.metadata (17 kB)\n",
            "Collecting alembic>=1.5.0 (from optuna)\n",
            "  Downloading alembic-1.15.2-py3-none-any.whl.metadata (7.3 kB)\n",
            "Collecting colorlog (from optuna)\n",
            "  Downloading colorlog-6.9.0-py3-none-any.whl.metadata (10 kB)\n",
            "Requirement already satisfied: numpy in /usr/local/lib/python3.11/dist-packages (from optuna) (2.0.2)\n",
            "Requirement already satisfied: packaging>=20.0 in /usr/local/lib/python3.11/dist-packages (from optuna) (24.2)\n",
            "Requirement already satisfied: sqlalchemy>=1.4.2 in /usr/local/lib/python3.11/dist-packages (from optuna) (2.0.40)\n",
            "Requirement already satisfied: tqdm in /usr/local/lib/python3.11/dist-packages (from optuna) (4.67.1)\n",
            "Requirement already satisfied: PyYAML in /usr/local/lib/python3.11/dist-packages (from optuna) (6.0.2)\n",
            "Requirement already satisfied: Mako in /usr/lib/python3/dist-packages (from alembic>=1.5.0->optuna) (1.1.3)\n",
            "Requirement already satisfied: typing-extensions>=4.12 in /usr/local/lib/python3.11/dist-packages (from alembic>=1.5.0->optuna) (4.13.2)\n",
            "Requirement already satisfied: greenlet>=1 in /usr/local/lib/python3.11/dist-packages (from sqlalchemy>=1.4.2->optuna) (3.2.1)\n",
            "Downloading optuna-4.3.0-py3-none-any.whl (386 kB)\n",
            "\u001b[2K   \u001b[90m━━━━━━━━━━━━━━━━━━━━━━━━━━━━━━━━━━━━━━━━\u001b[0m \u001b[32m386.6/386.6 kB\u001b[0m \u001b[31m14.1 MB/s\u001b[0m eta \u001b[36m0:00:00\u001b[0m\n",
            "\u001b[?25hDownloading alembic-1.15.2-py3-none-any.whl (231 kB)\n",
            "\u001b[2K   \u001b[90m━━━━━━━━━━━━━━━━━━━━━━━━━━━━━━━━━━━━━━━━\u001b[0m \u001b[32m231.9/231.9 kB\u001b[0m \u001b[31m21.3 MB/s\u001b[0m eta \u001b[36m0:00:00\u001b[0m\n",
            "\u001b[?25hDownloading colorlog-6.9.0-py3-none-any.whl (11 kB)\n",
            "Installing collected packages: colorlog, alembic, optuna\n",
            "Successfully installed alembic-1.15.2 colorlog-6.9.0 optuna-4.3.0\n"
          ]
        }
      ],
      "source": [
        "!pip install optuna"
      ]
    },
    {
      "cell_type": "code",
      "execution_count": null,
      "id": "66d05036",
      "metadata": {
        "id": "66d05036"
      },
      "outputs": [],
      "source": [
        "import pandas as pd\n",
        "import numpy as np\n",
        "import matplotlib.pyplot as plt\n",
        "from sklearn.preprocessing import MinMaxScaler\n",
        "from sklearn.metrics import mean_absolute_error, mean_squared_error, r2_score\n",
        "import torch\n",
        "import torch.nn as nn\n",
        "import torch.optim as optim\n",
        "from torch.utils.data import DataLoader, TensorDataset\n",
        "import time\n",
        "import optuna\n",
        "from torch import optim\n",
        "import copy\n",
        "import torch.nn.functional as F"
      ]
    },
    {
      "cell_type": "markdown",
      "id": "e0df68ee",
      "metadata": {},
      "source": [
        "Модель"
      ]
    },
    {
      "cell_type": "code",
      "execution_count": null,
      "id": "79d19175",
      "metadata": {
        "id": "79d19175"
      },
      "outputs": [],
      "source": [
        "class TemporalFusionTransformer(nn.Module):\n",
        "    def __init__(self, input_size, hidden_size, output_size, num_layers, dropout_rate):\n",
        "        super().__init__()\n",
        "        self.rnn = nn.LSTM(input_size, hidden_size, num_layers=num_layers, batch_first=True)\n",
        "        self.attn = nn.MultiheadAttention(embed_dim=hidden_size, num_heads=4, batch_first=True)\n",
        "        self.norm1 = nn.LayerNorm(hidden_size)\n",
        "        self.norm2 = nn.LayerNorm(64)\n",
        "        self.dropout = nn.Dropout(dropout_rate)\n",
        "        self.fc1 = nn.Linear(hidden_size, 64)\n",
        "        self.fc2 = nn.Linear(64, output_size)\n",
        "\n",
        "    def forward(self, x):\n",
        "        rnn_out, _ = self.rnn(x)\n",
        "        attn_out, _ = self.attn(rnn_out, rnn_out, rnn_out)\n",
        "        x = self.norm1(attn_out + rnn_out)\n",
        "        x = x[:, -1, :]\n",
        "        x = self.fc1(x)\n",
        "        x = F.relu(x)\n",
        "        x = self.dropout(x)\n",
        "        x = self.norm2(x)\n",
        "        x = self.fc2(x)\n",
        "        return x\n"
      ]
    },
    {
      "cell_type": "markdown",
      "id": "c6e1d2fd",
      "metadata": {
        "id": "c6e1d2fd"
      },
      "source": [
        "Загрузка данных и создание датасета"
      ]
    },
    {
      "cell_type": "code",
      "execution_count": null,
      "id": "88638112",
      "metadata": {
        "id": "88638112"
      },
      "outputs": [],
      "source": [
        "df = pd.read_csv('daily_accidents.csv', parse_dates=['CRASH DATE'])\n",
        "\n",
        "df.set_index('CRASH DATE', inplace=True)\n",
        "\n",
        "accidents = df['ACCIDENT_COUNT'].values\n",
        "injuries = df['TOTAL_INJURIES'].values\n",
        "\n",
        "scaler = MinMaxScaler(feature_range=(0, 1))\n",
        "accidents_scaled = scaler.fit_transform(accidents.reshape(-1, 1))\n",
        "\n",
        "train_size = int(len(accidents) * 0.8)\n",
        "train_data, test_data = accidents_scaled[:train_size], accidents_scaled[train_size:]\n",
        "\n",
        "def create_sequences(data, seq_length):\n",
        "    sequences = []\n",
        "    labels = []\n",
        "    for i in range(len(data) - seq_length):\n",
        "        sequences.append(data[i:i+seq_length])\n",
        "        labels.append(data[i+seq_length])\n",
        "    return np.array(sequences), np.array(labels)\n",
        "\n",
        "seq_length = 60\n",
        "train_seq, train_labels = create_sequences(train_data, seq_length)\n",
        "test_seq, test_labels = create_sequences(test_data, seq_length)\n",
        "\n",
        "train_seq = torch.tensor(train_seq, dtype=torch.float32)\n",
        "train_labels = torch.tensor(train_labels, dtype=torch.float32)\n",
        "test_seq = torch.tensor(test_seq, dtype=torch.float32)\n",
        "test_labels = torch.tensor(test_labels, dtype=torch.float32)\n",
        "\n",
        "train_dataset = TensorDataset(train_seq, train_labels)\n",
        "test_dataset = TensorDataset(test_seq, test_labels)\n",
        "\n",
        "train_loader = DataLoader(train_dataset, batch_size=64, shuffle=True)\n",
        "test_loader = DataLoader(test_dataset, batch_size=64, shuffle=False)\n"
      ]
    },
    {
      "cell_type": "markdown",
      "id": "bc527bb0",
      "metadata": {},
      "source": [
        "Функция подбора гиперпараметров"
      ]
    },
    {
      "cell_type": "code",
      "execution_count": null,
      "id": "d857915c",
      "metadata": {
        "id": "d857915c"
      },
      "outputs": [],
      "source": [
        "def objective(trial):\n",
        "    hidden_size = trial.suggest_categorical(\"hidden_size\", [x for x in range(32, 257, 8) if x % 4 == 0])\n",
        "    num_layers = trial.suggest_int(\"num_layers\", 1, 4)\n",
        "    dropout_rate = trial.suggest_float(\"dropout_rate\", 0.1, 0.5)\n",
        "    learning_rate = trial.suggest_float(\"lr\", 1e-4, 1e-2, log=True)\n",
        "\n",
        "    model = TemporalFusionTransformer(\n",
        "        input_size=1,\n",
        "        hidden_size=hidden_size,\n",
        "        output_size=1,\n",
        "        num_layers=num_layers,\n",
        "        dropout_rate=dropout_rate\n",
        "    )\n",
        "\n",
        "    optimizer = optim.Adam(model.parameters(), lr=learning_rate)\n",
        "    criterion = nn.MSELoss()\n",
        "\n",
        "    model.train()\n",
        "    for epoch in range(20):\n",
        "        for inputs, labels in train_loader:\n",
        "            optimizer.zero_grad()\n",
        "            outputs = model(inputs)\n",
        "            loss = criterion(outputs, labels)\n",
        "            loss.backward()\n",
        "            optimizer.step()\n",
        "\n",
        "    model.eval()\n",
        "    val_loss = 0.0\n",
        "    with torch.no_grad():\n",
        "        for inputs, labels in test_loader:\n",
        "            outputs = model(inputs)\n",
        "            loss = criterion(outputs, labels)\n",
        "            val_loss += loss.item()\n",
        "\n",
        "    return val_loss / len(test_loader)\n"
      ]
    },
    {
      "cell_type": "markdown",
      "id": "992985b3",
      "metadata": {},
      "source": [
        "Подбор гиперпараметров"
      ]
    },
    {
      "cell_type": "code",
      "execution_count": null,
      "id": "eba17113",
      "metadata": {
        "colab": {
          "base_uri": "https://localhost:8080/"
        },
        "id": "eba17113",
        "outputId": "41050f3b-f38d-4711-ebae-1d0e9c5fdf35"
      },
      "outputs": [
        {
          "name": "stderr",
          "output_type": "stream",
          "text": [
            "[I 2025-05-06 00:12:38,814] A new study created in memory with name: no-name-7f31c025-8724-488f-bcaa-d2033fe761b4\n",
            "[I 2025-05-06 00:21:09,882] Trial 0 finished with value: 0.06144622394016811 and parameters: {'hidden_size': 224, 'num_layers': 1, 'dropout_rate': 0.38697285914988766, 'lr': 0.00813495054150292}. Best is trial 0 with value: 0.06144622394016811.\n",
            "[I 2025-05-06 00:37:40,816] Trial 1 finished with value: 0.043814029810684066 and parameters: {'hidden_size': 184, 'num_layers': 4, 'dropout_rate': 0.4895005592898265, 'lr': 0.002597220285835635}. Best is trial 1 with value: 0.043814029810684066.\n",
            "[I 2025-05-06 00:39:42,165] Trial 2 finished with value: 0.0008549627548615847 and parameters: {'hidden_size': 64, 'num_layers': 3, 'dropout_rate': 0.12490749319381345, 'lr': 0.0018150293937917266}. Best is trial 2 with value: 0.0008549627548615847.\n",
            "[I 2025-05-06 00:53:29,025] Trial 3 finished with value: 0.004865283179762108 and parameters: {'hidden_size': 216, 'num_layers': 3, 'dropout_rate': 0.4541103211979758, 'lr': 0.00030188714888852096}. Best is trial 2 with value: 0.0008549627548615847.\n",
            "[I 2025-05-06 00:54:42,675] Trial 4 finished with value: 0.0028315641351842453 and parameters: {'hidden_size': 40, 'num_layers': 3, 'dropout_rate': 0.4054698239720197, 'lr': 0.0011187335497792395}. Best is trial 2 with value: 0.0008549627548615847.\n",
            "[I 2025-05-06 01:05:26,354] Trial 5 finished with value: 0.00617079423474414 and parameters: {'hidden_size': 184, 'num_layers': 3, 'dropout_rate': 0.46403676812786043, 'lr': 0.00010456272408567841}. Best is trial 2 with value: 0.0008549627548615847.\n",
            "[I 2025-05-06 01:09:43,755] Trial 6 finished with value: 0.002744939976504871 and parameters: {'hidden_size': 88, 'num_layers': 4, 'dropout_rate': 0.4281706995185415, 'lr': 0.0003764033449002547}. Best is trial 2 with value: 0.0008549627548615847.\n",
            "[I 2025-05-06 01:12:34,229] Trial 7 finished with value: 0.0013461152141514634 and parameters: {'hidden_size': 136, 'num_layers': 1, 'dropout_rate': 0.25498704008075573, 'lr': 0.00017217975062105815}. Best is trial 2 with value: 0.0008549627548615847.\n",
            "[I 2025-05-06 01:14:34,426] Trial 8 finished with value: 0.0031175828771665692 and parameters: {'hidden_size': 64, 'num_layers': 3, 'dropout_rate': 0.13077965961871524, 'lr': 0.00036542297026082986}. Best is trial 2 with value: 0.0008549627548615847.\n",
            "[I 2025-05-06 01:17:53,608] Trial 9 finished with value: 0.0014437842349122678 and parameters: {'hidden_size': 104, 'num_layers': 2, 'dropout_rate': 0.3971039475344942, 'lr': 0.0012854504944061712}. Best is trial 2 with value: 0.0008549627548615847.\n",
            "[I 2025-05-06 01:43:12,074] Trial 10 finished with value: 0.06466040414358888 and parameters: {'hidden_size': 192, 'num_layers': 2, 'dropout_rate': 0.1146475037561806, 'lr': 0.0041010775418053634}. Best is trial 2 with value: 0.0008549627548615847.\n",
            "[I 2025-05-06 01:46:00,281] Trial 11 finished with value: 0.004452238275137331 and parameters: {'hidden_size': 136, 'num_layers': 1, 'dropout_rate': 0.22452590841102846, 'lr': 0.0001831121636276017}. Best is trial 2 with value: 0.0008549627548615847.\n",
            "[I 2025-05-06 01:47:06,287] Trial 12 finished with value: 0.0008424986320148621 and parameters: {'hidden_size': 48, 'num_layers': 2, 'dropout_rate': 0.2508312671808205, 'lr': 0.0007298542798006084}. Best is trial 12 with value: 0.0008424986320148621.\n",
            "[I 2025-05-06 01:48:13,086] Trial 13 finished with value: 0.0008966736453917942 and parameters: {'hidden_size': 48, 'num_layers': 2, 'dropout_rate': 0.18984207881743517, 'lr': 0.0006972819369916886}. Best is trial 12 with value: 0.0008424986320148621.\n",
            "[I 2025-05-06 01:49:19,030] Trial 14 finished with value: 0.0009458481924541827 and parameters: {'hidden_size': 48, 'num_layers': 2, 'dropout_rate': 0.3047208582193915, 'lr': 0.002075234746022556}. Best is trial 12 with value: 0.0008424986320148621.\n",
            "[I 2025-05-06 02:05:58,480] Trial 15 finished with value: 0.0009226218556120459 and parameters: {'hidden_size': 208, 'num_layers': 4, 'dropout_rate': 0.31732139798757725, 'lr': 0.0009661474975273733}. Best is trial 12 with value: 0.0008424986320148621.\n",
            "[I 2025-05-06 02:07:58,149] Trial 16 finished with value: 0.002257946180179715 and parameters: {'hidden_size': 64, 'num_layers': 3, 'dropout_rate': 0.16262513604861684, 'lr': 0.0005898507880364209}. Best is trial 12 with value: 0.0008424986320148621.\n",
            "[I 2025-05-06 02:09:16,860] Trial 17 finished with value: 0.004751849137911839 and parameters: {'hidden_size': 56, 'num_layers': 2, 'dropout_rate': 0.2533927954631909, 'lr': 0.004605771549122971}. Best is trial 12 with value: 0.0008424986320148621.\n",
            "[I 2025-05-06 02:19:30,690] Trial 18 finished with value: 0.08605768052595002 and parameters: {'hidden_size': 176, 'num_layers': 3, 'dropout_rate': 0.10035974212409104, 'lr': 0.0018171605969909178}. Best is trial 12 with value: 0.0008424986320148621.\n",
            "[I 2025-05-06 02:37:03,234] Trial 19 finished with value: 0.06193533592990467 and parameters: {'hidden_size': 240, 'num_layers': 2, 'dropout_rate': 0.35367585234743565, 'lr': 0.003589484301449264}. Best is trial 12 with value: 0.0008424986320148621.\n",
            "[I 2025-05-06 03:15:16,341] Trial 20 finished with value: 0.001702716149988451 and parameters: {'hidden_size': 232, 'num_layers': 4, 'dropout_rate': 0.18172877153627942, 'lr': 0.0069703495780786655}. Best is trial 12 with value: 0.0008424986320148621.\n",
            "[I 2025-05-06 03:16:23,180] Trial 21 finished with value: 0.0010012441821995058 and parameters: {'hidden_size': 48, 'num_layers': 2, 'dropout_rate': 0.19672046343918126, 'lr': 0.0006299216339914508}. Best is trial 12 with value: 0.0008424986320148621.\n",
            "[I 2025-05-06 03:20:01,382] Trial 22 finished with value: 0.0008279921104466277 and parameters: {'hidden_size': 112, 'num_layers': 2, 'dropout_rate': 0.14605476197853245, 'lr': 0.0006433075483696874}. Best is trial 22 with value: 0.0008279921104466277.\n",
            "[I 2025-05-06 03:22:02,008] Trial 23 finished with value: 0.0008057754769522164 and parameters: {'hidden_size': 112, 'num_layers': 1, 'dropout_rate': 0.15056345873853283, 'lr': 0.0015687298663782}. Best is trial 23 with value: 0.0008057754769522164.\n",
            "[I 2025-05-06 03:24:02,354] Trial 24 finished with value: 0.001738267792721412 and parameters: {'hidden_size': 112, 'num_layers': 1, 'dropout_rate': 0.1537195391374208, 'lr': 0.0008400468096534747}. Best is trial 23 with value: 0.0008057754769522164.\n",
            "[I 2025-05-06 03:26:03,393] Trial 25 finished with value: 0.0018599590652489237 and parameters: {'hidden_size': 112, 'num_layers': 1, 'dropout_rate': 0.2391722900949543, 'lr': 0.0004695814941025427}. Best is trial 23 with value: 0.0008057754769522164.\n",
            "[I 2025-05-06 03:28:26,406] Trial 26 finished with value: 0.0008492155549382525 and parameters: {'hidden_size': 120, 'num_layers': 1, 'dropout_rate': 0.2730645065772384, 'lr': 0.0011043517533885832}. Best is trial 23 with value: 0.0008057754769522164.\n",
            "[I 2025-05-06 03:33:34,567] Trial 27 finished with value: 0.003010741850760366 and parameters: {'hidden_size': 144, 'num_layers': 2, 'dropout_rate': 0.22230178666058004, 'lr': 0.00025500124606394746}. Best is trial 23 with value: 0.0008057754769522164.\n",
            "[I 2025-05-06 03:34:08,971] Trial 28 finished with value: 0.0008219324642725821 and parameters: {'hidden_size': 32, 'num_layers': 1, 'dropout_rate': 0.14950417893234605, 'lr': 0.0015279212846895137}. Best is trial 23 with value: 0.0008057754769522164.\n",
            "[I 2025-05-06 03:34:42,536] Trial 29 finished with value: 0.0009283134630615157 and parameters: {'hidden_size': 32, 'num_layers': 1, 'dropout_rate': 0.15430973465523223, 'lr': 0.0013988674220235871}. Best is trial 23 with value: 0.0008057754769522164.\n"
          ]
        },
        {
          "name": "stdout",
          "output_type": "stream",
          "text": [
            "Best parameters: {'hidden_size': 112, 'num_layers': 1, 'dropout_rate': 0.15056345873853283, 'lr': 0.0015687298663782}\n"
          ]
        }
      ],
      "source": [
        "study = optuna.create_study(direction=\"minimize\")\n",
        "study.optimize(objective, n_trials=30)\n",
        "print(\"Best parameters:\", study.best_params)"
      ]
    },
    {
      "cell_type": "markdown",
      "id": "c4e1b03c",
      "metadata": {
        "id": "c4e1b03c"
      },
      "source": [
        "Инициализация модели и функция обучения"
      ]
    },
    {
      "cell_type": "code",
      "execution_count": null,
      "id": "b0g3_ckIiK0D",
      "metadata": {
        "id": "b0g3_ckIiK0D"
      },
      "outputs": [],
      "source": [
        "best_model_state = None"
      ]
    },
    {
      "cell_type": "code",
      "execution_count": null,
      "id": "dcf928aa",
      "metadata": {
        "id": "dcf928aa"
      },
      "outputs": [],
      "source": [
        "\n",
        "model = TemporalFusionTransformer(input_size=1, hidden_size=112, num_layers=1, dropout_rate=0.15056345873853283, output_size=1)\n",
        "optimizer = optim.Adam(model.parameters(), lr=0.0015687298663782)\n",
        "criterion = nn.MSELoss()\n",
        "\n",
        "def train_model(model, train_loader, test_loader, optimizer, criterion, epochs=100, patience=40):\n",
        "    best_val_loss = float('inf')\n",
        "    early_stopping_counter = 0\n",
        "\n",
        "    for epoch in range(epochs):\n",
        "        model.train()\n",
        "        running_loss = 0.0\n",
        "        for inputs, labels in train_loader:\n",
        "            optimizer.zero_grad()\n",
        "            outputs = model(inputs)\n",
        "            loss = criterion(outputs, labels)\n",
        "            loss.backward()\n",
        "            optimizer.step()\n",
        "            running_loss += loss.item()\n",
        "\n",
        "        # Валидация\n",
        "        model.eval()\n",
        "        val_loss = 0.0\n",
        "        with torch.no_grad():\n",
        "            for inputs, labels in test_loader:\n",
        "                outputs = model(inputs)\n",
        "                val_loss += criterion(outputs, labels).item()\n",
        "        val_loss /= len(test_loader)\n",
        "\n",
        "        if (epoch + 1) % 10 == 0:\n",
        "            print(f\"Epoch [{epoch+1}/{epochs}], Train Loss: {running_loss:.4f}, Val Loss: {val_loss:.4f}\")\n",
        "\n",
        "        if val_loss < best_val_loss:\n",
        "            best_val_loss = val_loss\n",
        "            best_model_state = copy.deepcopy(model.state_dict())\n",
        "            early_stopping_counter = 0\n",
        "        else:\n",
        "            early_stopping_counter += 1\n",
        "            if early_stopping_counter >= patience:\n",
        "                print(f\"Early stopping at epoch {epoch+1}\")\n",
        "                break\n"
      ]
    },
    {
      "cell_type": "markdown",
      "id": "5ce738d6",
      "metadata": {
        "id": "5ce738d6"
      },
      "source": [
        "Обучение"
      ]
    },
    {
      "cell_type": "code",
      "execution_count": 61,
      "id": "a9694ee9",
      "metadata": {
        "colab": {
          "base_uri": "https://localhost:8080/"
        },
        "id": "a9694ee9",
        "outputId": "bf459fb1-3245-46b6-ea66-7c6d028827ba"
      },
      "outputs": [
        {
          "name": "stdout",
          "output_type": "stream",
          "text": [
            "Epoch [10/400], Train Loss: 0.4160, Val Loss: 0.0008\n",
            "Epoch [20/400], Train Loss: 0.3897, Val Loss: 0.0017\n",
            "Epoch [30/400], Train Loss: 0.3638, Val Loss: 0.0008\n",
            "Epoch [40/400], Train Loss: 0.3455, Val Loss: 0.0009\n",
            "Epoch [50/400], Train Loss: 0.3199, Val Loss: 0.0008\n",
            "Early stopping at epoch 50\n"
          ]
        }
      ],
      "source": [
        "start_time = time.time()\n",
        "train_model(model, train_loader, test_loader, optimizer, criterion, epochs=400)\n",
        "end_time = time.time()"
      ]
    },
    {
      "cell_type": "code",
      "execution_count": 63,
      "id": "UB1gOq1QiTVh",
      "metadata": {
        "id": "UB1gOq1QiTVh"
      },
      "outputs": [],
      "source": [
        "if best_model_state is not None:\n",
        "    model.load_state_dict(best_model_state)"
      ]
    },
    {
      "cell_type": "markdown",
      "id": "754cd7dd",
      "metadata": {},
      "source": [
        "Предсказание о метрики"
      ]
    },
    {
      "cell_type": "code",
      "execution_count": null,
      "id": "ed180374",
      "metadata": {
        "colab": {
          "base_uri": "https://localhost:8080/"
        },
        "id": "ed180374",
        "outputId": "7cfa5b95-78a4-4839-fad2-d58945ce953e"
      },
      "outputs": [
        {
          "name": "stdout",
          "output_type": "stream",
          "text": [
            "TFT RMSE: 30.99766482510215, MAE: 24.133407592773438, R²: 0.1999918818473816, Correlation: 0.4494391942545254\n"
          ]
        }
      ],
      "source": [
        "def evaluate_model(model, test_loader):\n",
        "    model.eval()\n",
        "    predictions = []\n",
        "    true_values = []\n",
        "\n",
        "    with torch.no_grad():\n",
        "        for inputs, labels in test_loader:\n",
        "            outputs = model(inputs)\n",
        "            predictions.append(outputs.numpy())\n",
        "            true_values.append(labels.numpy())\n",
        "\n",
        "    predictions = np.concatenate(predictions, axis=0)\n",
        "    true_values = np.concatenate(true_values, axis=0)\n",
        "\n",
        "    return predictions, true_values\n",
        "\n",
        "predictions, true_values = evaluate_model(model, test_loader)\n",
        "\n",
        "predictions = scaler.inverse_transform(predictions)\n",
        "true_values = scaler.inverse_transform(true_values)\n",
        "\n",
        "rmse = np.sqrt(mean_squared_error(true_values, predictions))\n",
        "mae = mean_absolute_error(true_values, predictions)\n",
        "r2 = r2_score(true_values, predictions)\n",
        "\n",
        "correlation = np.corrcoef(true_values.flatten(), predictions.flatten())[0, 1]\n",
        "\n",
        "\n",
        "print(f\"TFT RMSE: {rmse}, MAE: {mae}, R²: {r2}, Correlation: {correlation}\")"
      ]
    },
    {
      "cell_type": "markdown",
      "id": "2fbe95fc",
      "metadata": {
        "id": "2fbe95fc"
      },
      "source": [
        "Время обучения"
      ]
    },
    {
      "cell_type": "code",
      "execution_count": 37,
      "id": "fe3afe14",
      "metadata": {
        "colab": {
          "base_uri": "https://localhost:8080/"
        },
        "id": "fe3afe14",
        "outputId": "f7a6cffe-d6b2-4f60-fbee-d7c0416712e4"
      },
      "outputs": [
        {
          "name": "stdout",
          "output_type": "stream",
          "text": [
            "Время обучения: 2554.8727078437805 секунд\n"
          ]
        }
      ],
      "source": [
        "print(f\"Время обучения: {end_time - start_time} секунд\")"
      ]
    }
  ],
  "metadata": {
    "colab": {
      "provenance": []
    },
    "kernelspec": {
      "display_name": "base",
      "language": "python",
      "name": "python3"
    },
    "language_info": {
      "codemirror_mode": {
        "name": "ipython",
        "version": 3
      },
      "file_extension": ".py",
      "mimetype": "text/x-python",
      "name": "python",
      "nbconvert_exporter": "python",
      "pygments_lexer": "ipython3",
      "version": "3.9.18"
    }
  },
  "nbformat": 4,
  "nbformat_minor": 5
}
