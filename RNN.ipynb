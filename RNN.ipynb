{
  "cells": [
    {
      "cell_type": "code",
      "execution_count": null,
      "id": "JACmbuN2wxsV",
      "metadata": {
        "colab": {
          "base_uri": "https://localhost:8080/"
        },
        "id": "JACmbuN2wxsV",
        "outputId": "3f9c7612-4597-43e9-9cf2-92a90ac9b85a"
      },
      "outputs": [
        {
          "name": "stdout",
          "output_type": "stream",
          "text": [
            "Collecting optuna\n",
            "  Downloading optuna-4.3.0-py3-none-any.whl.metadata (17 kB)\n",
            "Collecting alembic>=1.5.0 (from optuna)\n",
            "  Downloading alembic-1.15.2-py3-none-any.whl.metadata (7.3 kB)\n",
            "Collecting colorlog (from optuna)\n",
            "  Downloading colorlog-6.9.0-py3-none-any.whl.metadata (10 kB)\n",
            "Requirement already satisfied: numpy in /usr/local/lib/python3.11/dist-packages (from optuna) (2.0.2)\n",
            "Requirement already satisfied: packaging>=20.0 in /usr/local/lib/python3.11/dist-packages (from optuna) (24.2)\n",
            "Requirement already satisfied: sqlalchemy>=1.4.2 in /usr/local/lib/python3.11/dist-packages (from optuna) (2.0.40)\n",
            "Requirement already satisfied: tqdm in /usr/local/lib/python3.11/dist-packages (from optuna) (4.67.1)\n",
            "Requirement already satisfied: PyYAML in /usr/local/lib/python3.11/dist-packages (from optuna) (6.0.2)\n",
            "Requirement already satisfied: Mako in /usr/lib/python3/dist-packages (from alembic>=1.5.0->optuna) (1.1.3)\n",
            "Requirement already satisfied: typing-extensions>=4.12 in /usr/local/lib/python3.11/dist-packages (from alembic>=1.5.0->optuna) (4.13.2)\n",
            "Requirement already satisfied: greenlet>=1 in /usr/local/lib/python3.11/dist-packages (from sqlalchemy>=1.4.2->optuna) (3.2.1)\n",
            "Downloading optuna-4.3.0-py3-none-any.whl (386 kB)\n",
            "\u001b[2K   \u001b[90m━━━━━━━━━━━━━━━━━━━━━━━━━━━━━━━━━━━━━━━━\u001b[0m \u001b[32m386.6/386.6 kB\u001b[0m \u001b[31m17.2 MB/s\u001b[0m eta \u001b[36m0:00:00\u001b[0m\n",
            "\u001b[?25hDownloading alembic-1.15.2-py3-none-any.whl (231 kB)\n",
            "\u001b[2K   \u001b[90m━━━━━━━━━━━━━━━━━━━━━━━━━━━━━━━━━━━━━━━━\u001b[0m \u001b[32m231.9/231.9 kB\u001b[0m \u001b[31m15.1 MB/s\u001b[0m eta \u001b[36m0:00:00\u001b[0m\n",
            "\u001b[?25hDownloading colorlog-6.9.0-py3-none-any.whl (11 kB)\n",
            "Installing collected packages: colorlog, alembic, optuna\n",
            "Successfully installed alembic-1.15.2 colorlog-6.9.0 optuna-4.3.0\n"
          ]
        }
      ],
      "source": [
        "!pip install optuna"
      ]
    },
    {
      "cell_type": "code",
      "execution_count": null,
      "id": "845d7490",
      "metadata": {
        "id": "845d7490"
      },
      "outputs": [],
      "source": [
        "import pandas as pd\n",
        "import numpy as np\n",
        "import torch\n",
        "import torch.nn as nn\n",
        "from sklearn.preprocessing import MinMaxScaler\n",
        "from sklearn.metrics import mean_squared_error, mean_absolute_error, r2_score\n",
        "import matplotlib.pyplot as plt\n",
        "import seaborn as sns\n",
        "from sklearn.model_selection import train_test_split\n",
        "import time\n",
        "import scipy.stats\n",
        "from torch.utils.data import TensorDataset, DataLoader\n",
        "import optuna\n",
        "from torch import optim\n",
        "import copy\n",
        "import torch.nn.functional as F"
      ]
    },
    {
      "cell_type": "markdown",
      "id": "949f6270",
      "metadata": {
        "id": "949f6270"
      },
      "source": [
        "Загрузка данных"
      ]
    },
    {
      "cell_type": "code",
      "execution_count": 3,
      "id": "3271e811",
      "metadata": {
        "id": "3271e811"
      },
      "outputs": [],
      "source": [
        "df = pd.read_csv('daily_accidents.csv', parse_dates=['CRASH DATE'])\n",
        "df['CRASH DATE'] = pd.to_datetime(df['CRASH DATE'])\n",
        "df.set_index('CRASH DATE', inplace=True)\n",
        "df = df[['ACCIDENT_COUNT']]"
      ]
    },
    {
      "cell_type": "markdown",
      "id": "7b682624",
      "metadata": {
        "id": "7b682624"
      },
      "source": [
        "Масштабирование данных"
      ]
    },
    {
      "cell_type": "code",
      "execution_count": 4,
      "id": "7aa3cf1d",
      "metadata": {
        "id": "7aa3cf1d"
      },
      "outputs": [],
      "source": [
        "df_daily = df.resample('D').sum()\n",
        "\n",
        "scaler = MinMaxScaler(feature_range=(0, 1))\n",
        "scaled_data = scaler.fit_transform(df_daily)"
      ]
    },
    {
      "cell_type": "markdown",
      "id": "44cf3713",
      "metadata": {
        "id": "44cf3713"
      },
      "source": [
        "Создание датасета"
      ]
    },
    {
      "cell_type": "code",
      "execution_count": null,
      "id": "909693c9",
      "metadata": {
        "id": "909693c9"
      },
      "outputs": [],
      "source": [
        "def create_dataset(data, time_step=1):\n",
        "    X, y = [], []\n",
        "    for i in range(len(data)-time_step):\n",
        "        X.append(data[i:(i+time_step), 0])\n",
        "        y.append(data[i+time_step, 0])\n",
        "    return np.array(X), np.array(y)\n",
        "\n",
        "time_step = 60\n",
        "X, y = create_dataset(scaled_data, time_step)\n",
        "\n",
        "X = X.reshape(X.shape[0], X.shape[1], 1)"
      ]
    },
    {
      "cell_type": "markdown",
      "id": "12f0ecd1",
      "metadata": {
        "id": "12f0ecd1"
      },
      "source": [
        "Создание  обучающей и тестовой выборки"
      ]
    },
    {
      "cell_type": "code",
      "execution_count": null,
      "id": "d6f44d3a",
      "metadata": {
        "id": "d6f44d3a"
      },
      "outputs": [],
      "source": [
        "X_train, X_test, y_train, y_test = train_test_split(X, y, test_size=0.2, shuffle=False)\n",
        "\n",
        "X_train = torch.tensor(X_train, dtype=torch.float32)\n",
        "X_test = torch.tensor(X_test, dtype=torch.float32)\n",
        "y_train = torch.tensor(y_train, dtype=torch.float32)\n",
        "y_test = torch.tensor(y_test, dtype=torch.float32)\n",
        "\n",
        "if y_train.ndim == 1:\n",
        "    y_train = y_train.unsqueeze(-1)\n",
        "    y_test = y_test.unsqueeze(-1)\n",
        "\n",
        "train_dataset = TensorDataset(X_train, y_train)\n",
        "test_dataset = TensorDataset(X_test, y_test)\n",
        "\n",
        "train_loader = DataLoader(train_dataset, batch_size=32, shuffle=False)\n",
        "test_loader = DataLoader(test_dataset, batch_size=32, shuffle=False)"
      ]
    },
    {
      "cell_type": "markdown",
      "id": "a5263b82",
      "metadata": {
        "id": "a5263b82"
      },
      "source": [
        "Определение моделей"
      ]
    },
    {
      "cell_type": "code",
      "execution_count": 7,
      "id": "61b03992",
      "metadata": {
        "id": "61b03992"
      },
      "outputs": [],
      "source": [
        "class LSTMModel(nn.Module):\n",
        "    def __init__(self, input_size, hidden_layer_size, output_size, num_layers, dropout, bidirectional):\n",
        "        super(LSTMModel, self).__init__()\n",
        "        self.bidirectional = bidirectional\n",
        "        self.lstm = nn.LSTM(\n",
        "            input_size,\n",
        "            hidden_layer_size,\n",
        "            num_layers=num_layers,\n",
        "            batch_first=True,\n",
        "            dropout=dropout if num_layers > 1 else 0.0,\n",
        "            bidirectional=bidirectional\n",
        "        )\n",
        "        self.fc = nn.Linear(hidden_layer_size * (2 if bidirectional else 1), output_size)\n",
        "\n",
        "    def forward(self, x):\n",
        "        out, _ = self.lstm(x)\n",
        "        out = self.fc(out[:, -1, :])\n",
        "        return out\n",
        "\n",
        "\n",
        "class GRUModel(nn.Module):\n",
        "    def __init__(self, input_size, hidden_layer_size, output_size, num_layers, dropout, bidirectional):\n",
        "        super(GRUModel, self).__init__()\n",
        "        self.bidirectional = bidirectional\n",
        "        self.gru = nn.GRU(\n",
        "            input_size,\n",
        "            hidden_layer_size,\n",
        "            num_layers=num_layers,\n",
        "            batch_first=True,\n",
        "            dropout=dropout if num_layers > 1 else 0.0,\n",
        "            bidirectional=bidirectional\n",
        "        )\n",
        "        self.fc = nn.Linear(hidden_layer_size * (2 if bidirectional else 1), output_size)\n",
        "\n",
        "    def forward(self, x):\n",
        "        out, _ = self.gru(x)\n",
        "        out = self.fc(out[:, -1, :])\n",
        "        return out\n"
      ]
    },
    {
      "cell_type": "markdown",
      "id": "ac0552ba",
      "metadata": {
        "id": "ac0552ba"
      },
      "source": [
        "Функция подбора гиперпараметров LSTM"
      ]
    },
    {
      "cell_type": "code",
      "execution_count": null,
      "id": "a622ac4f",
      "metadata": {
        "id": "a622ac4f"
      },
      "outputs": [],
      "source": [
        "def objective_lstm(trial):\n",
        "    hidden_size = trial.suggest_int(\"hidden_layer_size\", 32, 256)\n",
        "    num_layers = trial.suggest_int(\"num_layers\", 1, 3)\n",
        "    learning_rate = trial.suggest_float(\"lr\", 1e-4, 1e-2, log=True)\n",
        "    dropout = trial.suggest_float(\"dropout\", 0.0, 0.5)\n",
        "    bidirectional = trial.suggest_categorical(\"bidirectional\", [True, False])\n",
        "\n",
        "    model = LSTMModel(\n",
        "        input_size=1,\n",
        "        hidden_layer_size=hidden_size,\n",
        "        output_size=1,\n",
        "        num_layers=num_layers,\n",
        "        dropout=dropout,\n",
        "        bidirectional=bidirectional\n",
        "    )\n",
        "\n",
        "    optimizer = torch.optim.Adam(model.parameters(), lr=learning_rate)\n",
        "    criterion = nn.MSELoss()\n",
        "\n",
        "    model.train()\n",
        "    for epoch in range(20):\n",
        "        for inputs, labels in train_loader:\n",
        "            inputs, labels = inputs, labels\n",
        "            optimizer.zero_grad()\n",
        "            outputs = model(inputs)\n",
        "            loss = criterion(outputs, labels)\n",
        "            loss.backward()\n",
        "            optimizer.step()\n",
        "\n",
        "    model.eval()\n",
        "    test_loss = 0.0\n",
        "    with torch.no_grad():\n",
        "        for inputs, labels in test_loader:\n",
        "            inputs, labels = inputs, labels\n",
        "            outputs = model(inputs)\n",
        "            loss = criterion(outputs, labels)\n",
        "            test_loss += loss.item()\n",
        "\n",
        "    return test_loss / len(test_loader)\n"
      ]
    },
    {
      "cell_type": "markdown",
      "id": "dc2e20f0",
      "metadata": {},
      "source": [
        "Подбор гиперпараметров LSTM"
      ]
    },
    {
      "cell_type": "code",
      "execution_count": null,
      "id": "78baccd8",
      "metadata": {
        "id": "78baccd8",
        "outputId": "c9506fd9-a5ae-47aa-93c5-be1a1af68f59"
      },
      "outputs": [
        {
          "name": "stderr",
          "output_type": "stream",
          "text": [
            "[I 2025-05-04 00:20:41,683] A new study created in memory with name: no-name-b8de41be-1fe1-44ee-b3e9-5e394b538c9f\n",
            "[I 2025-05-04 00:21:52,934] Trial 0 finished with value: 0.0008980438137298514 and parameters: {'hidden_layer_size': 140, 'num_layers': 2, 'lr': 0.0002489375809645176, 'dropout': 0.38453349789362296, 'bidirectional': False}. Best is trial 0 with value: 0.0008980438137298514.\n",
            "[I 2025-05-04 00:23:04,688] Trial 1 finished with value: 0.0008847672845525988 and parameters: {'hidden_layer_size': 101, 'num_layers': 3, 'lr': 0.0005824397571573693, 'dropout': 0.24835239031602713, 'bidirectional': False}. Best is trial 1 with value: 0.0008847672845525988.\n",
            "[I 2025-05-04 00:28:46,702] Trial 2 finished with value: 0.0009376699955941275 and parameters: {'hidden_layer_size': 175, 'num_layers': 3, 'lr': 0.0004260742382606353, 'dropout': 0.41756737237946734, 'bidirectional': True}. Best is trial 1 with value: 0.0008847672845525988.\n",
            "[I 2025-05-04 00:30:55,113] Trial 3 finished with value: 0.026612772959573514 and parameters: {'hidden_layer_size': 79, 'num_layers': 3, 'lr': 0.00225794135446714, 'dropout': 0.04100542397737528, 'bidirectional': True}. Best is trial 1 with value: 0.0008847672845525988.\n",
            "[I 2025-05-04 00:32:29,912] Trial 4 finished with value: 0.027432113564733802 and parameters: {'hidden_layer_size': 61, 'num_layers': 3, 'lr': 0.0005084865841555544, 'dropout': 0.44156437839137264, 'bidirectional': True}. Best is trial 1 with value: 0.0008847672845525988.\n",
            "[I 2025-05-04 00:33:27,605] Trial 5 finished with value: 0.0008312896765158351 and parameters: {'hidden_layer_size': 136, 'num_layers': 1, 'lr': 0.0008975364705449697, 'dropout': 0.1578729882890308, 'bidirectional': True}. Best is trial 5 with value: 0.0008312896765158351.\n",
            "[I 2025-05-04 00:35:53,701] Trial 6 finished with value: 0.0010841979528777301 and parameters: {'hidden_layer_size': 137, 'num_layers': 2, 'lr': 0.0005826669792363484, 'dropout': 0.4407271489122063, 'bidirectional': True}. Best is trial 5 with value: 0.0008312896765158351.\n",
            "[I 2025-05-04 00:36:47,835] Trial 7 finished with value: 0.0018067027638859019 and parameters: {'hidden_layer_size': 128, 'num_layers': 2, 'lr': 0.006968089413268771, 'dropout': 0.19294965434856298, 'bidirectional': False}. Best is trial 5 with value: 0.0008312896765158351.\n",
            "[I 2025-05-04 00:37:57,445] Trial 8 finished with value: 0.0016753366116659138 and parameters: {'hidden_layer_size': 201, 'num_layers': 1, 'lr': 0.002350444867278186, 'dropout': 0.36740046239180574, 'bidirectional': True}. Best is trial 5 with value: 0.0008312896765158351.\n",
            "[I 2025-05-04 00:42:10,210] Trial 9 finished with value: 0.0009578763033616645 and parameters: {'hidden_layer_size': 213, 'num_layers': 2, 'lr': 0.00016962430568532932, 'dropout': 0.3879766887578982, 'bidirectional': True}. Best is trial 5 with value: 0.0008312896765158351.\n",
            "[I 2025-05-04 00:42:57,289] Trial 10 finished with value: 0.000818473948286204 and parameters: {'hidden_layer_size': 241, 'num_layers': 1, 'lr': 0.00010063512681846293, 'dropout': 0.05762019774067895, 'bidirectional': False}. Best is trial 10 with value: 0.000818473948286204.\n",
            "[I 2025-05-04 00:43:40,978] Trial 11 finished with value: 0.0017662743078384164 and parameters: {'hidden_layer_size': 241, 'num_layers': 1, 'lr': 0.0001008536176347084, 'dropout': 0.05545673442971333, 'bidirectional': False}. Best is trial 10 with value: 0.000818473948286204.\n",
            "[I 2025-05-04 00:44:27,373] Trial 12 finished with value: 0.0009487222163568668 and parameters: {'hidden_layer_size': 248, 'num_layers': 1, 'lr': 0.001168579911440242, 'dropout': 0.14514895964621252, 'bidirectional': False}. Best is trial 10 with value: 0.000818473948286204.\n",
            "[I 2025-05-04 00:44:58,449] Trial 13 finished with value: 0.0013784126073507399 and parameters: {'hidden_layer_size': 175, 'num_layers': 1, 'lr': 0.005103291992389772, 'dropout': 0.12321332948818882, 'bidirectional': False}. Best is trial 10 with value: 0.000818473948286204.\n",
            "[I 2025-05-04 00:45:35,487] Trial 14 finished with value: 0.000869458697832607 and parameters: {'hidden_layer_size': 105, 'num_layers': 1, 'lr': 0.0013212431368276655, 'dropout': 0.08697404735067782, 'bidirectional': True}. Best is trial 10 with value: 0.000818473948286204.\n",
            "[I 2025-05-04 00:45:43,060] Trial 15 finished with value: 0.0011135884279642127 and parameters: {'hidden_layer_size': 32, 'num_layers': 1, 'lr': 0.00010563227230162196, 'dropout': 0.008537248482637705, 'bidirectional': False}. Best is trial 10 with value: 0.000818473948286204.\n",
            "[I 2025-05-04 00:46:13,492] Trial 16 finished with value: 0.0009362683169832774 and parameters: {'hidden_layer_size': 174, 'num_layers': 1, 'lr': 0.00024429175417043834, 'dropout': 0.27500551503285353, 'bidirectional': False}. Best is trial 10 with value: 0.000818473948286204.\n",
            "[I 2025-05-04 00:50:22,362] Trial 17 finished with value: 0.0024310750786439867 and parameters: {'hidden_layer_size': 216, 'num_layers': 2, 'lr': 0.00312301177601545, 'dropout': 0.18350207951642813, 'bidirectional': True}. Best is trial 10 with value: 0.000818473948286204.\n",
            "[I 2025-05-04 00:50:49,573] Trial 18 finished with value: 0.0008590469219127734 and parameters: {'hidden_layer_size': 158, 'num_layers': 1, 'lr': 0.0008507676675829348, 'dropout': 0.2681032811020295, 'bidirectional': False}. Best is trial 10 with value: 0.000818473948286204.\n",
            "[I 2025-05-04 00:51:26,922] Trial 19 finished with value: 0.0034371184963925645 and parameters: {'hidden_layer_size': 106, 'num_layers': 1, 'lr': 0.009842122702726174, 'dropout': 0.10528100130410772, 'bidirectional': True}. Best is trial 10 with value: 0.000818473948286204.\n",
            "[I 2025-05-04 00:55:29,202] Trial 20 finished with value: 0.0009064692401744682 and parameters: {'hidden_layer_size': 195, 'num_layers': 2, 'lr': 0.00028966226216367493, 'dropout': 0.1953739143425522, 'bidirectional': True}. Best is trial 10 with value: 0.000818473948286204.\n",
            "[I 2025-05-04 00:55:59,326] Trial 21 finished with value: 0.0008654296107124537 and parameters: {'hidden_layer_size': 159, 'num_layers': 1, 'lr': 0.000799358522123011, 'dropout': 0.3022084101514162, 'bidirectional': False}. Best is trial 10 with value: 0.000818473948286204.\n",
            "[I 2025-05-04 00:56:24,307] Trial 22 finished with value: 0.0009149824287180371 and parameters: {'hidden_layer_size': 124, 'num_layers': 1, 'lr': 0.0014499573808663692, 'dropout': 0.2546178057474907, 'bidirectional': False}. Best is trial 10 with value: 0.000818473948286204.\n",
            "[I 2025-05-04 00:56:52,953] Trial 23 finished with value: 0.0016092728132960097 and parameters: {'hidden_layer_size': 155, 'num_layers': 1, 'lr': 0.0008771502059299972, 'dropout': 0.3067155112198466, 'bidirectional': False}. Best is trial 10 with value: 0.000818473948286204.\n",
            "[I 2025-05-04 00:57:41,350] Trial 24 finished with value: 0.0009083902796505597 and parameters: {'hidden_layer_size': 242, 'num_layers': 1, 'lr': 0.00016195625604271334, 'dropout': 0.15830159758886742, 'bidirectional': False}. Best is trial 10 with value: 0.000818473948286204.\n",
            "[I 2025-05-04 00:58:35,205] Trial 25 finished with value: 0.0014196136938247445 and parameters: {'hidden_layer_size': 225, 'num_layers': 1, 'lr': 0.0003493522820484952, 'dropout': 0.22767351639269856, 'bidirectional': False}. Best is trial 10 with value: 0.000818473948286204.\n",
            "[I 2025-05-04 01:00:12,925] Trial 26 finished with value: 0.008451401464769552 and parameters: {'hidden_layer_size': 189, 'num_layers': 2, 'lr': 0.0017792883190438729, 'dropout': 0.060760402088828866, 'bidirectional': False}. Best is trial 10 with value: 0.000818473948286204.\n",
            "[I 2025-05-04 01:00:25,716] Trial 27 finished with value: 0.0008941737198319029 and parameters: {'hidden_layer_size': 79, 'num_layers': 1, 'lr': 0.0041896412099891684, 'dropout': 0.00022968774892429683, 'bidirectional': False}. Best is trial 10 with value: 0.000818473948286204.\n",
            "[I 2025-05-04 01:01:17,950] Trial 28 finished with value: 0.0008564929564178375 and parameters: {'hidden_layer_size': 156, 'num_layers': 1, 'lr': 0.0008108429608108984, 'dropout': 0.32184432843052313, 'bidirectional': True}. Best is trial 10 with value: 0.000818473948286204.\n",
            "[I 2025-05-04 01:03:25,530] Trial 29 finished with value: 0.000884560636316972 and parameters: {'hidden_layer_size': 119, 'num_layers': 2, 'lr': 0.00020283730629134004, 'dropout': 0.3335167622736215, 'bidirectional': True}. Best is trial 10 with value: 0.000818473948286204.\n"
          ]
        },
        {
          "name": "stdout",
          "output_type": "stream",
          "text": [
            "Best parameters: {'hidden_layer_size': 241, 'num_layers': 1, 'lr': 0.00010063512681846293, 'dropout': 0.05762019774067895, 'bidirectional': False}\n"
          ]
        }
      ],
      "source": [
        "study = optuna.create_study(direction=\"minimize\")\n",
        "study.optimize(objective_lstm, n_trials=30)\n",
        "\n",
        "print(\"Best parameters:\", study.best_params)"
      ]
    },
    {
      "cell_type": "markdown",
      "id": "e04d84e8",
      "metadata": {},
      "source": [
        "Функция подбора гиперпараметров GRU"
      ]
    },
    {
      "cell_type": "code",
      "execution_count": null,
      "id": "e2087885",
      "metadata": {
        "id": "e2087885"
      },
      "outputs": [],
      "source": [
        "def objective_gru(trial):\n",
        "    hidden_size = trial.suggest_int(\"hidden_layer_size\", 32, 256)\n",
        "    num_layers = trial.suggest_int(\"num_layers\", 1, 3)\n",
        "    learning_rate = trial.suggest_float(\"lr\", 1e-4, 1e-2, log=True)\n",
        "    dropout = trial.suggest_float(\"dropout\", 0.0, 0.5)\n",
        "    bidirectional = trial.suggest_categorical(\"bidirectional\", [True, False])\n",
        "\n",
        "    model = GRUModel(\n",
        "        input_size=1,\n",
        "        hidden_layer_size=hidden_size,\n",
        "        output_size=1,\n",
        "        num_layers=num_layers,\n",
        "        dropout=dropout,\n",
        "        bidirectional=bidirectional\n",
        "    )\n",
        "\n",
        "    optimizer = torch.optim.Adam(model.parameters(), lr=learning_rate)\n",
        "    criterion = nn.MSELoss()\n",
        "\n",
        "    model.train()\n",
        "    for epoch in range(20):\n",
        "        for inputs, labels in train_loader:\n",
        "            inputs, labels = inputs, labels\n",
        "            optimizer.zero_grad()\n",
        "            outputs = model(inputs)\n",
        "            loss = criterion(outputs, labels)\n",
        "            loss.backward()\n",
        "            optimizer.step()\n",
        "\n",
        "    model.eval()\n",
        "    test_loss = 0.0\n",
        "    with torch.no_grad():\n",
        "        for inputs, labels in test_loader:\n",
        "            inputs, labels = inputs, labels\n",
        "            outputs = model(inputs)\n",
        "            loss = criterion(outputs, labels)\n",
        "            test_loss += loss.item()\n",
        "\n",
        "    return test_loss / len(test_loader)\n"
      ]
    },
    {
      "cell_type": "markdown",
      "id": "27668562",
      "metadata": {},
      "source": [
        "Подбор гиперпараметров GRU"
      ]
    },
    {
      "cell_type": "code",
      "execution_count": null,
      "id": "4967d06b",
      "metadata": {
        "colab": {
          "base_uri": "https://localhost:8080/"
        },
        "id": "4967d06b",
        "outputId": "f00ba1dc-2d63-4509-fc61-708058fbfb3f"
      },
      "outputs": [
        {
          "name": "stderr",
          "output_type": "stream",
          "text": [
            "[I 2025-05-04 14:46:59,311] A new study created in memory with name: no-name-b9f3d09e-5ab4-4c5b-b84d-6a7b4983dadd\n",
            "[I 2025-05-04 14:51:26,514] Trial 0 finished with value: 0.0008021432631408218 and parameters: {'hidden_layer_size': 244, 'num_layers': 1, 'lr': 0.002928224156406466, 'dropout': 0.046592022781241305, 'bidirectional': False}. Best is trial 0 with value: 0.0008021432631408218.\n",
            "[I 2025-05-04 15:03:30,083] Trial 1 finished with value: 0.001145184663292984 and parameters: {'hidden_layer_size': 160, 'num_layers': 2, 'lr': 0.003893582343785797, 'dropout': 0.3131404994957654, 'bidirectional': True}. Best is trial 0 with value: 0.0008021432631408218.\n",
            "[I 2025-05-04 15:16:59,355] Trial 2 finished with value: 0.0008221267048141051 and parameters: {'hidden_layer_size': 223, 'num_layers': 3, 'lr': 0.0004609571556194667, 'dropout': 0.21162561926801815, 'bidirectional': False}. Best is trial 0 with value: 0.0008021432631408218.\n",
            "[I 2025-05-04 15:31:21,424] Trial 3 finished with value: 0.0008366814953002051 and parameters: {'hidden_layer_size': 184, 'num_layers': 2, 'lr': 0.00024866845254880037, 'dropout': 0.49273199275329255, 'bidirectional': True}. Best is trial 0 with value: 0.0008021432631408218.\n",
            "[I 2025-05-04 15:32:25,434] Trial 4 finished with value: 0.0007971976422062464 and parameters: {'hidden_layer_size': 35, 'num_layers': 1, 'lr': 0.0005651567475332926, 'dropout': 0.1424205171037647, 'bidirectional': False}. Best is trial 4 with value: 0.0007971976422062464.\n",
            "[I 2025-05-04 15:35:49,228] Trial 5 finished with value: 0.0008395778312315715 and parameters: {'hidden_layer_size': 41, 'num_layers': 3, 'lr': 0.00012047627827344201, 'dropout': 0.09623089247655509, 'bidirectional': False}. Best is trial 4 with value: 0.0007971976422062464.\n",
            "[I 2025-05-04 15:46:14,976] Trial 6 finished with value: 0.000933739505226499 and parameters: {'hidden_layer_size': 255, 'num_layers': 2, 'lr': 0.0010626596167937978, 'dropout': 0.41833918466274983, 'bidirectional': False}. Best is trial 4 with value: 0.0007971976422062464.\n",
            "[I 2025-05-04 15:50:45,823] Trial 7 finished with value: 0.000866781497687294 and parameters: {'hidden_layer_size': 129, 'num_layers': 2, 'lr': 0.00027731819335423337, 'dropout': 0.20897182757735394, 'bidirectional': False}. Best is trial 4 with value: 0.0007971976422062464.\n",
            "[I 2025-05-04 15:57:39,017] Trial 8 finished with value: 0.0013303870319164004 and parameters: {'hidden_layer_size': 36, 'num_layers': 3, 'lr': 0.0020357267879708377, 'dropout': 0.42882925237445485, 'bidirectional': True}. Best is trial 4 with value: 0.0007971976422062464.\n",
            "[I 2025-05-04 16:24:41,484] Trial 9 finished with value: 0.0009263467710015589 and parameters: {'hidden_layer_size': 194, 'num_layers': 3, 'lr': 0.0006263076214267405, 'dropout': 0.1849216270630214, 'bidirectional': True}. Best is trial 4 with value: 0.0007971976422062464.\n",
            "[I 2025-05-04 16:26:09,851] Trial 10 finished with value: 0.0008334467440426093 and parameters: {'hidden_layer_size': 96, 'num_layers': 1, 'lr': 0.0012906354904016343, 'dropout': 0.01586706414608971, 'bidirectional': False}. Best is trial 4 with value: 0.0007971976422062464.\n",
            "[I 2025-05-04 16:27:43,894] Trial 11 finished with value: 0.0008534246579952667 and parameters: {'hidden_layer_size': 94, 'num_layers': 1, 'lr': 0.008120330973796146, 'dropout': 0.0900491357640917, 'bidirectional': False}. Best is trial 4 with value: 0.0007971976422062464.\n",
            "[I 2025-05-04 16:29:08,795] Trial 12 finished with value: 0.0011475853108126543 and parameters: {'hidden_layer_size': 77, 'num_layers': 1, 'lr': 0.0033502102686074685, 'dropout': 0.01480030555190981, 'bidirectional': False}. Best is trial 4 with value: 0.0007971976422062464.\n",
            "[I 2025-05-04 16:31:14,487] Trial 13 finished with value: 0.0037481409240642497 and parameters: {'hidden_layer_size': 137, 'num_layers': 1, 'lr': 0.009425846796911913, 'dropout': 0.11856938531665195, 'bidirectional': False}. Best is trial 4 with value: 0.0007971976422062464.\n",
            "[I 2025-05-04 16:35:20,745] Trial 14 finished with value: 0.0008988234270685192 and parameters: {'hidden_layer_size': 249, 'num_layers': 1, 'lr': 0.0026483746340784865, 'dropout': 0.3084916476906993, 'bidirectional': False}. Best is trial 4 with value: 0.0007971976422062464.\n",
            "[I 2025-05-04 16:38:40,102] Trial 15 finished with value: 0.0009841597659095865 and parameters: {'hidden_layer_size': 213, 'num_layers': 1, 'lr': 0.0006299382004206111, 'dropout': 0.1398090974841658, 'bidirectional': False}. Best is trial 4 with value: 0.0007971976422062464.\n",
            "[I 2025-05-04 16:39:55,924] Trial 16 finished with value: 0.000933543321323292 and parameters: {'hidden_layer_size': 66, 'num_layers': 1, 'lr': 0.00167125099940603, 'dropout': 0.05638763390411729, 'bidirectional': False}. Best is trial 4 with value: 0.0007971976422062464.\n",
            "[I 2025-05-04 16:43:52,489] Trial 17 finished with value: 0.0009297184577886144 and parameters: {'hidden_layer_size': 116, 'num_layers': 2, 'lr': 0.005322238416058522, 'dropout': 0.2787973222163561, 'bidirectional': False}. Best is trial 4 with value: 0.0007971976422062464.\n",
            "[I 2025-05-04 16:48:58,175] Trial 18 finished with value: 0.0007829658640950019 and parameters: {'hidden_layer_size': 170, 'num_layers': 1, 'lr': 0.00012702595787768655, 'dropout': 0.1756996946597152, 'bidirectional': True}. Best is trial 18 with value: 0.0007829658640950019.\n",
            "[I 2025-05-04 17:00:46,692] Trial 19 finished with value: 0.0008380673805669207 and parameters: {'hidden_layer_size': 151, 'num_layers': 2, 'lr': 0.0001149711306381996, 'dropout': 0.17428810226848793, 'bidirectional': True}. Best is trial 18 with value: 0.0007829658640950019.\n",
            "[I 2025-05-04 17:05:55,445] Trial 20 finished with value: 0.0008068854713828528 and parameters: {'hidden_layer_size': 169, 'num_layers': 1, 'lr': 0.00021048724571845175, 'dropout': 0.2398870712400017, 'bidirectional': True}. Best is trial 18 with value: 0.0007829658640950019.\n",
            "[I 2025-05-04 17:13:04,999] Trial 21 finished with value: 0.0009310726700591501 and parameters: {'hidden_layer_size': 225, 'num_layers': 1, 'lr': 0.0004129118713764162, 'dropout': 0.06008169091141542, 'bidirectional': True}. Best is trial 18 with value: 0.0007829658640950019.\n",
            "[I 2025-05-04 17:18:36,255] Trial 22 finished with value: 0.000798749523678923 and parameters: {'hidden_layer_size': 192, 'num_layers': 1, 'lr': 0.00015956934834161275, 'dropout': 0.15023144812907085, 'bidirectional': True}. Best is trial 18 with value: 0.0007829658640950019.\n",
            "[I 2025-05-04 17:24:15,928] Trial 23 finished with value: 0.0008123207843364699 and parameters: {'hidden_layer_size': 186, 'num_layers': 1, 'lr': 0.00016787539669053917, 'dropout': 0.14338708693276211, 'bidirectional': True}. Best is trial 18 with value: 0.0007829658640950019.\n",
            "[I 2025-05-04 17:30:10,115] Trial 24 finished with value: 0.0008324030616144039 and parameters: {'hidden_layer_size': 200, 'num_layers': 1, 'lr': 0.00015582621997173386, 'dropout': 0.16307202245365257, 'bidirectional': True}. Best is trial 18 with value: 0.0007829658640950019.\n",
            "[I 2025-05-04 17:35:27,616] Trial 25 finished with value: 0.0008636078072695768 and parameters: {'hidden_layer_size': 172, 'num_layers': 1, 'lr': 0.00033521653492905157, 'dropout': 0.25221156818987184, 'bidirectional': True}. Best is trial 18 with value: 0.0007829658640950019.\n",
            "[I 2025-05-04 17:44:37,666] Trial 26 finished with value: 0.0009007111536981217 and parameters: {'hidden_layer_size': 122, 'num_layers': 2, 'lr': 0.0007255931137322238, 'dropout': 0.11379063643361678, 'bidirectional': True}. Best is trial 18 with value: 0.0007829658640950019.\n",
            "[I 2025-05-04 17:49:00,802] Trial 27 finished with value: 0.0007887917263674196 and parameters: {'hidden_layer_size': 152, 'num_layers': 1, 'lr': 0.00015144114796717602, 'dropout': 0.20750153912036085, 'bidirectional': True}. Best is trial 18 with value: 0.0007829658640950019.\n",
            "[I 2025-05-04 18:00:27,104] Trial 28 finished with value: 0.0008263588393235515 and parameters: {'hidden_layer_size': 147, 'num_layers': 2, 'lr': 0.00010224188871950798, 'dropout': 0.3519031258669202, 'bidirectional': True}. Best is trial 18 with value: 0.0007829658640950019.\n",
            "[I 2025-05-04 18:04:03,376] Trial 29 finished with value: 0.0008684853051692761 and parameters: {'hidden_layer_size': 111, 'num_layers': 1, 'lr': 0.0003527336353109956, 'dropout': 0.21748311604073092, 'bidirectional': True}. Best is trial 18 with value: 0.0007829658640950019.\n"
          ]
        },
        {
          "name": "stdout",
          "output_type": "stream",
          "text": [
            "Best parameters: {'hidden_layer_size': 170, 'num_layers': 1, 'lr': 0.00012702595787768655, 'dropout': 0.1756996946597152, 'bidirectional': True}\n"
          ]
        }
      ],
      "source": [
        "study = optuna.create_study(direction=\"minimize\")\n",
        "study.optimize(objective_gru, n_trials=30)\n",
        "\n",
        "print(\"Best parameters:\", study.best_params)"
      ]
    },
    {
      "cell_type": "markdown",
      "id": "44d124c6",
      "metadata": {
        "id": "44d124c6"
      },
      "source": [
        "Инициализация моделей"
      ]
    },
    {
      "cell_type": "code",
      "execution_count": null,
      "id": "c444515f",
      "metadata": {
        "id": "c444515f"
      },
      "outputs": [],
      "source": [
        "input_size = 1\n",
        "hidden_layer_size = 50\n",
        "output_size = 1\n",
        "\n",
        "lstm_model = LSTMModel(input_size, output_size=output_size, hidden_layer_size=241, num_layers=1, dropout=0.05762019774067895, bidirectional=False)\n",
        "gru_model = GRUModel(input_size, output_size=output_size, hidden_layer_size=170, num_layers=1, dropout=0.1756996946597152, bidirectional=True)\n",
        "\n",
        "criterion = nn.MSELoss()\n",
        "lstm_optimizer = torch.optim.Adam(lstm_model.parameters(), lr=0.00010063512681846293)\n",
        "gru_optimizer = torch.optim.Adam(gru_model.parameters(), lr=0.00012702595787768655)"
      ]
    },
    {
      "cell_type": "markdown",
      "id": "e80cb8f0",
      "metadata": {
        "id": "e80cb8f0"
      },
      "source": [
        "Функция обучения"
      ]
    },
    {
      "cell_type": "code",
      "execution_count": 9,
      "id": "f2a0c7e6",
      "metadata": {
        "id": "f2a0c7e6"
      },
      "outputs": [],
      "source": [
        "def train_model(model, optimizer, X_train, y_train, epochs=600):\n",
        "    model.train()\n",
        "    for epoch in range(epochs):\n",
        "        output = model(X_train)\n",
        "        loss = criterion(output, y_train.view(-1, 1))\n",
        "        optimizer.zero_grad()\n",
        "        loss.backward()\n",
        "        optimizer.step()"
      ]
    },
    {
      "cell_type": "markdown",
      "id": "a5b3fed5",
      "metadata": {
        "id": "a5b3fed5"
      },
      "source": [
        "Обучение LSTM"
      ]
    },
    {
      "cell_type": "code",
      "execution_count": 10,
      "id": "73176c7f",
      "metadata": {
        "id": "73176c7f"
      },
      "outputs": [],
      "source": [
        "start_time = time.time()\n",
        "train_model(lstm_model, lstm_optimizer, X_train, y_train)\n",
        "lstm_time = time.time() - start_time"
      ]
    },
    {
      "cell_type": "markdown",
      "id": "46efe8db",
      "metadata": {
        "id": "46efe8db"
      },
      "source": [
        "Обучение GRU"
      ]
    },
    {
      "cell_type": "code",
      "execution_count": 11,
      "id": "880dc2de",
      "metadata": {
        "id": "880dc2de"
      },
      "outputs": [],
      "source": [
        "start_time = time.time()\n",
        "train_model(gru_model, gru_optimizer, X_train, y_train)\n",
        "gru_time = time.time() - start_time"
      ]
    },
    {
      "cell_type": "markdown",
      "id": "331a4794",
      "metadata": {
        "id": "331a4794"
      },
      "source": [
        "Прогнозирование и возвращение оригинального масштаба"
      ]
    },
    {
      "cell_type": "code",
      "execution_count": 14,
      "id": "b21de61b",
      "metadata": {
        "id": "b21de61b"
      },
      "outputs": [],
      "source": [
        "def predict(model, X_test):\n",
        "    model.eval()\n",
        "    with torch.no_grad():\n",
        "        predicted = model(X_test)\n",
        "    return predicted\n",
        "\n",
        "lstm_predicted = predict(lstm_model, X_test)\n",
        "gru_predicted = predict(gru_model, X_test)\n",
        "\n",
        "lstm_predicted = scaler.inverse_transform(lstm_predicted.numpy())\n",
        "gru_predicted = scaler.inverse_transform(gru_predicted.numpy())\n",
        "y_test_rescaled = scaler.inverse_transform(y_test.numpy().reshape(-1, 1))"
      ]
    },
    {
      "cell_type": "markdown",
      "id": "88450636",
      "metadata": {
        "id": "88450636"
      },
      "source": [
        "Функция вычисление корреляции"
      ]
    },
    {
      "cell_type": "code",
      "execution_count": null,
      "id": "33d0c560",
      "metadata": {
        "id": "33d0c560"
      },
      "outputs": [],
      "source": [
        "def check_nan(y_true, y_pred):\n",
        "    if np.any(np.isnan(y_true)) or np.any(np.isnan(y_pred)):\n",
        "        print(\"Есть NaN в данных!\")\n",
        "        return True\n",
        "    return False\n",
        "\n",
        "def calculate_correlation(y_true, y_pred):\n",
        "    if check_nan(y_true, y_pred):\n",
        "        return np.nan \n",
        "    y_true = y_true.flatten()\n",
        "    y_pred = y_pred.flatten()\n",
        "    corr, _ = scipy.stats.pearsonr(y_true, y_pred)\n",
        "    return corr"
      ]
    },
    {
      "cell_type": "markdown",
      "id": "e001df86",
      "metadata": {
        "id": "e001df86"
      },
      "source": [
        "Оценка по метрикам"
      ]
    },
    {
      "cell_type": "code",
      "execution_count": 16,
      "id": "76c42c85",
      "metadata": {
        "colab": {
          "base_uri": "https://localhost:8080/"
        },
        "id": "76c42c85",
        "outputId": "0ab48523-3c42-4272-aa08-0ab6e9a1153c"
      },
      "outputs": [
        {
          "name": "stdout",
          "output_type": "stream",
          "text": [
            "LSTM RMSE: 31.08243748359956, MAE: 24.109880447387695, R²: 0.22560328245162964, Correlation: 0.492148756980896\n",
            "GRU RMSE: 31.824012337077622, MAE: 24.896503448486328, R²: 0.1882108449935913, Correlation: 0.5239609479904175\n"
          ]
        }
      ],
      "source": [
        "def evaluate_model(y_true, y_pred):\n",
        "    rmse = np.sqrt(mean_squared_error(y_true, y_pred))\n",
        "    mae = mean_absolute_error(y_true, y_pred)\n",
        "    r2 = r2_score(y_true, y_pred)\n",
        "    correlation = calculate_correlation(y_true, y_pred)\n",
        "    return rmse, mae, r2, correlation\n",
        "\n",
        "lstm_rmse, lstm_mae, lstm_r2, lstm_corr = evaluate_model(y_test_rescaled, lstm_predicted)\n",
        "gru_rmse, gru_mae, gru_r2, gru_corr = evaluate_model(y_test_rescaled, gru_predicted)\n",
        "\n",
        "print(f\"LSTM RMSE: {lstm_rmse}, MAE: {lstm_mae}, R²: {lstm_r2}, Correlation: {lstm_corr}\")\n",
        "print(f\"GRU RMSE: {gru_rmse}, MAE: {gru_mae}, R²: {gru_r2}, Correlation: {gru_corr}\")"
      ]
    },
    {
      "cell_type": "markdown",
      "id": "45bf9600",
      "metadata": {
        "id": "45bf9600"
      },
      "source": [
        "Время на обучение моделей"
      ]
    },
    {
      "cell_type": "code",
      "execution_count": 19,
      "id": "d1815dd9",
      "metadata": {
        "colab": {
          "base_uri": "https://localhost:8080/"
        },
        "id": "d1815dd9",
        "outputId": "9bd9205a-60e5-40f8-bfcd-a666257d18a7"
      },
      "outputs": [
        {
          "name": "stdout",
          "output_type": "stream",
          "text": [
            "Время обучения LSTM: 7763.463284492493 секунд\n"
          ]
        }
      ],
      "source": [
        "print(f\"Время обучения LSTM: {lstm_time} секунд\")"
      ]
    },
    {
      "cell_type": "code",
      "execution_count": 20,
      "id": "7d569703",
      "metadata": {
        "colab": {
          "base_uri": "https://localhost:8080/"
        },
        "id": "7d569703",
        "outputId": "5c6fd763-1459-4c75-83ab-4d192a280088"
      },
      "outputs": [
        {
          "name": "stdout",
          "output_type": "stream",
          "text": [
            "Время обучения GRU: 5991.344755887985 секунд\n"
          ]
        }
      ],
      "source": [
        "print(f\"Время обучения GRU: {gru_time} секунд\")"
      ]
    }
  ],
  "metadata": {
    "colab": {
      "provenance": []
    },
    "kernelspec": {
      "display_name": "Python 3",
      "name": "python3"
    },
    "language_info": {
      "codemirror_mode": {
        "name": "ipython",
        "version": 3
      },
      "file_extension": ".py",
      "mimetype": "text/x-python",
      "name": "python",
      "nbconvert_exporter": "python",
      "pygments_lexer": "ipython3",
      "version": "3.9.18"
    }
  },
  "nbformat": 4,
  "nbformat_minor": 5
}
